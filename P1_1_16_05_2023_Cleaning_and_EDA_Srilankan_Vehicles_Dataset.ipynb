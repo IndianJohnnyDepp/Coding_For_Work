{
  "nbformat": 4,
  "nbformat_minor": 0,
  "metadata": {
    "colab": {
      "provenance": [],
      "collapsed_sections": [
        "lXnxThYU6jNo",
        "BTzufmuv6B2I",
        "q7fesYN7FJu-",
        "rG5p18jTL9SJ",
        "XqE3YAjcMFBc",
        "wHUo5qWAPTYo",
        "di8rUy5gTrsN",
        "rEeKwlsLwwxK",
        "At8OgtIscAK4",
        "3c32WmCNZKzu",
        "KWCAFyIna3cZ",
        "MEIrPP0av6tU",
        "E5DuW_0U53j-",
        "VWwPAp5ZM89K",
        "mtUXKzEFWXy3",
        "3DFuppfglZ3z",
        "omJqYGT3zbIw",
        "tt8RoSFl4_OX",
        "o-ejXaVULXm7",
        "AvXF0zs2Kjh-"
      ],
      "authorship_tag": "ABX9TyPwmR0Mq4E89m0PIwA7K48+"
    },
    "kernelspec": {
      "name": "python3",
      "display_name": "Python 3"
    },
    "language_info": {
      "name": "python"
    }
  },
  "cells": [
    {
      "cell_type": "markdown",
      "source": [
        "# **1. Import Libraries**\n",
        "---"
      ],
      "metadata": {
        "id": "lXnxThYU6jNo"
      }
    },
    {
      "cell_type": "code",
      "source": [
        "import numpy as np # linear algebra\n",
        "import pandas as pd # data processing, CSV file I/O (e.g. pd.read_csv)\n",
        "import seaborn as sns\n",
        "import matplotlib.pyplot as plt\n",
        "from matplotlib.figure import Figure\n",
        "from mpl_toolkits.mplot3d import Axes3D\n",
        "from matplotlib.colors import ListedColormap"
      ],
      "metadata": {
        "id": "Re6yA-806rWK"
      },
      "execution_count": null,
      "outputs": []
    },
    {
      "cell_type": "markdown",
      "source": [
        "\n",
        "# **2. Read data**\n",
        "---"
      ],
      "metadata": {
        "id": "BTzufmuv6B2I"
      }
    },
    {
      "cell_type": "code",
      "source": [
        "from google.colab import drive\n",
        "drive.mount(\"/content/drive\")"
      ],
      "metadata": {
        "id": "Eye45FSo0u5u",
        "colab": {
          "base_uri": "https://localhost:8080/"
        },
        "outputId": "39a0ae09-fae5-45f5-993f-1fab1c4e5a0d"
      },
      "execution_count": null,
      "outputs": [
        {
          "output_type": "stream",
          "name": "stdout",
          "text": [
            "Drive already mounted at /content/drive; to attempt to forcibly remount, call drive.mount(\"/content/drive\", force_remount=True).\n"
          ]
        }
      ]
    },
    {
      "cell_type": "code",
      "source": [
        "link = \"/content/drive/MyDrive/Datasets and Codebooks/Srilankan VPP/vehicle_data.csv\""
      ],
      "metadata": {
        "id": "qRgpvrZ368h_"
      },
      "execution_count": null,
      "outputs": []
    },
    {
      "cell_type": "code",
      "source": [
        "df = pd.read_csv(link)"
      ],
      "metadata": {
        "colab": {
          "base_uri": "https://localhost:8080/"
        },
        "id": "u1XDXGnZ8CE4",
        "outputId": "2eb9e30c-b305-4ac6-8017-cafd716c10da"
      },
      "execution_count": null,
      "outputs": [
        {
          "output_type": "stream",
          "name": "stderr",
          "text": [
            "<ipython-input-228-d013d2177263>:1: DtypeWarning: Columns (5) have mixed types. Specify dtype option on import or set low_memory=False.\n",
            "  df = pd.read_csv(link)\n"
          ]
        }
      ]
    },
    {
      "cell_type": "markdown",
      "source": [
        "# **3. Dataframe basic checks**\n",
        "---\n"
      ],
      "metadata": {
        "id": "q7fesYN7FJu-"
      }
    },
    {
      "cell_type": "code",
      "source": [
        "df.head()"
      ],
      "metadata": {
        "id": "FQ7IHj5fAlCP",
        "colab": {
          "base_uri": "https://localhost:8080/",
          "height": 704
        },
        "outputId": "111a1564-ee1d-4376-e247-b30da2535236"
      },
      "execution_count": null,
      "outputs": [
        {
          "output_type": "execute_result",
          "data": {
            "text/plain": [
              "                                      Title  \\\n",
              "0         Honda Vezel Limited 2017 for sale   \n",
              "1      Jaguar XF Fully Loaded 2013 for sale   \n",
              "2  Toyota CHR GT New Face 2wd 2020 for sale   \n",
              "3           Toyota CHR Toyato 2017 for sale   \n",
              "4   Toyota Land Cruiser Prado 2015 for sale   \n",
              "\n",
              "                                           Sub_title          Price   Brand  \\\n",
              "0  Posted on 01 Sep 2:45 pm, Kurunegala City, Kur...  Rs 12,900,000   Honda   \n",
              "1  Posted on 28 Sep 10:23 am, Kurunegala City, Ku...  Rs 16,250,000  Jaguar   \n",
              "2       Posted on 16 Sep 1:16 pm, Colombo 7, Colombo  Rs 17,000,000  Toyota   \n",
              "3      Posted on 30 Sep 10:12 am, Colombo 7, Colombo  Rs 13,000,000  Toyota   \n",
              "4        Posted on 30 Sep 9:50 pm, Kelaniya, Gampaha  Rs 33,500,000  Toyota   \n",
              "\n",
              "                Model          Edition  Year Condition Transmission  \\\n",
              "0               Vezel          Limited  2017      Used    Automatic   \n",
              "1                  XF     Fully Loaded  2013      Used    Automatic   \n",
              "2                 CHR  GT New Face 2wd  2020      Used    Automatic   \n",
              "3                 CHR           Toyato  2017      Used    Automatic   \n",
              "4  Land Cruiser Prado            prado  2015      Used    Automatic   \n",
              "\n",
              "        Body    Fuel  Capacity    Mileage                       Location  \\\n",
              "0  SUV / 4x4  Hybrid  1,500 cc  37,000 km   Kurunegala City,  Kurunegala   \n",
              "1     Saloon  Diesel  2,200 cc  42,000 km   Kurunegala City,  Kurunegala   \n",
              "2  SUV / 4x4  Petrol  1,200 cc  15,000 km            Colombo 7,  Colombo   \n",
              "3  SUV / 4x4  Petrol  1,200 cc  21,000 km            Colombo 7,  Colombo   \n",
              "4  SUV / 4x4  Petrol  2,700 cc  57,000 km             Kelaniya,  Gampaha   \n",
              "\n",
              "                                         Description  \\\n",
              "0  HONDA VEZEL LIMITEDCBE-XXXXMANU YEAR : 2017LIM...   \n",
              "1  1st owner(registered owner)Diesel(13-14km per ...   \n",
              "2  2020 Facelift modelFirst owner (No previous ow...   \n",
              "3  Toyota CHR GT Turbo1st owner Imported as a bra...   \n",
              "4  Toyota Land Cruiser Prado 20152 nd Owner for 5...   \n",
              "\n",
              "                                            Post_URL          Seller_name  \\\n",
              "0  https://ikman.lk/en/ad/honda-vezel-limited-201...   Prasad Enterprises   \n",
              "1  https://ikman.lk/en/ad/jaguar-xf-fully-loaded-...  Dhanushka Dharmasri   \n",
              "2  https://ikman.lk/en/ad/toyota-chr-gt-new-face-...        Carzone Lanka   \n",
              "3  https://ikman.lk/en/ad/toyota-chr-toyato-2017-...        Carzone Lanka   \n",
              "4  https://ikman.lk/en/ad/toyota-land-cruiser-pra...   Shine Music Center   \n",
              "\n",
              "      Seller_type       published_date  \n",
              "0  Premium-Member  2022-09-01 14:45:00  \n",
              "1          Member  2022-09-28 10:23:00  \n",
              "2          Member  2022-09-16 13:16:00  \n",
              "3          Member  2022-09-30 10:12:00  \n",
              "4          Member  2022-09-30 21:50:00  "
            ],
            "text/html": [
              "\n",
              "  <div id=\"df-6418be13-46e5-4696-9fca-be6034e1a5e1\">\n",
              "    <div class=\"colab-df-container\">\n",
              "      <div>\n",
              "<style scoped>\n",
              "    .dataframe tbody tr th:only-of-type {\n",
              "        vertical-align: middle;\n",
              "    }\n",
              "\n",
              "    .dataframe tbody tr th {\n",
              "        vertical-align: top;\n",
              "    }\n",
              "\n",
              "    .dataframe thead th {\n",
              "        text-align: right;\n",
              "    }\n",
              "</style>\n",
              "<table border=\"1\" class=\"dataframe\">\n",
              "  <thead>\n",
              "    <tr style=\"text-align: right;\">\n",
              "      <th></th>\n",
              "      <th>Title</th>\n",
              "      <th>Sub_title</th>\n",
              "      <th>Price</th>\n",
              "      <th>Brand</th>\n",
              "      <th>Model</th>\n",
              "      <th>Edition</th>\n",
              "      <th>Year</th>\n",
              "      <th>Condition</th>\n",
              "      <th>Transmission</th>\n",
              "      <th>Body</th>\n",
              "      <th>Fuel</th>\n",
              "      <th>Capacity</th>\n",
              "      <th>Mileage</th>\n",
              "      <th>Location</th>\n",
              "      <th>Description</th>\n",
              "      <th>Post_URL</th>\n",
              "      <th>Seller_name</th>\n",
              "      <th>Seller_type</th>\n",
              "      <th>published_date</th>\n",
              "    </tr>\n",
              "  </thead>\n",
              "  <tbody>\n",
              "    <tr>\n",
              "      <th>0</th>\n",
              "      <td>Honda Vezel Limited 2017 for sale</td>\n",
              "      <td>Posted on 01 Sep 2:45 pm, Kurunegala City, Kur...</td>\n",
              "      <td>Rs 12,900,000</td>\n",
              "      <td>Honda</td>\n",
              "      <td>Vezel</td>\n",
              "      <td>Limited</td>\n",
              "      <td>2017</td>\n",
              "      <td>Used</td>\n",
              "      <td>Automatic</td>\n",
              "      <td>SUV / 4x4</td>\n",
              "      <td>Hybrid</td>\n",
              "      <td>1,500 cc</td>\n",
              "      <td>37,000 km</td>\n",
              "      <td>Kurunegala City,  Kurunegala</td>\n",
              "      <td>HONDA VEZEL LIMITEDCBE-XXXXMANU YEAR : 2017LIM...</td>\n",
              "      <td>https://ikman.lk/en/ad/honda-vezel-limited-201...</td>\n",
              "      <td>Prasad Enterprises</td>\n",
              "      <td>Premium-Member</td>\n",
              "      <td>2022-09-01 14:45:00</td>\n",
              "    </tr>\n",
              "    <tr>\n",
              "      <th>1</th>\n",
              "      <td>Jaguar XF Fully Loaded 2013 for sale</td>\n",
              "      <td>Posted on 28 Sep 10:23 am, Kurunegala City, Ku...</td>\n",
              "      <td>Rs 16,250,000</td>\n",
              "      <td>Jaguar</td>\n",
              "      <td>XF</td>\n",
              "      <td>Fully Loaded</td>\n",
              "      <td>2013</td>\n",
              "      <td>Used</td>\n",
              "      <td>Automatic</td>\n",
              "      <td>Saloon</td>\n",
              "      <td>Diesel</td>\n",
              "      <td>2,200 cc</td>\n",
              "      <td>42,000 km</td>\n",
              "      <td>Kurunegala City,  Kurunegala</td>\n",
              "      <td>1st owner(registered owner)Diesel(13-14km per ...</td>\n",
              "      <td>https://ikman.lk/en/ad/jaguar-xf-fully-loaded-...</td>\n",
              "      <td>Dhanushka Dharmasri</td>\n",
              "      <td>Member</td>\n",
              "      <td>2022-09-28 10:23:00</td>\n",
              "    </tr>\n",
              "    <tr>\n",
              "      <th>2</th>\n",
              "      <td>Toyota CHR GT New Face 2wd 2020 for sale</td>\n",
              "      <td>Posted on 16 Sep 1:16 pm, Colombo 7, Colombo</td>\n",
              "      <td>Rs 17,000,000</td>\n",
              "      <td>Toyota</td>\n",
              "      <td>CHR</td>\n",
              "      <td>GT New Face 2wd</td>\n",
              "      <td>2020</td>\n",
              "      <td>Used</td>\n",
              "      <td>Automatic</td>\n",
              "      <td>SUV / 4x4</td>\n",
              "      <td>Petrol</td>\n",
              "      <td>1,200 cc</td>\n",
              "      <td>15,000 km</td>\n",
              "      <td>Colombo 7,  Colombo</td>\n",
              "      <td>2020 Facelift modelFirst owner (No previous ow...</td>\n",
              "      <td>https://ikman.lk/en/ad/toyota-chr-gt-new-face-...</td>\n",
              "      <td>Carzone Lanka</td>\n",
              "      <td>Member</td>\n",
              "      <td>2022-09-16 13:16:00</td>\n",
              "    </tr>\n",
              "    <tr>\n",
              "      <th>3</th>\n",
              "      <td>Toyota CHR Toyato 2017 for sale</td>\n",
              "      <td>Posted on 30 Sep 10:12 am, Colombo 7, Colombo</td>\n",
              "      <td>Rs 13,000,000</td>\n",
              "      <td>Toyota</td>\n",
              "      <td>CHR</td>\n",
              "      <td>Toyato</td>\n",
              "      <td>2017</td>\n",
              "      <td>Used</td>\n",
              "      <td>Automatic</td>\n",
              "      <td>SUV / 4x4</td>\n",
              "      <td>Petrol</td>\n",
              "      <td>1,200 cc</td>\n",
              "      <td>21,000 km</td>\n",
              "      <td>Colombo 7,  Colombo</td>\n",
              "      <td>Toyota CHR GT Turbo1st owner Imported as a bra...</td>\n",
              "      <td>https://ikman.lk/en/ad/toyota-chr-toyato-2017-...</td>\n",
              "      <td>Carzone Lanka</td>\n",
              "      <td>Member</td>\n",
              "      <td>2022-09-30 10:12:00</td>\n",
              "    </tr>\n",
              "    <tr>\n",
              "      <th>4</th>\n",
              "      <td>Toyota Land Cruiser Prado 2015 for sale</td>\n",
              "      <td>Posted on 30 Sep 9:50 pm, Kelaniya, Gampaha</td>\n",
              "      <td>Rs 33,500,000</td>\n",
              "      <td>Toyota</td>\n",
              "      <td>Land Cruiser Prado</td>\n",
              "      <td>prado</td>\n",
              "      <td>2015</td>\n",
              "      <td>Used</td>\n",
              "      <td>Automatic</td>\n",
              "      <td>SUV / 4x4</td>\n",
              "      <td>Petrol</td>\n",
              "      <td>2,700 cc</td>\n",
              "      <td>57,000 km</td>\n",
              "      <td>Kelaniya,  Gampaha</td>\n",
              "      <td>Toyota Land Cruiser Prado 20152 nd Owner for 5...</td>\n",
              "      <td>https://ikman.lk/en/ad/toyota-land-cruiser-pra...</td>\n",
              "      <td>Shine Music Center</td>\n",
              "      <td>Member</td>\n",
              "      <td>2022-09-30 21:50:00</td>\n",
              "    </tr>\n",
              "  </tbody>\n",
              "</table>\n",
              "</div>\n",
              "      <button class=\"colab-df-convert\" onclick=\"convertToInteractive('df-6418be13-46e5-4696-9fca-be6034e1a5e1')\"\n",
              "              title=\"Convert this dataframe to an interactive table.\"\n",
              "              style=\"display:none;\">\n",
              "        \n",
              "  <svg xmlns=\"http://www.w3.org/2000/svg\" height=\"24px\"viewBox=\"0 0 24 24\"\n",
              "       width=\"24px\">\n",
              "    <path d=\"M0 0h24v24H0V0z\" fill=\"none\"/>\n",
              "    <path d=\"M18.56 5.44l.94 2.06.94-2.06 2.06-.94-2.06-.94-.94-2.06-.94 2.06-2.06.94zm-11 1L8.5 8.5l.94-2.06 2.06-.94-2.06-.94L8.5 2.5l-.94 2.06-2.06.94zm10 10l.94 2.06.94-2.06 2.06-.94-2.06-.94-.94-2.06-.94 2.06-2.06.94z\"/><path d=\"M17.41 7.96l-1.37-1.37c-.4-.4-.92-.59-1.43-.59-.52 0-1.04.2-1.43.59L10.3 9.45l-7.72 7.72c-.78.78-.78 2.05 0 2.83L4 21.41c.39.39.9.59 1.41.59.51 0 1.02-.2 1.41-.59l7.78-7.78 2.81-2.81c.8-.78.8-2.07 0-2.86zM5.41 20L4 18.59l7.72-7.72 1.47 1.35L5.41 20z\"/>\n",
              "  </svg>\n",
              "      </button>\n",
              "      \n",
              "  <style>\n",
              "    .colab-df-container {\n",
              "      display:flex;\n",
              "      flex-wrap:wrap;\n",
              "      gap: 12px;\n",
              "    }\n",
              "\n",
              "    .colab-df-convert {\n",
              "      background-color: #E8F0FE;\n",
              "      border: none;\n",
              "      border-radius: 50%;\n",
              "      cursor: pointer;\n",
              "      display: none;\n",
              "      fill: #1967D2;\n",
              "      height: 32px;\n",
              "      padding: 0 0 0 0;\n",
              "      width: 32px;\n",
              "    }\n",
              "\n",
              "    .colab-df-convert:hover {\n",
              "      background-color: #E2EBFA;\n",
              "      box-shadow: 0px 1px 2px rgba(60, 64, 67, 0.3), 0px 1px 3px 1px rgba(60, 64, 67, 0.15);\n",
              "      fill: #174EA6;\n",
              "    }\n",
              "\n",
              "    [theme=dark] .colab-df-convert {\n",
              "      background-color: #3B4455;\n",
              "      fill: #D2E3FC;\n",
              "    }\n",
              "\n",
              "    [theme=dark] .colab-df-convert:hover {\n",
              "      background-color: #434B5C;\n",
              "      box-shadow: 0px 1px 3px 1px rgba(0, 0, 0, 0.15);\n",
              "      filter: drop-shadow(0px 1px 2px rgba(0, 0, 0, 0.3));\n",
              "      fill: #FFFFFF;\n",
              "    }\n",
              "  </style>\n",
              "\n",
              "      <script>\n",
              "        const buttonEl =\n",
              "          document.querySelector('#df-6418be13-46e5-4696-9fca-be6034e1a5e1 button.colab-df-convert');\n",
              "        buttonEl.style.display =\n",
              "          google.colab.kernel.accessAllowed ? 'block' : 'none';\n",
              "\n",
              "        async function convertToInteractive(key) {\n",
              "          const element = document.querySelector('#df-6418be13-46e5-4696-9fca-be6034e1a5e1');\n",
              "          const dataTable =\n",
              "            await google.colab.kernel.invokeFunction('convertToInteractive',\n",
              "                                                     [key], {});\n",
              "          if (!dataTable) return;\n",
              "\n",
              "          const docLinkHtml = 'Like what you see? Visit the ' +\n",
              "            '<a target=\"_blank\" href=https://colab.research.google.com/notebooks/data_table.ipynb>data table notebook</a>'\n",
              "            + ' to learn more about interactive tables.';\n",
              "          element.innerHTML = '';\n",
              "          dataTable['output_type'] = 'display_data';\n",
              "          await google.colab.output.renderOutput(dataTable, element);\n",
              "          const docLink = document.createElement('div');\n",
              "          docLink.innerHTML = docLinkHtml;\n",
              "          element.appendChild(docLink);\n",
              "        }\n",
              "      </script>\n",
              "    </div>\n",
              "  </div>\n",
              "  "
            ]
          },
          "metadata": {},
          "execution_count": 229
        }
      ]
    },
    {
      "cell_type": "code",
      "source": [
        "df.tail()"
      ],
      "metadata": {
        "colab": {
          "base_uri": "https://localhost:8080/",
          "height": 617
        },
        "id": "LOENIyXwBiYj",
        "outputId": "68d4c081-b7ca-480e-9abe-64880d4cab46"
      },
      "execution_count": null,
      "outputs": [
        {
          "output_type": "execute_result",
          "data": {
            "text/plain": [
              "                         Title  \\\n",
              "123966  Honda Insight Ze3 2012   \n",
              "123967   HINO Dutro 2011 Lorry   \n",
              "123968     TVS King 2017 Three   \n",
              "123969        Toyota Vitz 2018   \n",
              "123970        Suzuki Alto 2015   \n",
              "\n",
              "                                                Sub_title           Price  \\\n",
              "123966   Posted by Duminda on 2021-11-04 11:41 pm, Ja-Ela   Rs. 6,500,000   \n",
              "123967    Posted by Areej on 2021-11-04 11:39 pm, Colombo   Rs. 5,850,000   \n",
              "123968    Posted by Safan on 2021-11-04 11:38 pm, Colombo     Rs. 480,000   \n",
              "123969  Posted by Sampath Kodithuwakku on 2021-11-04 1...   Rs. 6,975,000   \n",
              "123970     Posted by Seller on 2021-11-04 11:37 pm, Kandy   Rs. 2,625,000   \n",
              "\n",
              "         Brand        Model Edition  Year    Condition Transmission  \\\n",
              "123966   Honda  Insight Ze3     NaN  2012         Used    Automatic   \n",
              "123967    HINO        Dutro     NaN  2011  Recondition       Manual   \n",
              "123968     TVS         King     NaN  2017         Used       Manual   \n",
              "123969  Toyota         Vitz     NaN  2018         Used    Automatic   \n",
              "123970  Suzuki         Alto     NaN  2015         Used       Manual   \n",
              "\n",
              "                Body    Fuel Capacity Mileage   Location  \\\n",
              "123966           Car  Hybrid     1500  122000     Ja-Ela   \n",
              "123967  Unregistered  Diesel     4000  300000    Colombo   \n",
              "123968   Three Wheel  Petrol       90   10000    Colombo   \n",
              "123969           Car  Petrol     1000   31000   Tangalle   \n",
              "123970           Car  Petrol      800   53000      Kandy   \n",
              "\n",
              "                                              Description  \\\n",
              "123966  AIR CONDITION, POWER STEERING, POWER MIRROR, P...   \n",
              "123967  AIR CONDITION, POWER STEERING, POWER MIRROR, P...   \n",
              "123968                                                  -   \n",
              "123969  AIR CONDITION, POWER STEERING, POWER MIRROR, P...   \n",
              "123970           POWER STEERING,POWER MIRROR,POWER WINDOW   \n",
              "\n",
              "                                                 Post_URL  \\\n",
              "123966  https://riyasewana.com/buy/honda-insight-ze3-s...   \n",
              "123967  https://riyasewana.com/buy/hino-dutro-sale-col...   \n",
              "123968  https://riyasewana.com/buy/tvs-king-sale-colom...   \n",
              "123969  https://riyasewana.com/buy/toyota-vitz-sale-ta...   \n",
              "123970  https://riyasewana.com/buy/suzuki-alto-sale-ka...   \n",
              "\n",
              "                 Seller_name Seller_type       published_date  \n",
              "123966               Duminda      Member  2021-11-04 23:41:00  \n",
              "123967                 Areej      Member  2021-11-04 23:39:00  \n",
              "123968                 Safan      Member  2021-11-04 23:38:00  \n",
              "123969  Sampath Kodithuwakku      Member  2021-11-04 23:38:00  \n",
              "123970                Seller      Member  2021-11-04 23:37:00  "
            ],
            "text/html": [
              "\n",
              "  <div id=\"df-08220969-bcc0-49a5-a711-8b889b0a462d\">\n",
              "    <div class=\"colab-df-container\">\n",
              "      <div>\n",
              "<style scoped>\n",
              "    .dataframe tbody tr th:only-of-type {\n",
              "        vertical-align: middle;\n",
              "    }\n",
              "\n",
              "    .dataframe tbody tr th {\n",
              "        vertical-align: top;\n",
              "    }\n",
              "\n",
              "    .dataframe thead th {\n",
              "        text-align: right;\n",
              "    }\n",
              "</style>\n",
              "<table border=\"1\" class=\"dataframe\">\n",
              "  <thead>\n",
              "    <tr style=\"text-align: right;\">\n",
              "      <th></th>\n",
              "      <th>Title</th>\n",
              "      <th>Sub_title</th>\n",
              "      <th>Price</th>\n",
              "      <th>Brand</th>\n",
              "      <th>Model</th>\n",
              "      <th>Edition</th>\n",
              "      <th>Year</th>\n",
              "      <th>Condition</th>\n",
              "      <th>Transmission</th>\n",
              "      <th>Body</th>\n",
              "      <th>Fuel</th>\n",
              "      <th>Capacity</th>\n",
              "      <th>Mileage</th>\n",
              "      <th>Location</th>\n",
              "      <th>Description</th>\n",
              "      <th>Post_URL</th>\n",
              "      <th>Seller_name</th>\n",
              "      <th>Seller_type</th>\n",
              "      <th>published_date</th>\n",
              "    </tr>\n",
              "  </thead>\n",
              "  <tbody>\n",
              "    <tr>\n",
              "      <th>123966</th>\n",
              "      <td>Honda Insight Ze3 2012</td>\n",
              "      <td>Posted by Duminda on 2021-11-04 11:41 pm, Ja-Ela</td>\n",
              "      <td>Rs. 6,500,000</td>\n",
              "      <td>Honda</td>\n",
              "      <td>Insight Ze3</td>\n",
              "      <td>NaN</td>\n",
              "      <td>2012</td>\n",
              "      <td>Used</td>\n",
              "      <td>Automatic</td>\n",
              "      <td>Car</td>\n",
              "      <td>Hybrid</td>\n",
              "      <td>1500</td>\n",
              "      <td>122000</td>\n",
              "      <td>Ja-Ela</td>\n",
              "      <td>AIR CONDITION, POWER STEERING, POWER MIRROR, P...</td>\n",
              "      <td>https://riyasewana.com/buy/honda-insight-ze3-s...</td>\n",
              "      <td>Duminda</td>\n",
              "      <td>Member</td>\n",
              "      <td>2021-11-04 23:41:00</td>\n",
              "    </tr>\n",
              "    <tr>\n",
              "      <th>123967</th>\n",
              "      <td>HINO Dutro 2011 Lorry</td>\n",
              "      <td>Posted by Areej on 2021-11-04 11:39 pm, Colombo</td>\n",
              "      <td>Rs. 5,850,000</td>\n",
              "      <td>HINO</td>\n",
              "      <td>Dutro</td>\n",
              "      <td>NaN</td>\n",
              "      <td>2011</td>\n",
              "      <td>Recondition</td>\n",
              "      <td>Manual</td>\n",
              "      <td>Unregistered</td>\n",
              "      <td>Diesel</td>\n",
              "      <td>4000</td>\n",
              "      <td>300000</td>\n",
              "      <td>Colombo</td>\n",
              "      <td>AIR CONDITION, POWER STEERING, POWER MIRROR, P...</td>\n",
              "      <td>https://riyasewana.com/buy/hino-dutro-sale-col...</td>\n",
              "      <td>Areej</td>\n",
              "      <td>Member</td>\n",
              "      <td>2021-11-04 23:39:00</td>\n",
              "    </tr>\n",
              "    <tr>\n",
              "      <th>123968</th>\n",
              "      <td>TVS King 2017 Three</td>\n",
              "      <td>Posted by Safan on 2021-11-04 11:38 pm, Colombo</td>\n",
              "      <td>Rs. 480,000</td>\n",
              "      <td>TVS</td>\n",
              "      <td>King</td>\n",
              "      <td>NaN</td>\n",
              "      <td>2017</td>\n",
              "      <td>Used</td>\n",
              "      <td>Manual</td>\n",
              "      <td>Three Wheel</td>\n",
              "      <td>Petrol</td>\n",
              "      <td>90</td>\n",
              "      <td>10000</td>\n",
              "      <td>Colombo</td>\n",
              "      <td>-</td>\n",
              "      <td>https://riyasewana.com/buy/tvs-king-sale-colom...</td>\n",
              "      <td>Safan</td>\n",
              "      <td>Member</td>\n",
              "      <td>2021-11-04 23:38:00</td>\n",
              "    </tr>\n",
              "    <tr>\n",
              "      <th>123969</th>\n",
              "      <td>Toyota Vitz 2018</td>\n",
              "      <td>Posted by Sampath Kodithuwakku on 2021-11-04 1...</td>\n",
              "      <td>Rs. 6,975,000</td>\n",
              "      <td>Toyota</td>\n",
              "      <td>Vitz</td>\n",
              "      <td>NaN</td>\n",
              "      <td>2018</td>\n",
              "      <td>Used</td>\n",
              "      <td>Automatic</td>\n",
              "      <td>Car</td>\n",
              "      <td>Petrol</td>\n",
              "      <td>1000</td>\n",
              "      <td>31000</td>\n",
              "      <td>Tangalle</td>\n",
              "      <td>AIR CONDITION, POWER STEERING, POWER MIRROR, P...</td>\n",
              "      <td>https://riyasewana.com/buy/toyota-vitz-sale-ta...</td>\n",
              "      <td>Sampath Kodithuwakku</td>\n",
              "      <td>Member</td>\n",
              "      <td>2021-11-04 23:38:00</td>\n",
              "    </tr>\n",
              "    <tr>\n",
              "      <th>123970</th>\n",
              "      <td>Suzuki Alto 2015</td>\n",
              "      <td>Posted by Seller on 2021-11-04 11:37 pm, Kandy</td>\n",
              "      <td>Rs. 2,625,000</td>\n",
              "      <td>Suzuki</td>\n",
              "      <td>Alto</td>\n",
              "      <td>NaN</td>\n",
              "      <td>2015</td>\n",
              "      <td>Used</td>\n",
              "      <td>Manual</td>\n",
              "      <td>Car</td>\n",
              "      <td>Petrol</td>\n",
              "      <td>800</td>\n",
              "      <td>53000</td>\n",
              "      <td>Kandy</td>\n",
              "      <td>POWER STEERING,POWER MIRROR,POWER WINDOW</td>\n",
              "      <td>https://riyasewana.com/buy/suzuki-alto-sale-ka...</td>\n",
              "      <td>Seller</td>\n",
              "      <td>Member</td>\n",
              "      <td>2021-11-04 23:37:00</td>\n",
              "    </tr>\n",
              "  </tbody>\n",
              "</table>\n",
              "</div>\n",
              "      <button class=\"colab-df-convert\" onclick=\"convertToInteractive('df-08220969-bcc0-49a5-a711-8b889b0a462d')\"\n",
              "              title=\"Convert this dataframe to an interactive table.\"\n",
              "              style=\"display:none;\">\n",
              "        \n",
              "  <svg xmlns=\"http://www.w3.org/2000/svg\" height=\"24px\"viewBox=\"0 0 24 24\"\n",
              "       width=\"24px\">\n",
              "    <path d=\"M0 0h24v24H0V0z\" fill=\"none\"/>\n",
              "    <path d=\"M18.56 5.44l.94 2.06.94-2.06 2.06-.94-2.06-.94-.94-2.06-.94 2.06-2.06.94zm-11 1L8.5 8.5l.94-2.06 2.06-.94-2.06-.94L8.5 2.5l-.94 2.06-2.06.94zm10 10l.94 2.06.94-2.06 2.06-.94-2.06-.94-.94-2.06-.94 2.06-2.06.94z\"/><path d=\"M17.41 7.96l-1.37-1.37c-.4-.4-.92-.59-1.43-.59-.52 0-1.04.2-1.43.59L10.3 9.45l-7.72 7.72c-.78.78-.78 2.05 0 2.83L4 21.41c.39.39.9.59 1.41.59.51 0 1.02-.2 1.41-.59l7.78-7.78 2.81-2.81c.8-.78.8-2.07 0-2.86zM5.41 20L4 18.59l7.72-7.72 1.47 1.35L5.41 20z\"/>\n",
              "  </svg>\n",
              "      </button>\n",
              "      \n",
              "  <style>\n",
              "    .colab-df-container {\n",
              "      display:flex;\n",
              "      flex-wrap:wrap;\n",
              "      gap: 12px;\n",
              "    }\n",
              "\n",
              "    .colab-df-convert {\n",
              "      background-color: #E8F0FE;\n",
              "      border: none;\n",
              "      border-radius: 50%;\n",
              "      cursor: pointer;\n",
              "      display: none;\n",
              "      fill: #1967D2;\n",
              "      height: 32px;\n",
              "      padding: 0 0 0 0;\n",
              "      width: 32px;\n",
              "    }\n",
              "\n",
              "    .colab-df-convert:hover {\n",
              "      background-color: #E2EBFA;\n",
              "      box-shadow: 0px 1px 2px rgba(60, 64, 67, 0.3), 0px 1px 3px 1px rgba(60, 64, 67, 0.15);\n",
              "      fill: #174EA6;\n",
              "    }\n",
              "\n",
              "    [theme=dark] .colab-df-convert {\n",
              "      background-color: #3B4455;\n",
              "      fill: #D2E3FC;\n",
              "    }\n",
              "\n",
              "    [theme=dark] .colab-df-convert:hover {\n",
              "      background-color: #434B5C;\n",
              "      box-shadow: 0px 1px 3px 1px rgba(0, 0, 0, 0.15);\n",
              "      filter: drop-shadow(0px 1px 2px rgba(0, 0, 0, 0.3));\n",
              "      fill: #FFFFFF;\n",
              "    }\n",
              "  </style>\n",
              "\n",
              "      <script>\n",
              "        const buttonEl =\n",
              "          document.querySelector('#df-08220969-bcc0-49a5-a711-8b889b0a462d button.colab-df-convert');\n",
              "        buttonEl.style.display =\n",
              "          google.colab.kernel.accessAllowed ? 'block' : 'none';\n",
              "\n",
              "        async function convertToInteractive(key) {\n",
              "          const element = document.querySelector('#df-08220969-bcc0-49a5-a711-8b889b0a462d');\n",
              "          const dataTable =\n",
              "            await google.colab.kernel.invokeFunction('convertToInteractive',\n",
              "                                                     [key], {});\n",
              "          if (!dataTable) return;\n",
              "\n",
              "          const docLinkHtml = 'Like what you see? Visit the ' +\n",
              "            '<a target=\"_blank\" href=https://colab.research.google.com/notebooks/data_table.ipynb>data table notebook</a>'\n",
              "            + ' to learn more about interactive tables.';\n",
              "          element.innerHTML = '';\n",
              "          dataTable['output_type'] = 'display_data';\n",
              "          await google.colab.output.renderOutput(dataTable, element);\n",
              "          const docLink = document.createElement('div');\n",
              "          docLink.innerHTML = docLinkHtml;\n",
              "          element.appendChild(docLink);\n",
              "        }\n",
              "      </script>\n",
              "    </div>\n",
              "  </div>\n",
              "  "
            ]
          },
          "metadata": {},
          "execution_count": 230
        }
      ]
    },
    {
      "cell_type": "code",
      "source": [
        "df.shape"
      ],
      "metadata": {
        "colab": {
          "base_uri": "https://localhost:8080/"
        },
        "id": "9OGR1yE0FW_r",
        "outputId": "26683d63-c916-4192-fb48-24893bb947a2"
      },
      "execution_count": null,
      "outputs": [
        {
          "output_type": "execute_result",
          "data": {
            "text/plain": [
              "(123971, 19)"
            ]
          },
          "metadata": {},
          "execution_count": 231
        }
      ]
    },
    {
      "cell_type": "code",
      "source": [
        "df.info()"
      ],
      "metadata": {
        "colab": {
          "base_uri": "https://localhost:8080/"
        },
        "id": "nXIPAaCBFGAQ",
        "outputId": "fb611e5e-d044-4bc9-92cf-c45000733d2e"
      },
      "execution_count": null,
      "outputs": [
        {
          "output_type": "stream",
          "name": "stdout",
          "text": [
            "<class 'pandas.core.frame.DataFrame'>\n",
            "RangeIndex: 123971 entries, 0 to 123970\n",
            "Data columns (total 19 columns):\n",
            " #   Column          Non-Null Count   Dtype \n",
            "---  ------          --------------   ----- \n",
            " 0   Title           123971 non-null  object\n",
            " 1   Sub_title       123971 non-null  object\n",
            " 2   Price           123971 non-null  object\n",
            " 3   Brand           123971 non-null  object\n",
            " 4   Model           123970 non-null  object\n",
            " 5   Edition         47538 non-null   object\n",
            " 6   Year            123971 non-null  int64 \n",
            " 7   Condition       123971 non-null  object\n",
            " 8   Transmission    123970 non-null  object\n",
            " 9   Body            118876 non-null  object\n",
            " 10  Fuel            123971 non-null  object\n",
            " 11  Capacity        123766 non-null  object\n",
            " 12  Mileage         123971 non-null  object\n",
            " 13  Location        123971 non-null  object\n",
            " 14  Description     107797 non-null  object\n",
            " 15  Post_URL        123971 non-null  object\n",
            " 16  Seller_name     123873 non-null  object\n",
            " 17  Seller_type     123971 non-null  object\n",
            " 18  published_date  123971 non-null  object\n",
            "dtypes: int64(1), object(18)\n",
            "memory usage: 18.0+ MB\n"
          ]
        }
      ]
    },
    {
      "cell_type": "code",
      "source": [
        "##### Checking the null values ######\n",
        "df.isnull().sum()"
      ],
      "metadata": {
        "colab": {
          "base_uri": "https://localhost:8080/"
        },
        "id": "19JdLKlmFadE",
        "outputId": "53a67d6a-839a-4f46-90ff-17ddb607b03f"
      },
      "execution_count": null,
      "outputs": [
        {
          "output_type": "execute_result",
          "data": {
            "text/plain": [
              "Title                 0\n",
              "Sub_title             0\n",
              "Price                 0\n",
              "Brand                 0\n",
              "Model                 1\n",
              "Edition           76433\n",
              "Year                  0\n",
              "Condition             0\n",
              "Transmission          1\n",
              "Body               5095\n",
              "Fuel                  0\n",
              "Capacity            205\n",
              "Mileage               0\n",
              "Location              0\n",
              "Description       16174\n",
              "Post_URL              0\n",
              "Seller_name          98\n",
              "Seller_type           0\n",
              "published_date        0\n",
              "dtype: int64"
            ]
          },
          "metadata": {},
          "execution_count": 233
        }
      ]
    },
    {
      "cell_type": "code",
      "source": [
        "plt.figure(figsize=(14,6))\n",
        "sns.heatmap(df.isnull(),cbar=False,cmap=\"Set3\",yticklabels=False);"
      ],
      "metadata": {
        "colab": {
          "base_uri": "https://localhost:8080/",
          "height": 614
        },
        "id": "Vk6T4E2SLxZf",
        "outputId": "5ef65b50-060a-48fa-fbfa-9e42f9e6e11c"
      },
      "execution_count": null,
      "outputs": [
        {
          "output_type": "display_data",
          "data": {
            "text/plain": [
              "<Figure size 1400x600 with 1 Axes>"
            ],
            "image/png": "[encoded data removed]"
          },
          "metadata": {}
        }
      ]
    },
    {
      "cell_type": "markdown",
      "source": [
        "# **4. Data Cleaning**\n",
        "---\n"
      ],
      "metadata": {
        "id": "rG5p18jTL9SJ"
      }
    },
    {
      "cell_type": "markdown",
      "source": [
        "### Dropping unnecessary columns \n",
        "### *ASSUMPTION: The dropped columns do not have any useful information related to vehicle price predicion. However, this may very well not be the case. This assumption is to ease the modelling process.*"
      ],
      "metadata": {
        "id": "XqE3YAjcMFBc"
      }
    },
    {
      "cell_type": "code",
      "source": [
        "df = df.drop(['Title', 'Sub_title', 'Description', 'Post_URL', 'Seller_name','published_date'], axis=1)"
      ],
      "metadata": {
        "id": "ykT4gxRLL065"
      },
      "execution_count": null,
      "outputs": []
    },
    {
      "cell_type": "code",
      "source": [
        "df.head()"
      ],
      "metadata": {
        "colab": {
          "base_uri": "https://localhost:8080/",
          "height": 206
        },
        "id": "PD71jR4-N8C_",
        "outputId": "f524bdbe-7bdd-4933-9e53-8d88f8afcae4"
      },
      "execution_count": null,
      "outputs": [
        {
          "output_type": "execute_result",
          "data": {
            "text/plain": [
              "           Price   Brand               Model          Edition  Year Condition  \\\n",
              "0  Rs 12,900,000   Honda               Vezel          Limited  2017      Used   \n",
              "1  Rs 16,250,000  Jaguar                  XF     Fully Loaded  2013      Used   \n",
              "2  Rs 17,000,000  Toyota                 CHR  GT New Face 2wd  2020      Used   \n",
              "3  Rs 13,000,000  Toyota                 CHR           Toyato  2017      Used   \n",
              "4  Rs 33,500,000  Toyota  Land Cruiser Prado            prado  2015      Used   \n",
              "\n",
              "  Transmission       Body    Fuel  Capacity    Mileage  \\\n",
              "0    Automatic  SUV / 4x4  Hybrid  1,500 cc  37,000 km   \n",
              "1    Automatic     Saloon  Diesel  2,200 cc  42,000 km   \n",
              "2    Automatic  SUV / 4x4  Petrol  1,200 cc  15,000 km   \n",
              "3    Automatic  SUV / 4x4  Petrol  1,200 cc  21,000 km   \n",
              "4    Automatic  SUV / 4x4  Petrol  2,700 cc  57,000 km   \n",
              "\n",
              "                        Location     Seller_type  \n",
              "0   Kurunegala City,  Kurunegala  Premium-Member  \n",
              "1   Kurunegala City,  Kurunegala          Member  \n",
              "2            Colombo 7,  Colombo          Member  \n",
              "3            Colombo 7,  Colombo          Member  \n",
              "4             Kelaniya,  Gampaha          Member  "
            ],
            "text/html": [
              "\n",
              "  <div id=\"df-6cc65ee8-0403-4831-817f-9032edd9721e\">\n",
              "    <div class=\"colab-df-container\">\n",
              "      <div>\n",
              "<style scoped>\n",
              "    .dataframe tbody tr th:only-of-type {\n",
              "        vertical-align: middle;\n",
              "    }\n",
              "\n",
              "    .dataframe tbody tr th {\n",
              "        vertical-align: top;\n",
              "    }\n",
              "\n",
              "    .dataframe thead th {\n",
              "        text-align: right;\n",
              "    }\n",
              "</style>\n",
              "<table border=\"1\" class=\"dataframe\">\n",
              "  <thead>\n",
              "    <tr style=\"text-align: right;\">\n",
              "      <th></th>\n",
              "      <th>Price</th>\n",
              "      <th>Brand</th>\n",
              "      <th>Model</th>\n",
              "      <th>Edition</th>\n",
              "      <th>Year</th>\n",
              "      <th>Condition</th>\n",
              "      <th>Transmission</th>\n",
              "      <th>Body</th>\n",
              "      <th>Fuel</th>\n",
              "      <th>Capacity</th>\n",
              "      <th>Mileage</th>\n",
              "      <th>Location</th>\n",
              "      <th>Seller_type</th>\n",
              "    </tr>\n",
              "  </thead>\n",
              "  <tbody>\n",
              "    <tr>\n",
              "      <th>0</th>\n",
              "      <td>Rs 12,900,000</td>\n",
              "      <td>Honda</td>\n",
              "      <td>Vezel</td>\n",
              "      <td>Limited</td>\n",
              "      <td>2017</td>\n",
              "      <td>Used</td>\n",
              "      <td>Automatic</td>\n",
              "      <td>SUV / 4x4</td>\n",
              "      <td>Hybrid</td>\n",
              "      <td>1,500 cc</td>\n",
              "      <td>37,000 km</td>\n",
              "      <td>Kurunegala City,  Kurunegala</td>\n",
              "      <td>Premium-Member</td>\n",
              "    </tr>\n",
              "    <tr>\n",
              "      <th>1</th>\n",
              "      <td>Rs 16,250,000</td>\n",
              "      <td>Jaguar</td>\n",
              "      <td>XF</td>\n",
              "      <td>Fully Loaded</td>\n",
              "      <td>2013</td>\n",
              "      <td>Used</td>\n",
              "      <td>Automatic</td>\n",
              "      <td>Saloon</td>\n",
              "      <td>Diesel</td>\n",
              "      <td>2,200 cc</td>\n",
              "      <td>42,000 km</td>\n",
              "      <td>Kurunegala City,  Kurunegala</td>\n",
              "      <td>Member</td>\n",
              "    </tr>\n",
              "    <tr>\n",
              "      <th>2</th>\n",
              "      <td>Rs 17,000,000</td>\n",
              "      <td>Toyota</td>\n",
              "      <td>CHR</td>\n",
              "      <td>GT New Face 2wd</td>\n",
              "      <td>2020</td>\n",
              "      <td>Used</td>\n",
              "      <td>Automatic</td>\n",
              "      <td>SUV / 4x4</td>\n",
              "      <td>Petrol</td>\n",
              "      <td>1,200 cc</td>\n",
              "      <td>15,000 km</td>\n",
              "      <td>Colombo 7,  Colombo</td>\n",
              "      <td>Member</td>\n",
              "    </tr>\n",
              "    <tr>\n",
              "      <th>3</th>\n",
              "      <td>Rs 13,000,000</td>\n",
              "      <td>Toyota</td>\n",
              "      <td>CHR</td>\n",
              "      <td>Toyato</td>\n",
              "      <td>2017</td>\n",
              "      <td>Used</td>\n",
              "      <td>Automatic</td>\n",
              "      <td>SUV / 4x4</td>\n",
              "      <td>Petrol</td>\n",
              "      <td>1,200 cc</td>\n",
              "      <td>21,000 km</td>\n",
              "      <td>Colombo 7,  Colombo</td>\n",
              "      <td>Member</td>\n",
              "    </tr>\n",
              "    <tr>\n",
              "      <th>4</th>\n",
              "      <td>Rs 33,500,000</td>\n",
              "      <td>Toyota</td>\n",
              "      <td>Land Cruiser Prado</td>\n",
              "      <td>prado</td>\n",
              "      <td>2015</td>\n",
              "      <td>Used</td>\n",
              "      <td>Automatic</td>\n",
              "      <td>SUV / 4x4</td>\n",
              "      <td>Petrol</td>\n",
              "      <td>2,700 cc</td>\n",
              "      <td>57,000 km</td>\n",
              "      <td>Kelaniya,  Gampaha</td>\n",
              "      <td>Member</td>\n",
              "    </tr>\n",
              "  </tbody>\n",
              "</table>\n",
              "</div>\n",
              "      <button class=\"colab-df-convert\" onclick=\"convertToInteractive('df-6cc65ee8-0403-4831-817f-9032edd9721e')\"\n",
              "              title=\"Convert this dataframe to an interactive table.\"\n",
              "              style=\"display:none;\">\n",
              "        \n",
              "  <svg xmlns=\"http://www.w3.org/2000/svg\" height=\"24px\"viewBox=\"0 0 24 24\"\n",
              "       width=\"24px\">\n",
              "    <path d=\"M0 0h24v24H0V0z\" fill=\"none\"/>\n",
              "    <path d=\"M18.56 5.44l.94 2.06.94-2.06 2.06-.94-2.06-.94-.94-2.06-.94 2.06-2.06.94zm-11 1L8.5 8.5l.94-2.06 2.06-.94-2.06-.94L8.5 2.5l-.94 2.06-2.06.94zm10 10l.94 2.06.94-2.06 2.06-.94-2.06-.94-.94-2.06-.94 2.06-2.06.94z\"/><path d=\"M17.41 7.96l-1.37-1.37c-.4-.4-.92-.59-1.43-.59-.52 0-1.04.2-1.43.59L10.3 9.45l-7.72 7.72c-.78.78-.78 2.05 0 2.83L4 21.41c.39.39.9.59 1.41.59.51 0 1.02-.2 1.41-.59l7.78-7.78 2.81-2.81c.8-.78.8-2.07 0-2.86zM5.41 20L4 18.59l7.72-7.72 1.47 1.35L5.41 20z\"/>\n",
              "  </svg>\n",
              "      </button>\n",
              "      \n",
              "  <style>\n",
              "    .colab-df-container {\n",
              "      display:flex;\n",
              "      flex-wrap:wrap;\n",
              "      gap: 12px;\n",
              "    }\n",
              "\n",
              "    .colab-df-convert {\n",
              "      background-color: #E8F0FE;\n",
              "      border: none;\n",
              "      border-radius: 50%;\n",
              "      cursor: pointer;\n",
              "      display: none;\n",
              "      fill: #1967D2;\n",
              "      height: 32px;\n",
              "      padding: 0 0 0 0;\n",
              "      width: 32px;\n",
              "    }\n",
              "\n",
              "    .colab-df-convert:hover {\n",
              "      background-color: #E2EBFA;\n",
              "      box-shadow: 0px 1px 2px rgba(60, 64, 67, 0.3), 0px 1px 3px 1px rgba(60, 64, 67, 0.15);\n",
              "      fill: #174EA6;\n",
              "    }\n",
              "\n",
              "    [theme=dark] .colab-df-convert {\n",
              "      background-color: #3B4455;\n",
              "      fill: #D2E3FC;\n",
              "    }\n",
              "\n",
              "    [theme=dark] .colab-df-convert:hover {\n",
              "      background-color: #434B5C;\n",
              "      box-shadow: 0px 1px 3px 1px rgba(0, 0, 0, 0.15);\n",
              "      filter: drop-shadow(0px 1px 2px rgba(0, 0, 0, 0.3));\n",
              "      fill: #FFFFFF;\n",
              "    }\n",
              "  </style>\n",
              "\n",
              "      <script>\n",
              "        const buttonEl =\n",
              "          document.querySelector('#df-6cc65ee8-0403-4831-817f-9032edd9721e button.colab-df-convert');\n",
              "        buttonEl.style.display =\n",
              "          google.colab.kernel.accessAllowed ? 'block' : 'none';\n",
              "\n",
              "        async function convertToInteractive(key) {\n",
              "          const element = document.querySelector('#df-6cc65ee8-0403-4831-817f-9032edd9721e');\n",
              "          const dataTable =\n",
              "            await google.colab.kernel.invokeFunction('convertToInteractive',\n",
              "                                                     [key], {});\n",
              "          if (!dataTable) return;\n",
              "\n",
              "          const docLinkHtml = 'Like what you see? Visit the ' +\n",
              "            '<a target=\"_blank\" href=https://colab.research.google.com/notebooks/data_table.ipynb>data table notebook</a>'\n",
              "            + ' to learn more about interactive tables.';\n",
              "          element.innerHTML = '';\n",
              "          dataTable['output_type'] = 'display_data';\n",
              "          await google.colab.output.renderOutput(dataTable, element);\n",
              "          const docLink = document.createElement('div');\n",
              "          docLink.innerHTML = docLinkHtml;\n",
              "          element.appendChild(docLink);\n",
              "        }\n",
              "      </script>\n",
              "    </div>\n",
              "  </div>\n",
              "  "
            ]
          },
          "metadata": {},
          "execution_count": 236
        }
      ]
    },
    {
      "cell_type": "markdown",
      "source": [
        "### Bringing the 'Brand' and 'Model' columns to the left."
      ],
      "metadata": {
        "id": "wHUo5qWAPTYo"
      }
    },
    {
      "cell_type": "code",
      "source": [
        "df.insert(0,\"Brand\",df.pop(\"Brand\"))"
      ],
      "metadata": {
        "id": "31oqDvcUOmly"
      },
      "execution_count": null,
      "outputs": []
    },
    {
      "cell_type": "code",
      "source": [
        "df.insert(1,\"Model\",df.pop(\"Model\"))"
      ],
      "metadata": {
        "id": "tulcexrjPqKo"
      },
      "execution_count": null,
      "outputs": []
    },
    {
      "cell_type": "code",
      "source": [
        "df.head()"
      ],
      "metadata": {
        "colab": {
          "base_uri": "https://localhost:8080/",
          "height": 206
        },
        "id": "4KFCx8JvP09w",
        "outputId": "ed39b2b8-7fa8-46f7-971b-a8046741e22b"
      },
      "execution_count": null,
      "outputs": [
        {
          "output_type": "execute_result",
          "data": {
            "text/plain": [
              "    Brand               Model          Price          Edition  Year Condition  \\\n",
              "0   Honda               Vezel  Rs 12,900,000          Limited  2017      Used   \n",
              "1  Jaguar                  XF  Rs 16,250,000     Fully Loaded  2013      Used   \n",
              "2  Toyota                 CHR  Rs 17,000,000  GT New Face 2wd  2020      Used   \n",
              "3  Toyota                 CHR  Rs 13,000,000           Toyato  2017      Used   \n",
              "4  Toyota  Land Cruiser Prado  Rs 33,500,000            prado  2015      Used   \n",
              "\n",
              "  Transmission       Body    Fuel  Capacity    Mileage  \\\n",
              "0    Automatic  SUV / 4x4  Hybrid  1,500 cc  37,000 km   \n",
              "1    Automatic     Saloon  Diesel  2,200 cc  42,000 km   \n",
              "2    Automatic  SUV / 4x4  Petrol  1,200 cc  15,000 km   \n",
              "3    Automatic  SUV / 4x4  Petrol  1,200 cc  21,000 km   \n",
              "4    Automatic  SUV / 4x4  Petrol  2,700 cc  57,000 km   \n",
              "\n",
              "                        Location     Seller_type  \n",
              "0   Kurunegala City,  Kurunegala  Premium-Member  \n",
              "1   Kurunegala City,  Kurunegala          Member  \n",
              "2            Colombo 7,  Colombo          Member  \n",
              "3            Colombo 7,  Colombo          Member  \n",
              "4             Kelaniya,  Gampaha          Member  "
            ],
            "text/html": [
              "\n",
              "  <div id=\"df-df93cd0c-bca7-47c1-bb5a-3e3547bc4377\">\n",
              "    <div class=\"colab-df-container\">\n",
              "      <div>\n",
              "<style scoped>\n",
              "    .dataframe tbody tr th:only-of-type {\n",
              "        vertical-align: middle;\n",
              "    }\n",
              "\n",
              "    .dataframe tbody tr th {\n",
              "        vertical-align: top;\n",
              "    }\n",
              "\n",
              "    .dataframe thead th {\n",
              "        text-align: right;\n",
              "    }\n",
              "</style>\n",
              "<table border=\"1\" class=\"dataframe\">\n",
              "  <thead>\n",
              "    <tr style=\"text-align: right;\">\n",
              "      <th></th>\n",
              "      <th>Brand</th>\n",
              "      <th>Model</th>\n",
              "      <th>Price</th>\n",
              "      <th>Edition</th>\n",
              "      <th>Year</th>\n",
              "      <th>Condition</th>\n",
              "      <th>Transmission</th>\n",
              "      <th>Body</th>\n",
              "      <th>Fuel</th>\n",
              "      <th>Capacity</th>\n",
              "      <th>Mileage</th>\n",
              "      <th>Location</th>\n",
              "      <th>Seller_type</th>\n",
              "    </tr>\n",
              "  </thead>\n",
              "  <tbody>\n",
              "    <tr>\n",
              "      <th>0</th>\n",
              "      <td>Honda</td>\n",
              "      <td>Vezel</td>\n",
              "      <td>Rs 12,900,000</td>\n",
              "      <td>Limited</td>\n",
              "      <td>2017</td>\n",
              "      <td>Used</td>\n",
              "      <td>Automatic</td>\n",
              "      <td>SUV / 4x4</td>\n",
              "      <td>Hybrid</td>\n",
              "      <td>1,500 cc</td>\n",
              "      <td>37,000 km</td>\n",
              "      <td>Kurunegala City,  Kurunegala</td>\n",
              "      <td>Premium-Member</td>\n",
              "    </tr>\n",
              "    <tr>\n",
              "      <th>1</th>\n",
              "      <td>Jaguar</td>\n",
              "      <td>XF</td>\n",
              "      <td>Rs 16,250,000</td>\n",
              "      <td>Fully Loaded</td>\n",
              "      <td>2013</td>\n",
              "      <td>Used</td>\n",
              "      <td>Automatic</td>\n",
              "      <td>Saloon</td>\n",
              "      <td>Diesel</td>\n",
              "      <td>2,200 cc</td>\n",
              "      <td>42,000 km</td>\n",
              "      <td>Kurunegala City,  Kurunegala</td>\n",
              "      <td>Member</td>\n",
              "    </tr>\n",
              "    <tr>\n",
              "      <th>2</th>\n",
              "      <td>Toyota</td>\n",
              "      <td>CHR</td>\n",
              "      <td>Rs 17,000,000</td>\n",
              "      <td>GT New Face 2wd</td>\n",
              "      <td>2020</td>\n",
              "      <td>Used</td>\n",
              "      <td>Automatic</td>\n",
              "      <td>SUV / 4x4</td>\n",
              "      <td>Petrol</td>\n",
              "      <td>1,200 cc</td>\n",
              "      <td>15,000 km</td>\n",
              "      <td>Colombo 7,  Colombo</td>\n",
              "      <td>Member</td>\n",
              "    </tr>\n",
              "    <tr>\n",
              "      <th>3</th>\n",
              "      <td>Toyota</td>\n",
              "      <td>CHR</td>\n",
              "      <td>Rs 13,000,000</td>\n",
              "      <td>Toyato</td>\n",
              "      <td>2017</td>\n",
              "      <td>Used</td>\n",
              "      <td>Automatic</td>\n",
              "      <td>SUV / 4x4</td>\n",
              "      <td>Petrol</td>\n",
              "      <td>1,200 cc</td>\n",
              "      <td>21,000 km</td>\n",
              "      <td>Colombo 7,  Colombo</td>\n",
              "      <td>Member</td>\n",
              "    </tr>\n",
              "    <tr>\n",
              "      <th>4</th>\n",
              "      <td>Toyota</td>\n",
              "      <td>Land Cruiser Prado</td>\n",
              "      <td>Rs 33,500,000</td>\n",
              "      <td>prado</td>\n",
              "      <td>2015</td>\n",
              "      <td>Used</td>\n",
              "      <td>Automatic</td>\n",
              "      <td>SUV / 4x4</td>\n",
              "      <td>Petrol</td>\n",
              "      <td>2,700 cc</td>\n",
              "      <td>57,000 km</td>\n",
              "      <td>Kelaniya,  Gampaha</td>\n",
              "      <td>Member</td>\n",
              "    </tr>\n",
              "  </tbody>\n",
              "</table>\n",
              "</div>\n",
              "      <button class=\"colab-df-convert\" onclick=\"convertToInteractive('df-df93cd0c-bca7-47c1-bb5a-3e3547bc4377')\"\n",
              "              title=\"Convert this dataframe to an interactive table.\"\n",
              "              style=\"display:none;\">\n",
              "        \n",
              "  <svg xmlns=\"http://www.w3.org/2000/svg\" height=\"24px\"viewBox=\"0 0 24 24\"\n",
              "       width=\"24px\">\n",
              "    <path d=\"M0 0h24v24H0V0z\" fill=\"none\"/>\n",
              "    <path d=\"M18.56 5.44l.94 2.06.94-2.06 2.06-.94-2.06-.94-.94-2.06-.94 2.06-2.06.94zm-11 1L8.5 8.5l.94-2.06 2.06-.94-2.06-.94L8.5 2.5l-.94 2.06-2.06.94zm10 10l.94 2.06.94-2.06 2.06-.94-2.06-.94-.94-2.06-.94 2.06-2.06.94z\"/><path d=\"M17.41 7.96l-1.37-1.37c-.4-.4-.92-.59-1.43-.59-.52 0-1.04.2-1.43.59L10.3 9.45l-7.72 7.72c-.78.78-.78 2.05 0 2.83L4 21.41c.39.39.9.59 1.41.59.51 0 1.02-.2 1.41-.59l7.78-7.78 2.81-2.81c.8-.78.8-2.07 0-2.86zM5.41 20L4 18.59l7.72-7.72 1.47 1.35L5.41 20z\"/>\n",
              "  </svg>\n",
              "      </button>\n",
              "      \n",
              "  <style>\n",
              "    .colab-df-container {\n",
              "      display:flex;\n",
              "      flex-wrap:wrap;\n",
              "      gap: 12px;\n",
              "    }\n",
              "\n",
              "    .colab-df-convert {\n",
              "      background-color: #E8F0FE;\n",
              "      border: none;\n",
              "      border-radius: 50%;\n",
              "      cursor: pointer;\n",
              "      display: none;\n",
              "      fill: #1967D2;\n",
              "      height: 32px;\n",
              "      padding: 0 0 0 0;\n",
              "      width: 32px;\n",
              "    }\n",
              "\n",
              "    .colab-df-convert:hover {\n",
              "      background-color: #E2EBFA;\n",
              "      box-shadow: 0px 1px 2px rgba(60, 64, 67, 0.3), 0px 1px 3px 1px rgba(60, 64, 67, 0.15);\n",
              "      fill: #174EA6;\n",
              "    }\n",
              "\n",
              "    [theme=dark] .colab-df-convert {\n",
              "      background-color: #3B4455;\n",
              "      fill: #D2E3FC;\n",
              "    }\n",
              "\n",
              "    [theme=dark] .colab-df-convert:hover {\n",
              "      background-color: #434B5C;\n",
              "      box-shadow: 0px 1px 3px 1px rgba(0, 0, 0, 0.15);\n",
              "      filter: drop-shadow(0px 1px 2px rgba(0, 0, 0, 0.3));\n",
              "      fill: #FFFFFF;\n",
              "    }\n",
              "  </style>\n",
              "\n",
              "      <script>\n",
              "        const buttonEl =\n",
              "          document.querySelector('#df-df93cd0c-bca7-47c1-bb5a-3e3547bc4377 button.colab-df-convert');\n",
              "        buttonEl.style.display =\n",
              "          google.colab.kernel.accessAllowed ? 'block' : 'none';\n",
              "\n",
              "        async function convertToInteractive(key) {\n",
              "          const element = document.querySelector('#df-df93cd0c-bca7-47c1-bb5a-3e3547bc4377');\n",
              "          const dataTable =\n",
              "            await google.colab.kernel.invokeFunction('convertToInteractive',\n",
              "                                                     [key], {});\n",
              "          if (!dataTable) return;\n",
              "\n",
              "          const docLinkHtml = 'Like what you see? Visit the ' +\n",
              "            '<a target=\"_blank\" href=https://colab.research.google.com/notebooks/data_table.ipynb>data table notebook</a>'\n",
              "            + ' to learn more about interactive tables.';\n",
              "          element.innerHTML = '';\n",
              "          dataTable['output_type'] = 'display_data';\n",
              "          await google.colab.output.renderOutput(dataTable, element);\n",
              "          const docLink = document.createElement('div');\n",
              "          docLink.innerHTML = docLinkHtml;\n",
              "          element.appendChild(docLink);\n",
              "        }\n",
              "      </script>\n",
              "    </div>\n",
              "  </div>\n",
              "  "
            ]
          },
          "metadata": {},
          "execution_count": 239
        }
      ]
    },
    {
      "cell_type": "code",
      "source": [
        "plt.figure(figsize=(14,6))\n",
        "sns.heatmap(df.isnull(),cbar=False,cmap=\"Set3\",yticklabels=False);"
      ],
      "metadata": {
        "colab": {
          "base_uri": "https://localhost:8080/",
          "height": 522
        },
        "id": "WePbyFZxP3bW",
        "outputId": "ce74f1be-4dbb-4462-e9ee-f151692782f7"
      },
      "execution_count": null,
      "outputs": [
        {
          "output_type": "display_data",
          "data": {
            "text/plain": [
              "<Figure size 1400x600 with 1 Axes>"
            ],
            "image/png": "[encoded data removed]"
          },
          "metadata": {}
        }
      ]
    },
    {
      "cell_type": "markdown",
      "source": [
        "### Checking \"Edition\" column to see if it can also be dropped (Has significant null values too)"
      ],
      "metadata": {
        "id": "di8rUy5gTrsN"
      }
    },
    {
      "cell_type": "code",
      "source": [
        "for col in ['Edition']:\n",
        "    missing_percent = np.round((df[col].isnull().sum() * 100) / df.shape[0], 3)\n",
        "    print(f'{missing_percent} % data are NULL in `{col}` column')"
      ],
      "metadata": {
        "colab": {
          "base_uri": "https://localhost:8080/"
        },
        "id": "fupf1VrPRB7v",
        "outputId": "221c457d-3369-49fc-dd30-fdcb89069aa5"
      },
      "execution_count": null,
      "outputs": [
        {
          "output_type": "stream",
          "name": "stdout",
          "text": [
            "61.654 % data are NULL in `Edition` column\n"
          ]
        }
      ]
    },
    {
      "cell_type": "code",
      "source": [
        "df[\"Edition\"].nunique()"
      ],
      "metadata": {
        "colab": {
          "base_uri": "https://localhost:8080/"
        },
        "id": "y9xHU-YQUUiP",
        "outputId": "247cb4c2-edda-4f7a-caa1-a1a73d874905"
      },
      "execution_count": null,
      "outputs": [
        {
          "output_type": "execute_result",
          "data": {
            "text/plain": [
              "15260"
            ]
          },
          "metadata": {},
          "execution_count": 242
        }
      ]
    },
    {
      "cell_type": "code",
      "source": [
        "df[\"Edition\"].value_counts().head(10)"
      ],
      "metadata": {
        "id": "FtSWwh1xVi4f",
        "colab": {
          "base_uri": "https://localhost:8080/"
        },
        "outputId": "96664175-bc2c-4ee0-ea0f-7d401625d82a"
      },
      "execution_count": null,
      "outputs": [
        {
          "output_type": "execute_result",
          "data": {
            "text/plain": [
              "Toyota        780\n",
              "G Grade       629\n",
              "G Superior    608\n",
              "Suzuki        390\n",
              "-             346\n",
              "S Grade       310\n",
              "2018          296\n",
              "2015          294\n",
              "2017          291\n",
              "Safety        287\n",
              "Name: Edition, dtype: int64"
            ]
          },
          "metadata": {},
          "execution_count": 243
        }
      ]
    },
    {
      "cell_type": "markdown",
      "source": [
        "With 15k unique values, and the top 10 contains almost no valuable/unique information, especially considering that this column is supposed to provide information on the Edition of the automobile. Dropping this column too."
      ],
      "metadata": {
        "id": "skjOJ5cdYFJR"
      }
    },
    {
      "cell_type": "code",
      "source": [
        "df = df.drop(['Edition'], axis = 1)"
      ],
      "metadata": {
        "id": "68tSuOn4XvW4"
      },
      "execution_count": null,
      "outputs": []
    },
    {
      "cell_type": "code",
      "source": [
        "df.head()"
      ],
      "metadata": {
        "id": "KKEjrXQwYgew",
        "colab": {
          "base_uri": "https://localhost:8080/"
        },
        "outputId": "92f7c7ec-274b-4631-d162-a9f64002c009"
      },
      "execution_count": null,
      "outputs": [
        {
          "output_type": "execute_result",
          "data": {
            "text/plain": [
              "    Brand               Model          Price  Year Condition Transmission  \\\n",
              "0   Honda               Vezel  Rs 12,900,000  2017      Used    Automatic   \n",
              "1  Jaguar                  XF  Rs 16,250,000  2013      Used    Automatic   \n",
              "2  Toyota                 CHR  Rs 17,000,000  2020      Used    Automatic   \n",
              "3  Toyota                 CHR  Rs 13,000,000  2017      Used    Automatic   \n",
              "4  Toyota  Land Cruiser Prado  Rs 33,500,000  2015      Used    Automatic   \n",
              "\n",
              "        Body    Fuel  Capacity    Mileage                       Location  \\\n",
              "0  SUV / 4x4  Hybrid  1,500 cc  37,000 km   Kurunegala City,  Kurunegala   \n",
              "1     Saloon  Diesel  2,200 cc  42,000 km   Kurunegala City,  Kurunegala   \n",
              "2  SUV / 4x4  Petrol  1,200 cc  15,000 km            Colombo 7,  Colombo   \n",
              "3  SUV / 4x4  Petrol  1,200 cc  21,000 km            Colombo 7,  Colombo   \n",
              "4  SUV / 4x4  Petrol  2,700 cc  57,000 km             Kelaniya,  Gampaha   \n",
              "\n",
              "      Seller_type  \n",
              "0  Premium-Member  \n",
              "1          Member  \n",
              "2          Member  \n",
              "3          Member  \n",
              "4          Member  "
            ],
            "text/html": [
              "\n",
              "  <div id=\"df-e9aeb77d-21e2-4569-af28-0624eda35f89\">\n",
              "    <div class=\"colab-df-container\">\n",
              "      <div>\n",
              "<style scoped>\n",
              "    .dataframe tbody tr th:only-of-type {\n",
              "        vertical-align: middle;\n",
              "    }\n",
              "\n",
              "    .dataframe tbody tr th {\n",
              "        vertical-align: top;\n",
              "    }\n",
              "\n",
              "    .dataframe thead th {\n",
              "        text-align: right;\n",
              "    }\n",
              "</style>\n",
              "<table border=\"1\" class=\"dataframe\">\n",
              "  <thead>\n",
              "    <tr style=\"text-align: right;\">\n",
              "      <th></th>\n",
              "      <th>Brand</th>\n",
              "      <th>Model</th>\n",
              "      <th>Price</th>\n",
              "      <th>Year</th>\n",
              "      <th>Condition</th>\n",
              "      <th>Transmission</th>\n",
              "      <th>Body</th>\n",
              "      <th>Fuel</th>\n",
              "      <th>Capacity</th>\n",
              "      <th>Mileage</th>\n",
              "      <th>Location</th>\n",
              "      <th>Seller_type</th>\n",
              "    </tr>\n",
              "  </thead>\n",
              "  <tbody>\n",
              "    <tr>\n",
              "      <th>0</th>\n",
              "      <td>Honda</td>\n",
              "      <td>Vezel</td>\n",
              "      <td>Rs 12,900,000</td>\n",
              "      <td>2017</td>\n",
              "      <td>Used</td>\n",
              "      <td>Automatic</td>\n",
              "      <td>SUV / 4x4</td>\n",
              "      <td>Hybrid</td>\n",
              "      <td>1,500 cc</td>\n",
              "      <td>37,000 km</td>\n",
              "      <td>Kurunegala City,  Kurunegala</td>\n",
              "      <td>Premium-Member</td>\n",
              "    </tr>\n",
              "    <tr>\n",
              "      <th>1</th>\n",
              "      <td>Jaguar</td>\n",
              "      <td>XF</td>\n",
              "      <td>Rs 16,250,000</td>\n",
              "      <td>2013</td>\n",
              "      <td>Used</td>\n",
              "      <td>Automatic</td>\n",
              "      <td>Saloon</td>\n",
              "      <td>Diesel</td>\n",
              "      <td>2,200 cc</td>\n",
              "      <td>42,000 km</td>\n",
              "      <td>Kurunegala City,  Kurunegala</td>\n",
              "      <td>Member</td>\n",
              "    </tr>\n",
              "    <tr>\n",
              "      <th>2</th>\n",
              "      <td>Toyota</td>\n",
              "      <td>CHR</td>\n",
              "      <td>Rs 17,000,000</td>\n",
              "      <td>2020</td>\n",
              "      <td>Used</td>\n",
              "      <td>Automatic</td>\n",
              "      <td>SUV / 4x4</td>\n",
              "      <td>Petrol</td>\n",
              "      <td>1,200 cc</td>\n",
              "      <td>15,000 km</td>\n",
              "      <td>Colombo 7,  Colombo</td>\n",
              "      <td>Member</td>\n",
              "    </tr>\n",
              "    <tr>\n",
              "      <th>3</th>\n",
              "      <td>Toyota</td>\n",
              "      <td>CHR</td>\n",
              "      <td>Rs 13,000,000</td>\n",
              "      <td>2017</td>\n",
              "      <td>Used</td>\n",
              "      <td>Automatic</td>\n",
              "      <td>SUV / 4x4</td>\n",
              "      <td>Petrol</td>\n",
              "      <td>1,200 cc</td>\n",
              "      <td>21,000 km</td>\n",
              "      <td>Colombo 7,  Colombo</td>\n",
              "      <td>Member</td>\n",
              "    </tr>\n",
              "    <tr>\n",
              "      <th>4</th>\n",
              "      <td>Toyota</td>\n",
              "      <td>Land Cruiser Prado</td>\n",
              "      <td>Rs 33,500,000</td>\n",
              "      <td>2015</td>\n",
              "      <td>Used</td>\n",
              "      <td>Automatic</td>\n",
              "      <td>SUV / 4x4</td>\n",
              "      <td>Petrol</td>\n",
              "      <td>2,700 cc</td>\n",
              "      <td>57,000 km</td>\n",
              "      <td>Kelaniya,  Gampaha</td>\n",
              "      <td>Member</td>\n",
              "    </tr>\n",
              "  </tbody>\n",
              "</table>\n",
              "</div>\n",
              "      <button class=\"colab-df-convert\" onclick=\"convertToInteractive('df-e9aeb77d-21e2-4569-af28-0624eda35f89')\"\n",
              "              title=\"Convert this dataframe to an interactive table.\"\n",
              "              style=\"display:none;\">\n",
              "        \n",
              "  <svg xmlns=\"http://www.w3.org/2000/svg\" height=\"24px\"viewBox=\"0 0 24 24\"\n",
              "       width=\"24px\">\n",
              "    <path d=\"M0 0h24v24H0V0z\" fill=\"none\"/>\n",
              "    <path d=\"M18.56 5.44l.94 2.06.94-2.06 2.06-.94-2.06-.94-.94-2.06-.94 2.06-2.06.94zm-11 1L8.5 8.5l.94-2.06 2.06-.94-2.06-.94L8.5 2.5l-.94 2.06-2.06.94zm10 10l.94 2.06.94-2.06 2.06-.94-2.06-.94-.94-2.06-.94 2.06-2.06.94z\"/><path d=\"M17.41 7.96l-1.37-1.37c-.4-.4-.92-.59-1.43-.59-.52 0-1.04.2-1.43.59L10.3 9.45l-7.72 7.72c-.78.78-.78 2.05 0 2.83L4 21.41c.39.39.9.59 1.41.59.51 0 1.02-.2 1.41-.59l7.78-7.78 2.81-2.81c.8-.78.8-2.07 0-2.86zM5.41 20L4 18.59l7.72-7.72 1.47 1.35L5.41 20z\"/>\n",
              "  </svg>\n",
              "      </button>\n",
              "      \n",
              "  <style>\n",
              "    .colab-df-container {\n",
              "      display:flex;\n",
              "      flex-wrap:wrap;\n",
              "      gap: 12px;\n",
              "    }\n",
              "\n",
              "    .colab-df-convert {\n",
              "      background-color: #E8F0FE;\n",
              "      border: none;\n",
              "      border-radius: 50%;\n",
              "      cursor: pointer;\n",
              "      display: none;\n",
              "      fill: #1967D2;\n",
              "      height: 32px;\n",
              "      padding: 0 0 0 0;\n",
              "      width: 32px;\n",
              "    }\n",
              "\n",
              "    .colab-df-convert:hover {\n",
              "      background-color: #E2EBFA;\n",
              "      box-shadow: 0px 1px 2px rgba(60, 64, 67, 0.3), 0px 1px 3px 1px rgba(60, 64, 67, 0.15);\n",
              "      fill: #174EA6;\n",
              "    }\n",
              "\n",
              "    [theme=dark] .colab-df-convert {\n",
              "      background-color: #3B4455;\n",
              "      fill: #D2E3FC;\n",
              "    }\n",
              "\n",
              "    [theme=dark] .colab-df-convert:hover {\n",
              "      background-color: #434B5C;\n",
              "      box-shadow: 0px 1px 3px 1px rgba(0, 0, 0, 0.15);\n",
              "      filter: drop-shadow(0px 1px 2px rgba(0, 0, 0, 0.3));\n",
              "      fill: #FFFFFF;\n",
              "    }\n",
              "  </style>\n",
              "\n",
              "      <script>\n",
              "        const buttonEl =\n",
              "          document.querySelector('#df-e9aeb77d-21e2-4569-af28-0624eda35f89 button.colab-df-convert');\n",
              "        buttonEl.style.display =\n",
              "          google.colab.kernel.accessAllowed ? 'block' : 'none';\n",
              "\n",
              "        async function convertToInteractive(key) {\n",
              "          const element = document.querySelector('#df-e9aeb77d-21e2-4569-af28-0624eda35f89');\n",
              "          const dataTable =\n",
              "            await google.colab.kernel.invokeFunction('convertToInteractive',\n",
              "                                                     [key], {});\n",
              "          if (!dataTable) return;\n",
              "\n",
              "          const docLinkHtml = 'Like what you see? Visit the ' +\n",
              "            '<a target=\"_blank\" href=https://colab.research.google.com/notebooks/data_table.ipynb>data table notebook</a>'\n",
              "            + ' to learn more about interactive tables.';\n",
              "          element.innerHTML = '';\n",
              "          dataTable['output_type'] = 'display_data';\n",
              "          await google.colab.output.renderOutput(dataTable, element);\n",
              "          const docLink = document.createElement('div');\n",
              "          docLink.innerHTML = docLinkHtml;\n",
              "          element.appendChild(docLink);\n",
              "        }\n",
              "      </script>\n",
              "    </div>\n",
              "  </div>\n",
              "  "
            ]
          },
          "metadata": {},
          "execution_count": 245
        }
      ]
    },
    {
      "cell_type": "code",
      "source": [],
      "metadata": {
        "id": "ymv87-eLyvFv"
      },
      "execution_count": null,
      "outputs": []
    },
    {
      "cell_type": "markdown",
      "source": [
        "### Sorting out \"Brand\" column"
      ],
      "metadata": {
        "id": "rEeKwlsLwwxK"
      }
    },
    {
      "cell_type": "code",
      "source": [
        "print(sorted(df[\"Brand\"].unique()))"
      ],
      "metadata": {
        "colab": {
          "base_uri": "https://localhost:8080/"
        },
        "id": "ewD3UqB6w3PL",
        "outputId": "f7766147-b328-43bb-b330-4b8d95bf47ed"
      },
      "execution_count": null,
      "outputs": [
        {
          "output_type": "stream",
          "name": "stdout",
          "text": [
            "['Acura', 'Alfa Romeo', 'Alfa-Romeo', 'Aprilia', 'Ashok-Leyland', 'Aston', 'Aston Martin', 'Atco', 'Audi', 'Austin', 'BMW', 'Bajaj', 'Bentley', 'Buick', 'CAT', 'Cal', 'Ceygra', 'Changan', 'Chery', 'Chevrolet', 'Chrysler', 'Citroen', 'DFSK', 'Daewoo', 'Daido', 'Daihatsu', 'Datsun', 'Demak', 'Eicher', 'FAW', 'Fiat', 'Force', 'Ford', 'Foton', 'Geely', 'HINO', 'Hero', 'Hero-Honda', 'Higer', 'Hillman', 'Hitachi', 'Honda', 'Hummer', 'Hyundai', 'Isuzu', 'Iveco', 'JAC', 'JCB', 'JMC', 'Jaguar', 'Jeep', 'JiaLing', 'John-Deere', 'KMC', 'KTM', 'Kawasaki', 'Kia', 'Kinetic', 'Kobelco', 'Komatsu', 'Kubota', 'Land Rover', 'Land-Rover', 'Lexus', 'Loncin', 'MG', 'Mahindra', 'Maruti', 'Maruti Suzuki', 'Massey-Ferguson', 'Mazda', 'Mercedes Benz', 'Mercedes-Benz', 'Micro', 'Mini', 'Minnelli', 'Mitsubishi', 'Morris', 'Moto Guzzi', 'New-Holland', 'Nissan', 'Opel', 'Other', 'Other brand', 'Perodua', 'Peugeot', 'Piaggio', 'Pontiac', 'Porsche', 'Powertrac', 'Proton', 'Range-Rover', 'Ranomoto', 'Renault', 'Rolls-Royce', 'Rover', 'SEAT', 'Sakai', 'Singer', 'Skoda', 'Smart', 'Sonalika', 'Ssang Yong', 'Ssangyong', 'Subaru', 'Suzuki', 'Swaraj', 'TAFE', 'TVS', 'Tata', 'Tesla', 'Toyota', 'Triumph', 'Vauxhall', 'Vespa', 'Volkswagen', 'Volvo', 'Willys', 'Yamaha', 'Yanmar', 'Yuejin', 'Zongshen', 'Zotye']\n"
          ]
        }
      ]
    },
    {
      "cell_type": "code",
      "source": [
        "df[\"Brand\"].nunique()"
      ],
      "metadata": {
        "colab": {
          "base_uri": "https://localhost:8080/"
        },
        "id": "k3jh5_E-4zMF",
        "outputId": "1dafa94c-4873-4c60-85a3-c02c86b3c1f2"
      },
      "execution_count": null,
      "outputs": [
        {
          "output_type": "execute_result",
          "data": {
            "text/plain": [
              "123"
            ]
          },
          "metadata": {},
          "execution_count": 247
        }
      ]
    },
    {
      "cell_type": "markdown",
      "source": [
        "The following needs to be changed:\n",
        "\n",
        "'Alfa Romeo', and not 'Alfa-Romeo'\n",
        "\n",
        "'Aston', to 'Aston Martin'\n",
        "\n",
        "'Land Rover', and not 'Land-Rover'\n",
        "\n",
        "'Mercedes Benz', 'Mercedes-Benz'\n",
        "\n",
        "'Other', 'Other brand'\n",
        "\n",
        "'Range-Rover', 'Rover' to 'Land Rover'\n",
        "\n",
        "'Ssang Yong', 'Ssangyong', to 'SsangYong'\n"
      ],
      "metadata": {
        "id": "VIi8a9FOxyJn"
      }
    },
    {
      "cell_type": "code",
      "source": [
        "df[\"Brand\"] = df[\"Brand\"].replace(\"Alfa-Romeo\", \"Alfa Romeo\", regex = True)"
      ],
      "metadata": {
        "id": "RAqzCULC04lQ"
      },
      "execution_count": null,
      "outputs": []
    },
    {
      "cell_type": "code",
      "source": [
        "print(sorted(df[\"Brand\"].unique()))"
      ],
      "metadata": {
        "colab": {
          "base_uri": "https://localhost:8080/"
        },
        "id": "3BfCYab91d4C",
        "outputId": "60fb598e-bcb0-469f-c80a-e9606a5fb1eb"
      },
      "execution_count": null,
      "outputs": [
        {
          "output_type": "stream",
          "name": "stdout",
          "text": [
            "['Acura', 'Alfa Romeo', 'Aprilia', 'Ashok-Leyland', 'Aston', 'Aston Martin', 'Atco', 'Audi', 'Austin', 'BMW', 'Bajaj', 'Bentley', 'Buick', 'CAT', 'Cal', 'Ceygra', 'Changan', 'Chery', 'Chevrolet', 'Chrysler', 'Citroen', 'DFSK', 'Daewoo', 'Daido', 'Daihatsu', 'Datsun', 'Demak', 'Eicher', 'FAW', 'Fiat', 'Force', 'Ford', 'Foton', 'Geely', 'HINO', 'Hero', 'Hero-Honda', 'Higer', 'Hillman', 'Hitachi', 'Honda', 'Hummer', 'Hyundai', 'Isuzu', 'Iveco', 'JAC', 'JCB', 'JMC', 'Jaguar', 'Jeep', 'JiaLing', 'John-Deere', 'KMC', 'KTM', 'Kawasaki', 'Kia', 'Kinetic', 'Kobelco', 'Komatsu', 'Kubota', 'Land Rover', 'Land-Rover', 'Lexus', 'Loncin', 'MG', 'Mahindra', 'Maruti', 'Maruti Suzuki', 'Massey-Ferguson', 'Mazda', 'Mercedes Benz', 'Mercedes-Benz', 'Micro', 'Mini', 'Minnelli', 'Mitsubishi', 'Morris', 'Moto Guzzi', 'New-Holland', 'Nissan', 'Opel', 'Other', 'Other brand', 'Perodua', 'Peugeot', 'Piaggio', 'Pontiac', 'Porsche', 'Powertrac', 'Proton', 'Range-Rover', 'Ranomoto', 'Renault', 'Rolls-Royce', 'Rover', 'SEAT', 'Sakai', 'Singer', 'Skoda', 'Smart', 'Sonalika', 'Ssang Yong', 'Ssangyong', 'Subaru', 'Suzuki', 'Swaraj', 'TAFE', 'TVS', 'Tata', 'Tesla', 'Toyota', 'Triumph', 'Vauxhall', 'Vespa', 'Volkswagen', 'Volvo', 'Willys', 'Yamaha', 'Yanmar', 'Yuejin', 'Zongshen', 'Zotye']\n"
          ]
        }
      ]
    },
    {
      "cell_type": "code",
      "source": [
        "df[\"Brand\"].nunique()"
      ],
      "metadata": {
        "colab": {
          "base_uri": "https://localhost:8080/"
        },
        "id": "prLdCymC2dfO",
        "outputId": "3a505b2e-4e70-44a1-b9c2-7d2a0c57bb60"
      },
      "execution_count": null,
      "outputs": [
        {
          "output_type": "execute_result",
          "data": {
            "text/plain": [
              "122"
            ]
          },
          "metadata": {},
          "execution_count": 250
        }
      ]
    },
    {
      "cell_type": "code",
      "source": [
        "df[\"Brand\"] = df[\"Brand\"].replace(\"Land-Rover\", \"Land Rover\", regex = True)\n",
        "df[\"Brand\"] = df[\"Brand\"].replace(\"Mercedes Benz\", \"Mercedes-Benz\", regex = True)\n",
        "df[\"Brand\"] = df[\"Brand\"].replace(\"Other brand\", \"Other\", regex = True)\n",
        "df[\"Brand\"] = df[\"Brand\"].replace(\"Range-Rover\", \"Land Rover\", regex = True)\n",
        "df[\"Brand\"] = df[\"Brand\"].replace(\"^Rover$\", \"Land Rover\", regex = True)\n",
        "df[\"Brand\"] = df[\"Brand\"].replace(\"Ssang Yong\", \"SsangYong\", regex = True)\n",
        "df[\"Brand\"] = df[\"Brand\"].replace(\"Ssangyong\", \"SsangYong\", regex = True)\n",
        "df[\"Brand\"] = df[\"Brand\"].replace(\"^Aston$\", \"Aston Martin\", regex = True)"
      ],
      "metadata": {
        "id": "jKfr4YNM1LAn"
      },
      "execution_count": null,
      "outputs": []
    },
    {
      "cell_type": "code",
      "source": [
        "df[\"Brand\"].nunique()"
      ],
      "metadata": {
        "colab": {
          "base_uri": "https://localhost:8080/"
        },
        "id": "NhMDxYl41LhX",
        "outputId": "7e7b8339-e1f4-4f78-8942-74f1be1403aa"
      },
      "execution_count": null,
      "outputs": [
        {
          "output_type": "execute_result",
          "data": {
            "text/plain": [
              "115"
            ]
          },
          "metadata": {},
          "execution_count": 252
        }
      ]
    },
    {
      "cell_type": "code",
      "source": [
        "print(sorted(df[\"Brand\"].unique()))"
      ],
      "metadata": {
        "colab": {
          "base_uri": "https://localhost:8080/"
        },
        "id": "RtO7VmEp38Sd",
        "outputId": "d655fc3e-d547-4148-c131-afb1b14e7b68"
      },
      "execution_count": null,
      "outputs": [
        {
          "output_type": "stream",
          "name": "stdout",
          "text": [
            "['Acura', 'Alfa Romeo', 'Aprilia', 'Ashok-Leyland', 'Aston Martin', 'Atco', 'Audi', 'Austin', 'BMW', 'Bajaj', 'Bentley', 'Buick', 'CAT', 'Cal', 'Ceygra', 'Changan', 'Chery', 'Chevrolet', 'Chrysler', 'Citroen', 'DFSK', 'Daewoo', 'Daido', 'Daihatsu', 'Datsun', 'Demak', 'Eicher', 'FAW', 'Fiat', 'Force', 'Ford', 'Foton', 'Geely', 'HINO', 'Hero', 'Hero-Honda', 'Higer', 'Hillman', 'Hitachi', 'Honda', 'Hummer', 'Hyundai', 'Isuzu', 'Iveco', 'JAC', 'JCB', 'JMC', 'Jaguar', 'Jeep', 'JiaLing', 'John-Deere', 'KMC', 'KTM', 'Kawasaki', 'Kia', 'Kinetic', 'Kobelco', 'Komatsu', 'Kubota', 'Land Rover', 'Lexus', 'Loncin', 'MG', 'Mahindra', 'Maruti', 'Maruti Suzuki', 'Massey-Ferguson', 'Mazda', 'Mercedes-Benz', 'Micro', 'Mini', 'Minnelli', 'Mitsubishi', 'Morris', 'Moto Guzzi', 'New-Holland', 'Nissan', 'Opel', 'Other', 'Perodua', 'Peugeot', 'Piaggio', 'Pontiac', 'Porsche', 'Powertrac', 'Proton', 'Ranomoto', 'Renault', 'Rolls-Royce', 'SEAT', 'Sakai', 'Singer', 'Skoda', 'Smart', 'Sonalika', 'SsangYong', 'Subaru', 'Suzuki', 'Swaraj', 'TAFE', 'TVS', 'Tata', 'Tesla', 'Toyota', 'Triumph', 'Vauxhall', 'Vespa', 'Volkswagen', 'Volvo', 'Willys', 'Yamaha', 'Yanmar', 'Yuejin', 'Zongshen', 'Zotye']\n"
          ]
        }
      ]
    },
    {
      "cell_type": "markdown",
      "source": [
        "### Cleaning \"Model\" Column\n",
        "Thanks to the large number of models, cleaning this column is not done extensively. Excel was used to see the data to find anamolies and the cleaning is done here."
      ],
      "metadata": {
        "id": "At8OgtIscAK4"
      }
    },
    {
      "cell_type": "code",
      "source": [
        "df[\"Model\"].isna().sum()"
      ],
      "metadata": {
        "colab": {
          "base_uri": "https://localhost:8080/"
        },
        "id": "n6dbC5SucSSM",
        "outputId": "bc80f68b-b48a-4f08-db85-e4b522f5e09c"
      },
      "execution_count": null,
      "outputs": [
        {
          "output_type": "execute_result",
          "data": {
            "text/plain": [
              "1"
            ]
          },
          "metadata": {},
          "execution_count": 254
        }
      ]
    },
    {
      "cell_type": "code",
      "source": [
        "df[\"Model\"] = df[\"Model\"].fillna(\"-\")"
      ],
      "metadata": {
        "id": "0qsQHlZHeXkL"
      },
      "execution_count": null,
      "outputs": []
    },
    {
      "cell_type": "code",
      "source": [
        "df[\"Model\"].isna().sum()"
      ],
      "metadata": {
        "colab": {
          "base_uri": "https://localhost:8080/"
        },
        "id": "srrHQ2JdeWmN",
        "outputId": "a9eb18ec-f5cb-4193-c2fc-4d323ea03d3f"
      },
      "execution_count": null,
      "outputs": [
        {
          "output_type": "execute_result",
          "data": {
            "text/plain": [
              "0"
            ]
          },
          "metadata": {},
          "execution_count": 256
        }
      ]
    },
    {
      "cell_type": "code",
      "source": [
        "df[\"Model\"] = df[\"Model\"].replace(\"Discovery 125\", \"Discover\", regex=True)\n",
        "df[\"Model\"] = df[\"Model\"].replace(\"DISCOVERY 4 SDV6 HSE\", \"Discovery 4\", regex=True)\n",
        "df[\"Model\"] = df[\"Model\"].replace(\"Discovery 4s\", \"Discovery 4 S\", regex=True)\n",
        "df[\"Model\"] = df[\"Model\"].replace(\"771818739\", \"-\", regex=True)\n",
        "df[\"Model\"] = df[\"Model\"].replace(\"Suzuki Bride Yamaha Mate\", \"\", regex=True)\n",
        "df[\"Model\"] = df[\"Model\"].replace(\"Yamaha\", \"-\", regex=True)\n",
        "df[\"Model\"] = df[\"Model\"].replace(\"Unicorn 150\", \"Unicorn\", regex=True)\n",
        "df[\"Model\"] = df[\"Model\"].replace(\"Tropica 125\", \"Tropica\", regex=True)\n",
        "df[\"Model\"] = df[\"Model\"].replace(\"Today 50cc\", \"Today\", regex=True)\n",
        "df[\"Model\"] = df[\"Model\"].replace(\"TITAN\", \"Titan\", regex=True)\n",
        "df[\"Model\"] = df[\"Model\"].replace(\"TEMPO\", \"Tempo Traveller\", regex=True)\n",
        "df[\"Model\"] = df[\"Model\"].replace(\"Szx\", \"SZ-X\", regex=True)\n",
        "df[\"Model\"] = df[\"Model\"].replace(\"Sepihia\", \"Sephia\", regex=True)\n",
        "df[\"Model\"] = df[\"Model\"].replace(\"Sephia II\", \"Sephia 2\", regex=True)\n",
        "df.loc[df[df[\"Model\"] == \"Kia Sephia\"].index,[\"Brand\",\"Model\"]] = {\"Brand\": \"Kia\", \"Model\": \"Sephia\"}\n",
        "df[\"Model\"] = df[\"Model\"].replace(\"Scoopy Japan\", \"Scoopy\", regex=True)\n",
        "df.loc[df[df[\"Model\"] == \"Nevorp Scooby\"].index,[\"Brand\",\"Model\"]] = {\"Brand\": \"Nevorp\", \"Model\": \"Scooby\"}\n",
        "df.loc[df[df[\"Model\"] == \"Scooby 125\"].index,[\"Brand\",\"Model\"]] = {\"Brand\": \"Nevorp\", \"Model\": \"Scooby\"}\n",
        "df[\"Model\"] = df[\"Model\"].replace(\"Safari 49cc\", \"Safari\", regex=True)\n",
        "df[\"Model\"] = df[\"Model\"].replace(\"Rinos\", \"Rino S\", regex=True)\n",
        "df[\"Model\"] = df[\"Model\"].replace(\"Rino 125\", \"Rino\", regex=True)\n",
        "df[\"Model\"] = df[\"Model\"].replace(\"Redi-GO\", \"Redi-Go\", regex=True)\n",
        "df[\"Model\"] = df[\"Model\"].replace(\"Redi Go\", \"Redi-Go\", regex=True)"
      ],
      "metadata": {
        "id": "KUO2FFLtnQT6"
      },
      "execution_count": null,
      "outputs": []
    },
    {
      "cell_type": "code",
      "source": [],
      "metadata": {
        "id": "RbKOCxcVnQKi"
      },
      "execution_count": null,
      "outputs": []
    },
    {
      "cell_type": "markdown",
      "source": [
        "### Sorting out \"Price\" column"
      ],
      "metadata": {
        "id": "3c32WmCNZKzu"
      }
    },
    {
      "cell_type": "code",
      "source": [
        "df.rename({\"Price\":\"Price (Rs)\"}, axis = 1, inplace = True)"
      ],
      "metadata": {
        "id": "QKWDuXy5atTA"
      },
      "execution_count": null,
      "outputs": []
    },
    {
      "cell_type": "code",
      "source": [
        "df[\"Price (Rs)\"] = df[\"Price (Rs)\"].replace(\"Rs \", \"\", regex = True)\n",
        "df[\"Price (Rs)\"] = df[\"Price (Rs)\"].replace(\",\", \"\", regex = True)\n",
        "df[\"Price (Rs)\"] = df[\"Price (Rs)\"].replace(\"Rs. \", \"\", regex = True)"
      ],
      "metadata": {
        "id": "XzcMN5nsYkED"
      },
      "execution_count": null,
      "outputs": []
    },
    {
      "cell_type": "code",
      "source": [
        "df.head()"
      ],
      "metadata": {
        "colab": {
          "base_uri": "https://localhost:8080/"
        },
        "id": "c3UDu3npZ-Ez",
        "outputId": "248f96aa-755e-4ca6-e3f8-1d231dd0b5da"
      },
      "execution_count": null,
      "outputs": [
        {
          "output_type": "execute_result",
          "data": {
            "text/plain": [
              "    Brand               Model Price (Rs)  Year Condition Transmission  \\\n",
              "0   Honda               Vezel   12900000  2017      Used    Automatic   \n",
              "1  Jaguar                  XF   16250000  2013      Used    Automatic   \n",
              "2  Toyota                 CHR   17000000  2020      Used    Automatic   \n",
              "3  Toyota                 CHR   13000000  2017      Used    Automatic   \n",
              "4  Toyota  Land Cruiser Prado   33500000  2015      Used    Automatic   \n",
              "\n",
              "        Body    Fuel  Capacity    Mileage                       Location  \\\n",
              "0  SUV / 4x4  Hybrid  1,500 cc  37,000 km   Kurunegala City,  Kurunegala   \n",
              "1     Saloon  Diesel  2,200 cc  42,000 km   Kurunegala City,  Kurunegala   \n",
              "2  SUV / 4x4  Petrol  1,200 cc  15,000 km            Colombo 7,  Colombo   \n",
              "3  SUV / 4x4  Petrol  1,200 cc  21,000 km            Colombo 7,  Colombo   \n",
              "4  SUV / 4x4  Petrol  2,700 cc  57,000 km             Kelaniya,  Gampaha   \n",
              "\n",
              "      Seller_type  \n",
              "0  Premium-Member  \n",
              "1          Member  \n",
              "2          Member  \n",
              "3          Member  \n",
              "4          Member  "
            ],
            "text/html": [
              "\n",
              "  <div id=\"df-48c09e1f-09f8-4175-bf00-ebd23c312190\">\n",
              "    <div class=\"colab-df-container\">\n",
              "      <div>\n",
              "<style scoped>\n",
              "    .dataframe tbody tr th:only-of-type {\n",
              "        vertical-align: middle;\n",
              "    }\n",
              "\n",
              "    .dataframe tbody tr th {\n",
              "        vertical-align: top;\n",
              "    }\n",
              "\n",
              "    .dataframe thead th {\n",
              "        text-align: right;\n",
              "    }\n",
              "</style>\n",
              "<table border=\"1\" class=\"dataframe\">\n",
              "  <thead>\n",
              "    <tr style=\"text-align: right;\">\n",
              "      <th></th>\n",
              "      <th>Brand</th>\n",
              "      <th>Model</th>\n",
              "      <th>Price (Rs)</th>\n",
              "      <th>Year</th>\n",
              "      <th>Condition</th>\n",
              "      <th>Transmission</th>\n",
              "      <th>Body</th>\n",
              "      <th>Fuel</th>\n",
              "      <th>Capacity</th>\n",
              "      <th>Mileage</th>\n",
              "      <th>Location</th>\n",
              "      <th>Seller_type</th>\n",
              "    </tr>\n",
              "  </thead>\n",
              "  <tbody>\n",
              "    <tr>\n",
              "      <th>0</th>\n",
              "      <td>Honda</td>\n",
              "      <td>Vezel</td>\n",
              "      <td>12900000</td>\n",
              "      <td>2017</td>\n",
              "      <td>Used</td>\n",
              "      <td>Automatic</td>\n",
              "      <td>SUV / 4x4</td>\n",
              "      <td>Hybrid</td>\n",
              "      <td>1,500 cc</td>\n",
              "      <td>37,000 km</td>\n",
              "      <td>Kurunegala City,  Kurunegala</td>\n",
              "      <td>Premium-Member</td>\n",
              "    </tr>\n",
              "    <tr>\n",
              "      <th>1</th>\n",
              "      <td>Jaguar</td>\n",
              "      <td>XF</td>\n",
              "      <td>16250000</td>\n",
              "      <td>2013</td>\n",
              "      <td>Used</td>\n",
              "      <td>Automatic</td>\n",
              "      <td>Saloon</td>\n",
              "      <td>Diesel</td>\n",
              "      <td>2,200 cc</td>\n",
              "      <td>42,000 km</td>\n",
              "      <td>Kurunegala City,  Kurunegala</td>\n",
              "      <td>Member</td>\n",
              "    </tr>\n",
              "    <tr>\n",
              "      <th>2</th>\n",
              "      <td>Toyota</td>\n",
              "      <td>CHR</td>\n",
              "      <td>17000000</td>\n",
              "      <td>2020</td>\n",
              "      <td>Used</td>\n",
              "      <td>Automatic</td>\n",
              "      <td>SUV / 4x4</td>\n",
              "      <td>Petrol</td>\n",
              "      <td>1,200 cc</td>\n",
              "      <td>15,000 km</td>\n",
              "      <td>Colombo 7,  Colombo</td>\n",
              "      <td>Member</td>\n",
              "    </tr>\n",
              "    <tr>\n",
              "      <th>3</th>\n",
              "      <td>Toyota</td>\n",
              "      <td>CHR</td>\n",
              "      <td>13000000</td>\n",
              "      <td>2017</td>\n",
              "      <td>Used</td>\n",
              "      <td>Automatic</td>\n",
              "      <td>SUV / 4x4</td>\n",
              "      <td>Petrol</td>\n",
              "      <td>1,200 cc</td>\n",
              "      <td>21,000 km</td>\n",
              "      <td>Colombo 7,  Colombo</td>\n",
              "      <td>Member</td>\n",
              "    </tr>\n",
              "    <tr>\n",
              "      <th>4</th>\n",
              "      <td>Toyota</td>\n",
              "      <td>Land Cruiser Prado</td>\n",
              "      <td>33500000</td>\n",
              "      <td>2015</td>\n",
              "      <td>Used</td>\n",
              "      <td>Automatic</td>\n",
              "      <td>SUV / 4x4</td>\n",
              "      <td>Petrol</td>\n",
              "      <td>2,700 cc</td>\n",
              "      <td>57,000 km</td>\n",
              "      <td>Kelaniya,  Gampaha</td>\n",
              "      <td>Member</td>\n",
              "    </tr>\n",
              "  </tbody>\n",
              "</table>\n",
              "</div>\n",
              "      <button class=\"colab-df-convert\" onclick=\"convertToInteractive('df-48c09e1f-09f8-4175-bf00-ebd23c312190')\"\n",
              "              title=\"Convert this dataframe to an interactive table.\"\n",
              "              style=\"display:none;\">\n",
              "        \n",
              "  <svg xmlns=\"http://www.w3.org/2000/svg\" height=\"24px\"viewBox=\"0 0 24 24\"\n",
              "       width=\"24px\">\n",
              "    <path d=\"M0 0h24v24H0V0z\" fill=\"none\"/>\n",
              "    <path d=\"M18.56 5.44l.94 2.06.94-2.06 2.06-.94-2.06-.94-.94-2.06-.94 2.06-2.06.94zm-11 1L8.5 8.5l.94-2.06 2.06-.94-2.06-.94L8.5 2.5l-.94 2.06-2.06.94zm10 10l.94 2.06.94-2.06 2.06-.94-2.06-.94-.94-2.06-.94 2.06-2.06.94z\"/><path d=\"M17.41 7.96l-1.37-1.37c-.4-.4-.92-.59-1.43-.59-.52 0-1.04.2-1.43.59L10.3 9.45l-7.72 7.72c-.78.78-.78 2.05 0 2.83L4 21.41c.39.39.9.59 1.41.59.51 0 1.02-.2 1.41-.59l7.78-7.78 2.81-2.81c.8-.78.8-2.07 0-2.86zM5.41 20L4 18.59l7.72-7.72 1.47 1.35L5.41 20z\"/>\n",
              "  </svg>\n",
              "      </button>\n",
              "      \n",
              "  <style>\n",
              "    .colab-df-container {\n",
              "      display:flex;\n",
              "      flex-wrap:wrap;\n",
              "      gap: 12px;\n",
              "    }\n",
              "\n",
              "    .colab-df-convert {\n",
              "      background-color: #E8F0FE;\n",
              "      border: none;\n",
              "      border-radius: 50%;\n",
              "      cursor: pointer;\n",
              "      display: none;\n",
              "      fill: #1967D2;\n",
              "      height: 32px;\n",
              "      padding: 0 0 0 0;\n",
              "      width: 32px;\n",
              "    }\n",
              "\n",
              "    .colab-df-convert:hover {\n",
              "      background-color: #E2EBFA;\n",
              "      box-shadow: 0px 1px 2px rgba(60, 64, 67, 0.3), 0px 1px 3px 1px rgba(60, 64, 67, 0.15);\n",
              "      fill: #174EA6;\n",
              "    }\n",
              "\n",
              "    [theme=dark] .colab-df-convert {\n",
              "      background-color: #3B4455;\n",
              "      fill: #D2E3FC;\n",
              "    }\n",
              "\n",
              "    [theme=dark] .colab-df-convert:hover {\n",
              "      background-color: #434B5C;\n",
              "      box-shadow: 0px 1px 3px 1px rgba(0, 0, 0, 0.15);\n",
              "      filter: drop-shadow(0px 1px 2px rgba(0, 0, 0, 0.3));\n",
              "      fill: #FFFFFF;\n",
              "    }\n",
              "  </style>\n",
              "\n",
              "      <script>\n",
              "        const buttonEl =\n",
              "          document.querySelector('#df-48c09e1f-09f8-4175-bf00-ebd23c312190 button.colab-df-convert');\n",
              "        buttonEl.style.display =\n",
              "          google.colab.kernel.accessAllowed ? 'block' : 'none';\n",
              "\n",
              "        async function convertToInteractive(key) {\n",
              "          const element = document.querySelector('#df-48c09e1f-09f8-4175-bf00-ebd23c312190');\n",
              "          const dataTable =\n",
              "            await google.colab.kernel.invokeFunction('convertToInteractive',\n",
              "                                                     [key], {});\n",
              "          if (!dataTable) return;\n",
              "\n",
              "          const docLinkHtml = 'Like what you see? Visit the ' +\n",
              "            '<a target=\"_blank\" href=https://colab.research.google.com/notebooks/data_table.ipynb>data table notebook</a>'\n",
              "            + ' to learn more about interactive tables.';\n",
              "          element.innerHTML = '';\n",
              "          dataTable['output_type'] = 'display_data';\n",
              "          await google.colab.output.renderOutput(dataTable, element);\n",
              "          const docLink = document.createElement('div');\n",
              "          docLink.innerHTML = docLinkHtml;\n",
              "          element.appendChild(docLink);\n",
              "        }\n",
              "      </script>\n",
              "    </div>\n",
              "  </div>\n",
              "  "
            ]
          },
          "metadata": {},
          "execution_count": 260
        }
      ]
    },
    {
      "cell_type": "code",
      "source": [
        "df[\"Name\"] = df[\"Brand\"] + \" \" + df[\"Model\"]"
      ],
      "metadata": {
        "id": "clLryRghcKDE"
      },
      "execution_count": null,
      "outputs": []
    },
    {
      "cell_type": "code",
      "source": [
        "df.insert(0,\"Name\",df.pop(\"Name\"))"
      ],
      "metadata": {
        "id": "sy7kb1_uc1mu"
      },
      "execution_count": null,
      "outputs": []
    },
    {
      "cell_type": "code",
      "source": [
        "df.head()"
      ],
      "metadata": {
        "colab": {
          "base_uri": "https://localhost:8080/"
        },
        "id": "Y4CBlTeW-wHv",
        "outputId": "dc02336a-e3c1-47d5-cb9a-f3a23a41227e"
      },
      "execution_count": null,
      "outputs": [
        {
          "output_type": "execute_result",
          "data": {
            "text/plain": [
              "                        Name   Brand               Model Price (Rs)  Year  \\\n",
              "0                Honda Vezel   Honda               Vezel   12900000  2017   \n",
              "1                  Jaguar XF  Jaguar                  XF   16250000  2013   \n",
              "2                 Toyota CHR  Toyota                 CHR   17000000  2020   \n",
              "3                 Toyota CHR  Toyota                 CHR   13000000  2017   \n",
              "4  Toyota Land Cruiser Prado  Toyota  Land Cruiser Prado   33500000  2015   \n",
              "\n",
              "  Condition Transmission       Body    Fuel  Capacity    Mileage  \\\n",
              "0      Used    Automatic  SUV / 4x4  Hybrid  1,500 cc  37,000 km   \n",
              "1      Used    Automatic     Saloon  Diesel  2,200 cc  42,000 km   \n",
              "2      Used    Automatic  SUV / 4x4  Petrol  1,200 cc  15,000 km   \n",
              "3      Used    Automatic  SUV / 4x4  Petrol  1,200 cc  21,000 km   \n",
              "4      Used    Automatic  SUV / 4x4  Petrol  2,700 cc  57,000 km   \n",
              "\n",
              "                        Location     Seller_type  \n",
              "0   Kurunegala City,  Kurunegala  Premium-Member  \n",
              "1   Kurunegala City,  Kurunegala          Member  \n",
              "2            Colombo 7,  Colombo          Member  \n",
              "3            Colombo 7,  Colombo          Member  \n",
              "4             Kelaniya,  Gampaha          Member  "
            ],
            "text/html": [
              "\n",
              "  <div id=\"df-feacf00e-551d-4750-b0e4-e1025a6b4ec0\">\n",
              "    <div class=\"colab-df-container\">\n",
              "      <div>\n",
              "<style scoped>\n",
              "    .dataframe tbody tr th:only-of-type {\n",
              "        vertical-align: middle;\n",
              "    }\n",
              "\n",
              "    .dataframe tbody tr th {\n",
              "        vertical-align: top;\n",
              "    }\n",
              "\n",
              "    .dataframe thead th {\n",
              "        text-align: right;\n",
              "    }\n",
              "</style>\n",
              "<table border=\"1\" class=\"dataframe\">\n",
              "  <thead>\n",
              "    <tr style=\"text-align: right;\">\n",
              "      <th></th>\n",
              "      <th>Name</th>\n",
              "      <th>Brand</th>\n",
              "      <th>Model</th>\n",
              "      <th>Price (Rs)</th>\n",
              "      <th>Year</th>\n",
              "      <th>Condition</th>\n",
              "      <th>Transmission</th>\n",
              "      <th>Body</th>\n",
              "      <th>Fuel</th>\n",
              "      <th>Capacity</th>\n",
              "      <th>Mileage</th>\n",
              "      <th>Location</th>\n",
              "      <th>Seller_type</th>\n",
              "    </tr>\n",
              "  </thead>\n",
              "  <tbody>\n",
              "    <tr>\n",
              "      <th>0</th>\n",
              "      <td>Honda Vezel</td>\n",
              "      <td>Honda</td>\n",
              "      <td>Vezel</td>\n",
              "      <td>12900000</td>\n",
              "      <td>2017</td>\n",
              "      <td>Used</td>\n",
              "      <td>Automatic</td>\n",
              "      <td>SUV / 4x4</td>\n",
              "      <td>Hybrid</td>\n",
              "      <td>1,500 cc</td>\n",
              "      <td>37,000 km</td>\n",
              "      <td>Kurunegala City,  Kurunegala</td>\n",
              "      <td>Premium-Member</td>\n",
              "    </tr>\n",
              "    <tr>\n",
              "      <th>1</th>\n",
              "      <td>Jaguar XF</td>\n",
              "      <td>Jaguar</td>\n",
              "      <td>XF</td>\n",
              "      <td>16250000</td>\n",
              "      <td>2013</td>\n",
              "      <td>Used</td>\n",
              "      <td>Automatic</td>\n",
              "      <td>Saloon</td>\n",
              "      <td>Diesel</td>\n",
              "      <td>2,200 cc</td>\n",
              "      <td>42,000 km</td>\n",
              "      <td>Kurunegala City,  Kurunegala</td>\n",
              "      <td>Member</td>\n",
              "    </tr>\n",
              "    <tr>\n",
              "      <th>2</th>\n",
              "      <td>Toyota CHR</td>\n",
              "      <td>Toyota</td>\n",
              "      <td>CHR</td>\n",
              "      <td>17000000</td>\n",
              "      <td>2020</td>\n",
              "      <td>Used</td>\n",
              "      <td>Automatic</td>\n",
              "      <td>SUV / 4x4</td>\n",
              "      <td>Petrol</td>\n",
              "      <td>1,200 cc</td>\n",
              "      <td>15,000 km</td>\n",
              "      <td>Colombo 7,  Colombo</td>\n",
              "      <td>Member</td>\n",
              "    </tr>\n",
              "    <tr>\n",
              "      <th>3</th>\n",
              "      <td>Toyota CHR</td>\n",
              "      <td>Toyota</td>\n",
              "      <td>CHR</td>\n",
              "      <td>13000000</td>\n",
              "      <td>2017</td>\n",
              "      <td>Used</td>\n",
              "      <td>Automatic</td>\n",
              "      <td>SUV / 4x4</td>\n",
              "      <td>Petrol</td>\n",
              "      <td>1,200 cc</td>\n",
              "      <td>21,000 km</td>\n",
              "      <td>Colombo 7,  Colombo</td>\n",
              "      <td>Member</td>\n",
              "    </tr>\n",
              "    <tr>\n",
              "      <th>4</th>\n",
              "      <td>Toyota Land Cruiser Prado</td>\n",
              "      <td>Toyota</td>\n",
              "      <td>Land Cruiser Prado</td>\n",
              "      <td>33500000</td>\n",
              "      <td>2015</td>\n",
              "      <td>Used</td>\n",
              "      <td>Automatic</td>\n",
              "      <td>SUV / 4x4</td>\n",
              "      <td>Petrol</td>\n",
              "      <td>2,700 cc</td>\n",
              "      <td>57,000 km</td>\n",
              "      <td>Kelaniya,  Gampaha</td>\n",
              "      <td>Member</td>\n",
              "    </tr>\n",
              "  </tbody>\n",
              "</table>\n",
              "</div>\n",
              "      <button class=\"colab-df-convert\" onclick=\"convertToInteractive('df-feacf00e-551d-4750-b0e4-e1025a6b4ec0')\"\n",
              "              title=\"Convert this dataframe to an interactive table.\"\n",
              "              style=\"display:none;\">\n",
              "        \n",
              "  <svg xmlns=\"http://www.w3.org/2000/svg\" height=\"24px\"viewBox=\"0 0 24 24\"\n",
              "       width=\"24px\">\n",
              "    <path d=\"M0 0h24v24H0V0z\" fill=\"none\"/>\n",
              "    <path d=\"M18.56 5.44l.94 2.06.94-2.06 2.06-.94-2.06-.94-.94-2.06-.94 2.06-2.06.94zm-11 1L8.5 8.5l.94-2.06 2.06-.94-2.06-.94L8.5 2.5l-.94 2.06-2.06.94zm10 10l.94 2.06.94-2.06 2.06-.94-2.06-.94-.94-2.06-.94 2.06-2.06.94z\"/><path d=\"M17.41 7.96l-1.37-1.37c-.4-.4-.92-.59-1.43-.59-.52 0-1.04.2-1.43.59L10.3 9.45l-7.72 7.72c-.78.78-.78 2.05 0 2.83L4 21.41c.39.39.9.59 1.41.59.51 0 1.02-.2 1.41-.59l7.78-7.78 2.81-2.81c.8-.78.8-2.07 0-2.86zM5.41 20L4 18.59l7.72-7.72 1.47 1.35L5.41 20z\"/>\n",
              "  </svg>\n",
              "      </button>\n",
              "      \n",
              "  <style>\n",
              "    .colab-df-container {\n",
              "      display:flex;\n",
              "      flex-wrap:wrap;\n",
              "      gap: 12px;\n",
              "    }\n",
              "\n",
              "    .colab-df-convert {\n",
              "      background-color: #E8F0FE;\n",
              "      border: none;\n",
              "      border-radius: 50%;\n",
              "      cursor: pointer;\n",
              "      display: none;\n",
              "      fill: #1967D2;\n",
              "      height: 32px;\n",
              "      padding: 0 0 0 0;\n",
              "      width: 32px;\n",
              "    }\n",
              "\n",
              "    .colab-df-convert:hover {\n",
              "      background-color: #E2EBFA;\n",
              "      box-shadow: 0px 1px 2px rgba(60, 64, 67, 0.3), 0px 1px 3px 1px rgba(60, 64, 67, 0.15);\n",
              "      fill: #174EA6;\n",
              "    }\n",
              "\n",
              "    [theme=dark] .colab-df-convert {\n",
              "      background-color: #3B4455;\n",
              "      fill: #D2E3FC;\n",
              "    }\n",
              "\n",
              "    [theme=dark] .colab-df-convert:hover {\n",
              "      background-color: #434B5C;\n",
              "      box-shadow: 0px 1px 3px 1px rgba(0, 0, 0, 0.15);\n",
              "      filter: drop-shadow(0px 1px 2px rgba(0, 0, 0, 0.3));\n",
              "      fill: #FFFFFF;\n",
              "    }\n",
              "  </style>\n",
              "\n",
              "      <script>\n",
              "        const buttonEl =\n",
              "          document.querySelector('#df-feacf00e-551d-4750-b0e4-e1025a6b4ec0 button.colab-df-convert');\n",
              "        buttonEl.style.display =\n",
              "          google.colab.kernel.accessAllowed ? 'block' : 'none';\n",
              "\n",
              "        async function convertToInteractive(key) {\n",
              "          const element = document.querySelector('#df-feacf00e-551d-4750-b0e4-e1025a6b4ec0');\n",
              "          const dataTable =\n",
              "            await google.colab.kernel.invokeFunction('convertToInteractive',\n",
              "                                                     [key], {});\n",
              "          if (!dataTable) return;\n",
              "\n",
              "          const docLinkHtml = 'Like what you see? Visit the ' +\n",
              "            '<a target=\"_blank\" href=https://colab.research.google.com/notebooks/data_table.ipynb>data table notebook</a>'\n",
              "            + ' to learn more about interactive tables.';\n",
              "          element.innerHTML = '';\n",
              "          dataTable['output_type'] = 'display_data';\n",
              "          await google.colab.output.renderOutput(dataTable, element);\n",
              "          const docLink = document.createElement('div');\n",
              "          docLink.innerHTML = docLinkHtml;\n",
              "          element.appendChild(docLink);\n",
              "        }\n",
              "      </script>\n",
              "    </div>\n",
              "  </div>\n",
              "  "
            ]
          },
          "metadata": {},
          "execution_count": 263
        }
      ]
    },
    {
      "cell_type": "code",
      "source": [
        "df.drop(df.index[df['Price (Rs)'] == \" Negotiable\"], inplace = True)"
      ],
      "metadata": {
        "id": "BWQnqYAIK3Az"
      },
      "execution_count": null,
      "outputs": []
    },
    {
      "cell_type": "markdown",
      "source": [
        "#### Here, I have decided to remove those rows that contain \"Negotiable\" because of the following reasons:\n",
        "\n",
        "1. When price of a vehicle is negotiable, we can automatically see that the price will be lower than the average price for the same product.\n",
        "2. For this column we cannot simply impute \"Negotiable\" with median/mean because the price to impute will depend on brand, model, and year of model, uniqueness of the product, etc. Though we can use kNN to impute null, it is just too complex considering we are looking at only 4.45% of the data."
      ],
      "metadata": {
        "id": "10nocqzrMZOE"
      }
    },
    {
      "cell_type": "code",
      "source": [
        "df[\"Price (Rs)\"] = df[\"Price (Rs)\"].astype(float)"
      ],
      "metadata": {
        "id": "ekDjFqbg_JjF"
      },
      "execution_count": null,
      "outputs": []
    },
    {
      "cell_type": "code",
      "source": [
        "df.info()"
      ],
      "metadata": {
        "colab": {
          "base_uri": "https://localhost:8080/"
        },
        "id": "HK-6mvbRUs07",
        "outputId": "cb9e49bd-cb9c-4520-f703-cb2c495cc5c5"
      },
      "execution_count": null,
      "outputs": [
        {
          "output_type": "stream",
          "name": "stdout",
          "text": [
            "<class 'pandas.core.frame.DataFrame'>\n",
            "Int64Index: 118456 entries, 0 to 123970\n",
            "Data columns (total 13 columns):\n",
            " #   Column        Non-Null Count   Dtype  \n",
            "---  ------        --------------   -----  \n",
            " 0   Name          118452 non-null  object \n",
            " 1   Brand         118452 non-null  object \n",
            " 2   Model         118452 non-null  object \n",
            " 3   Price (Rs)    118456 non-null  float64\n",
            " 4   Year          118456 non-null  int64  \n",
            " 5   Condition     118456 non-null  object \n",
            " 6   Transmission  118455 non-null  object \n",
            " 7   Body          113361 non-null  object \n",
            " 8   Fuel          118456 non-null  object \n",
            " 9   Capacity      118274 non-null  object \n",
            " 10  Mileage       118456 non-null  object \n",
            " 11  Location      118456 non-null  object \n",
            " 12  Seller_type   118456 non-null  object \n",
            "dtypes: float64(1), int64(1), object(11)\n",
            "memory usage: 12.7+ MB\n"
          ]
        }
      ]
    },
    {
      "cell_type": "code",
      "source": [
        "df.shape"
      ],
      "metadata": {
        "colab": {
          "base_uri": "https://localhost:8080/"
        },
        "id": "bjxPDwsCUxRk",
        "outputId": "3125edc7-cb8f-427e-dced-d43981ccd952"
      },
      "execution_count": null,
      "outputs": [
        {
          "output_type": "execute_result",
          "data": {
            "text/plain": [
              "(118456, 13)"
            ]
          },
          "metadata": {},
          "execution_count": 267
        }
      ]
    },
    {
      "cell_type": "code",
      "source": [
        "df.head()"
      ],
      "metadata": {
        "colab": {
          "base_uri": "https://localhost:8080/"
        },
        "id": "lYMwgiM4U4RA",
        "outputId": "048c9c4b-f400-4535-81d1-f0df8943faf2"
      },
      "execution_count": null,
      "outputs": [
        {
          "output_type": "execute_result",
          "data": {
            "text/plain": [
              "                        Name   Brand               Model  Price (Rs)  Year  \\\n",
              "0                Honda Vezel   Honda               Vezel  12900000.0  2017   \n",
              "1                  Jaguar XF  Jaguar                  XF  16250000.0  2013   \n",
              "2                 Toyota CHR  Toyota                 CHR  17000000.0  2020   \n",
              "3                 Toyota CHR  Toyota                 CHR  13000000.0  2017   \n",
              "4  Toyota Land Cruiser Prado  Toyota  Land Cruiser Prado  33500000.0  2015   \n",
              "\n",
              "  Condition Transmission       Body    Fuel  Capacity    Mileage  \\\n",
              "0      Used    Automatic  SUV / 4x4  Hybrid  1,500 cc  37,000 km   \n",
              "1      Used    Automatic     Saloon  Diesel  2,200 cc  42,000 km   \n",
              "2      Used    Automatic  SUV / 4x4  Petrol  1,200 cc  15,000 km   \n",
              "3      Used    Automatic  SUV / 4x4  Petrol  1,200 cc  21,000 km   \n",
              "4      Used    Automatic  SUV / 4x4  Petrol  2,700 cc  57,000 km   \n",
              "\n",
              "                        Location     Seller_type  \n",
              "0   Kurunegala City,  Kurunegala  Premium-Member  \n",
              "1   Kurunegala City,  Kurunegala          Member  \n",
              "2            Colombo 7,  Colombo          Member  \n",
              "3            Colombo 7,  Colombo          Member  \n",
              "4             Kelaniya,  Gampaha          Member  "
            ],
            "text/html": [
              "\n",
              "  <div id=\"df-1be8e3c4-b91a-4870-9704-4b6c57b920b2\">\n",
              "    <div class=\"colab-df-container\">\n",
              "      <div>\n",
              "<style scoped>\n",
              "    .dataframe tbody tr th:only-of-type {\n",
              "        vertical-align: middle;\n",
              "    }\n",
              "\n",
              "    .dataframe tbody tr th {\n",
              "        vertical-align: top;\n",
              "    }\n",
              "\n",
              "    .dataframe thead th {\n",
              "        text-align: right;\n",
              "    }\n",
              "</style>\n",
              "<table border=\"1\" class=\"dataframe\">\n",
              "  <thead>\n",
              "    <tr style=\"text-align: right;\">\n",
              "      <th></th>\n",
              "      <th>Name</th>\n",
              "      <th>Brand</th>\n",
              "      <th>Model</th>\n",
              "      <th>Price (Rs)</th>\n",
              "      <th>Year</th>\n",
              "      <th>Condition</th>\n",
              "      <th>Transmission</th>\n",
              "      <th>Body</th>\n",
              "      <th>Fuel</th>\n",
              "      <th>Capacity</th>\n",
              "      <th>Mileage</th>\n",
              "      <th>Location</th>\n",
              "      <th>Seller_type</th>\n",
              "    </tr>\n",
              "  </thead>\n",
              "  <tbody>\n",
              "    <tr>\n",
              "      <th>0</th>\n",
              "      <td>Honda Vezel</td>\n",
              "      <td>Honda</td>\n",
              "      <td>Vezel</td>\n",
              "      <td>12900000.0</td>\n",
              "      <td>2017</td>\n",
              "      <td>Used</td>\n",
              "      <td>Automatic</td>\n",
              "      <td>SUV / 4x4</td>\n",
              "      <td>Hybrid</td>\n",
              "      <td>1,500 cc</td>\n",
              "      <td>37,000 km</td>\n",
              "      <td>Kurunegala City,  Kurunegala</td>\n",
              "      <td>Premium-Member</td>\n",
              "    </tr>\n",
              "    <tr>\n",
              "      <th>1</th>\n",
              "      <td>Jaguar XF</td>\n",
              "      <td>Jaguar</td>\n",
              "      <td>XF</td>\n",
              "      <td>16250000.0</td>\n",
              "      <td>2013</td>\n",
              "      <td>Used</td>\n",
              "      <td>Automatic</td>\n",
              "      <td>Saloon</td>\n",
              "      <td>Diesel</td>\n",
              "      <td>2,200 cc</td>\n",
              "      <td>42,000 km</td>\n",
              "      <td>Kurunegala City,  Kurunegala</td>\n",
              "      <td>Member</td>\n",
              "    </tr>\n",
              "    <tr>\n",
              "      <th>2</th>\n",
              "      <td>Toyota CHR</td>\n",
              "      <td>Toyota</td>\n",
              "      <td>CHR</td>\n",
              "      <td>17000000.0</td>\n",
              "      <td>2020</td>\n",
              "      <td>Used</td>\n",
              "      <td>Automatic</td>\n",
              "      <td>SUV / 4x4</td>\n",
              "      <td>Petrol</td>\n",
              "      <td>1,200 cc</td>\n",
              "      <td>15,000 km</td>\n",
              "      <td>Colombo 7,  Colombo</td>\n",
              "      <td>Member</td>\n",
              "    </tr>\n",
              "    <tr>\n",
              "      <th>3</th>\n",
              "      <td>Toyota CHR</td>\n",
              "      <td>Toyota</td>\n",
              "      <td>CHR</td>\n",
              "      <td>13000000.0</td>\n",
              "      <td>2017</td>\n",
              "      <td>Used</td>\n",
              "      <td>Automatic</td>\n",
              "      <td>SUV / 4x4</td>\n",
              "      <td>Petrol</td>\n",
              "      <td>1,200 cc</td>\n",
              "      <td>21,000 km</td>\n",
              "      <td>Colombo 7,  Colombo</td>\n",
              "      <td>Member</td>\n",
              "    </tr>\n",
              "    <tr>\n",
              "      <th>4</th>\n",
              "      <td>Toyota Land Cruiser Prado</td>\n",
              "      <td>Toyota</td>\n",
              "      <td>Land Cruiser Prado</td>\n",
              "      <td>33500000.0</td>\n",
              "      <td>2015</td>\n",
              "      <td>Used</td>\n",
              "      <td>Automatic</td>\n",
              "      <td>SUV / 4x4</td>\n",
              "      <td>Petrol</td>\n",
              "      <td>2,700 cc</td>\n",
              "      <td>57,000 km</td>\n",
              "      <td>Kelaniya,  Gampaha</td>\n",
              "      <td>Member</td>\n",
              "    </tr>\n",
              "  </tbody>\n",
              "</table>\n",
              "</div>\n",
              "      <button class=\"colab-df-convert\" onclick=\"convertToInteractive('df-1be8e3c4-b91a-4870-9704-4b6c57b920b2')\"\n",
              "              title=\"Convert this dataframe to an interactive table.\"\n",
              "              style=\"display:none;\">\n",
              "        \n",
              "  <svg xmlns=\"http://www.w3.org/2000/svg\" height=\"24px\"viewBox=\"0 0 24 24\"\n",
              "       width=\"24px\">\n",
              "    <path d=\"M0 0h24v24H0V0z\" fill=\"none\"/>\n",
              "    <path d=\"M18.56 5.44l.94 2.06.94-2.06 2.06-.94-2.06-.94-.94-2.06-.94 2.06-2.06.94zm-11 1L8.5 8.5l.94-2.06 2.06-.94-2.06-.94L8.5 2.5l-.94 2.06-2.06.94zm10 10l.94 2.06.94-2.06 2.06-.94-2.06-.94-.94-2.06-.94 2.06-2.06.94z\"/><path d=\"M17.41 7.96l-1.37-1.37c-.4-.4-.92-.59-1.43-.59-.52 0-1.04.2-1.43.59L10.3 9.45l-7.72 7.72c-.78.78-.78 2.05 0 2.83L4 21.41c.39.39.9.59 1.41.59.51 0 1.02-.2 1.41-.59l7.78-7.78 2.81-2.81c.8-.78.8-2.07 0-2.86zM5.41 20L4 18.59l7.72-7.72 1.47 1.35L5.41 20z\"/>\n",
              "  </svg>\n",
              "      </button>\n",
              "      \n",
              "  <style>\n",
              "    .colab-df-container {\n",
              "      display:flex;\n",
              "      flex-wrap:wrap;\n",
              "      gap: 12px;\n",
              "    }\n",
              "\n",
              "    .colab-df-convert {\n",
              "      background-color: #E8F0FE;\n",
              "      border: none;\n",
              "      border-radius: 50%;\n",
              "      cursor: pointer;\n",
              "      display: none;\n",
              "      fill: #1967D2;\n",
              "      height: 32px;\n",
              "      padding: 0 0 0 0;\n",
              "      width: 32px;\n",
              "    }\n",
              "\n",
              "    .colab-df-convert:hover {\n",
              "      background-color: #E2EBFA;\n",
              "      box-shadow: 0px 1px 2px rgba(60, 64, 67, 0.3), 0px 1px 3px 1px rgba(60, 64, 67, 0.15);\n",
              "      fill: #174EA6;\n",
              "    }\n",
              "\n",
              "    [theme=dark] .colab-df-convert {\n",
              "      background-color: #3B4455;\n",
              "      fill: #D2E3FC;\n",
              "    }\n",
              "\n",
              "    [theme=dark] .colab-df-convert:hover {\n",
              "      background-color: #434B5C;\n",
              "      box-shadow: 0px 1px 3px 1px rgba(0, 0, 0, 0.15);\n",
              "      filter: drop-shadow(0px 1px 2px rgba(0, 0, 0, 0.3));\n",
              "      fill: #FFFFFF;\n",
              "    }\n",
              "  </style>\n",
              "\n",
              "      <script>\n",
              "        const buttonEl =\n",
              "          document.querySelector('#df-1be8e3c4-b91a-4870-9704-4b6c57b920b2 button.colab-df-convert');\n",
              "        buttonEl.style.display =\n",
              "          google.colab.kernel.accessAllowed ? 'block' : 'none';\n",
              "\n",
              "        async function convertToInteractive(key) {\n",
              "          const element = document.querySelector('#df-1be8e3c4-b91a-4870-9704-4b6c57b920b2');\n",
              "          const dataTable =\n",
              "            await google.colab.kernel.invokeFunction('convertToInteractive',\n",
              "                                                     [key], {});\n",
              "          if (!dataTable) return;\n",
              "\n",
              "          const docLinkHtml = 'Like what you see? Visit the ' +\n",
              "            '<a target=\"_blank\" href=https://colab.research.google.com/notebooks/data_table.ipynb>data table notebook</a>'\n",
              "            + ' to learn more about interactive tables.';\n",
              "          element.innerHTML = '';\n",
              "          dataTable['output_type'] = 'display_data';\n",
              "          await google.colab.output.renderOutput(dataTable, element);\n",
              "          const docLink = document.createElement('div');\n",
              "          docLink.innerHTML = docLinkHtml;\n",
              "          element.appendChild(docLink);\n",
              "        }\n",
              "      </script>\n",
              "    </div>\n",
              "  </div>\n",
              "  "
            ]
          },
          "metadata": {},
          "execution_count": 268
        }
      ]
    },
    {
      "cell_type": "code",
      "source": [],
      "metadata": {
        "id": "Ywqqw0rvW9Ul"
      },
      "execution_count": null,
      "outputs": []
    },
    {
      "cell_type": "markdown",
      "source": [
        "### Cleaning \"Capacity\" column"
      ],
      "metadata": {
        "id": "KWCAFyIna3cZ"
      }
    },
    {
      "cell_type": "code",
      "source": [
        "df[\"Capacity\"].isna().sum()"
      ],
      "metadata": {
        "id": "dabgzepibAwc",
        "colab": {
          "base_uri": "https://localhost:8080/"
        },
        "outputId": "e26f9196-c1aa-4c4b-cacf-91c987d96442"
      },
      "execution_count": null,
      "outputs": [
        {
          "output_type": "execute_result",
          "data": {
            "text/plain": [
              "182"
            ]
          },
          "metadata": {},
          "execution_count": 269
        }
      ]
    },
    {
      "cell_type": "code",
      "source": [
        "df[df[\"Capacity\"] == \"Automatic\"]"
      ],
      "metadata": {
        "colab": {
          "base_uri": "https://localhost:8080/",
          "height": 112
        },
        "id": "IeU95BGjK_AM",
        "outputId": "d43b9739-2799-4619-ea97-2b8106f827cb"
      },
      "execution_count": null,
      "outputs": [
        {
          "output_type": "execute_result",
          "data": {
            "text/plain": [
              "              Name  Brand Model  Price (Rs)  Year Condition Transmission  \\\n",
              "102097    TVS Wego    TVS  Wego    355000.0  2018      Used    Automatic   \n",
              "117619  Honda Navi  Honda  Navi    300000.0  2019      Used    Automatic   \n",
              "\n",
              "             Body    Fuel   Capacity Mileage  Location Seller_type  \n",
              "102097  Motorbike  Petrol  Automatic   22500     Galle      Member  \n",
              "117619  Motorbike  Petrol  Automatic    8000   Gampaha      Member  "
            ],
            "text/html": [
              "\n",
              "  <div id=\"df-2b75b294-d00d-495a-b90f-be5f2d9b0eab\">\n",
              "    <div class=\"colab-df-container\">\n",
              "      <div>\n",
              "<style scoped>\n",
              "    .dataframe tbody tr th:only-of-type {\n",
              "        vertical-align: middle;\n",
              "    }\n",
              "\n",
              "    .dataframe tbody tr th {\n",
              "        vertical-align: top;\n",
              "    }\n",
              "\n",
              "    .dataframe thead th {\n",
              "        text-align: right;\n",
              "    }\n",
              "</style>\n",
              "<table border=\"1\" class=\"dataframe\">\n",
              "  <thead>\n",
              "    <tr style=\"text-align: right;\">\n",
              "      <th></th>\n",
              "      <th>Name</th>\n",
              "      <th>Brand</th>\n",
              "      <th>Model</th>\n",
              "      <th>Price (Rs)</th>\n",
              "      <th>Year</th>\n",
              "      <th>Condition</th>\n",
              "      <th>Transmission</th>\n",
              "      <th>Body</th>\n",
              "      <th>Fuel</th>\n",
              "      <th>Capacity</th>\n",
              "      <th>Mileage</th>\n",
              "      <th>Location</th>\n",
              "      <th>Seller_type</th>\n",
              "    </tr>\n",
              "  </thead>\n",
              "  <tbody>\n",
              "    <tr>\n",
              "      <th>102097</th>\n",
              "      <td>TVS Wego</td>\n",
              "      <td>TVS</td>\n",
              "      <td>Wego</td>\n",
              "      <td>355000.0</td>\n",
              "      <td>2018</td>\n",
              "      <td>Used</td>\n",
              "      <td>Automatic</td>\n",
              "      <td>Motorbike</td>\n",
              "      <td>Petrol</td>\n",
              "      <td>Automatic</td>\n",
              "      <td>22500</td>\n",
              "      <td>Galle</td>\n",
              "      <td>Member</td>\n",
              "    </tr>\n",
              "    <tr>\n",
              "      <th>117619</th>\n",
              "      <td>Honda Navi</td>\n",
              "      <td>Honda</td>\n",
              "      <td>Navi</td>\n",
              "      <td>300000.0</td>\n",
              "      <td>2019</td>\n",
              "      <td>Used</td>\n",
              "      <td>Automatic</td>\n",
              "      <td>Motorbike</td>\n",
              "      <td>Petrol</td>\n",
              "      <td>Automatic</td>\n",
              "      <td>8000</td>\n",
              "      <td>Gampaha</td>\n",
              "      <td>Member</td>\n",
              "    </tr>\n",
              "  </tbody>\n",
              "</table>\n",
              "</div>\n",
              "      <button class=\"colab-df-convert\" onclick=\"convertToInteractive('df-2b75b294-d00d-495a-b90f-be5f2d9b0eab')\"\n",
              "              title=\"Convert this dataframe to an interactive table.\"\n",
              "              style=\"display:none;\">\n",
              "        \n",
              "  <svg xmlns=\"http://www.w3.org/2000/svg\" height=\"24px\"viewBox=\"0 0 24 24\"\n",
              "       width=\"24px\">\n",
              "    <path d=\"M0 0h24v24H0V0z\" fill=\"none\"/>\n",
              "    <path d=\"M18.56 5.44l.94 2.06.94-2.06 2.06-.94-2.06-.94-.94-2.06-.94 2.06-2.06.94zm-11 1L8.5 8.5l.94-2.06 2.06-.94-2.06-.94L8.5 2.5l-.94 2.06-2.06.94zm10 10l.94 2.06.94-2.06 2.06-.94-2.06-.94-.94-2.06-.94 2.06-2.06.94z\"/><path d=\"M17.41 7.96l-1.37-1.37c-.4-.4-.92-.59-1.43-.59-.52 0-1.04.2-1.43.59L10.3 9.45l-7.72 7.72c-.78.78-.78 2.05 0 2.83L4 21.41c.39.39.9.59 1.41.59.51 0 1.02-.2 1.41-.59l7.78-7.78 2.81-2.81c.8-.78.8-2.07 0-2.86zM5.41 20L4 18.59l7.72-7.72 1.47 1.35L5.41 20z\"/>\n",
              "  </svg>\n",
              "      </button>\n",
              "      \n",
              "  <style>\n",
              "    .colab-df-container {\n",
              "      display:flex;\n",
              "      flex-wrap:wrap;\n",
              "      gap: 12px;\n",
              "    }\n",
              "\n",
              "    .colab-df-convert {\n",
              "      background-color: #E8F0FE;\n",
              "      border: none;\n",
              "      border-radius: 50%;\n",
              "      cursor: pointer;\n",
              "      display: none;\n",
              "      fill: #1967D2;\n",
              "      height: 32px;\n",
              "      padding: 0 0 0 0;\n",
              "      width: 32px;\n",
              "    }\n",
              "\n",
              "    .colab-df-convert:hover {\n",
              "      background-color: #E2EBFA;\n",
              "      box-shadow: 0px 1px 2px rgba(60, 64, 67, 0.3), 0px 1px 3px 1px rgba(60, 64, 67, 0.15);\n",
              "      fill: #174EA6;\n",
              "    }\n",
              "\n",
              "    [theme=dark] .colab-df-convert {\n",
              "      background-color: #3B4455;\n",
              "      fill: #D2E3FC;\n",
              "    }\n",
              "\n",
              "    [theme=dark] .colab-df-convert:hover {\n",
              "      background-color: #434B5C;\n",
              "      box-shadow: 0px 1px 3px 1px rgba(0, 0, 0, 0.15);\n",
              "      filter: drop-shadow(0px 1px 2px rgba(0, 0, 0, 0.3));\n",
              "      fill: #FFFFFF;\n",
              "    }\n",
              "  </style>\n",
              "\n",
              "      <script>\n",
              "        const buttonEl =\n",
              "          document.querySelector('#df-2b75b294-d00d-495a-b90f-be5f2d9b0eab button.colab-df-convert');\n",
              "        buttonEl.style.display =\n",
              "          google.colab.kernel.accessAllowed ? 'block' : 'none';\n",
              "\n",
              "        async function convertToInteractive(key) {\n",
              "          const element = document.querySelector('#df-2b75b294-d00d-495a-b90f-be5f2d9b0eab');\n",
              "          const dataTable =\n",
              "            await google.colab.kernel.invokeFunction('convertToInteractive',\n",
              "                                                     [key], {});\n",
              "          if (!dataTable) return;\n",
              "\n",
              "          const docLinkHtml = 'Like what you see? Visit the ' +\n",
              "            '<a target=\"_blank\" href=https://colab.research.google.com/notebooks/data_table.ipynb>data table notebook</a>'\n",
              "            + ' to learn more about interactive tables.';\n",
              "          element.innerHTML = '';\n",
              "          dataTable['output_type'] = 'display_data';\n",
              "          await google.colab.output.renderOutput(dataTable, element);\n",
              "          const docLink = document.createElement('div');\n",
              "          docLink.innerHTML = docLinkHtml;\n",
              "          element.appendChild(docLink);\n",
              "        }\n",
              "      </script>\n",
              "    </div>\n",
              "  </div>\n",
              "  "
            ]
          },
          "metadata": {},
          "execution_count": 270
        }
      ]
    },
    {
      "cell_type": "markdown",
      "source": [
        "Here, both these vehicles are 110 cc Capacity (Source: Google) but wrongly labelled as \"Automatic\". So changing these to 110"
      ],
      "metadata": {
        "id": "9w1_HZmhL52W"
      }
    },
    {
      "cell_type": "code",
      "source": [
        "df[\"Capacity\"] = df[\"Capacity\"].replace(\"Automatic\", 110, regex = True)"
      ],
      "metadata": {
        "id": "-o0qRl9eL5QG"
      },
      "execution_count": null,
      "outputs": []
    },
    {
      "cell_type": "code",
      "source": [
        "df[df[\"Capacity\"] == \"Automatic\"]"
      ],
      "metadata": {
        "colab": {
          "base_uri": "https://localhost:8080/",
          "height": 49
        },
        "id": "ek7Qg4aTUTUD",
        "outputId": "7cd355b5-21d2-4bd6-a0be-fe7c565f8268"
      },
      "execution_count": null,
      "outputs": [
        {
          "output_type": "execute_result",
          "data": {
            "text/plain": [
              "Empty DataFrame\n",
              "Columns: [Name, Brand, Model, Price (Rs), Year, Condition, Transmission, Body, Fuel, Capacity, Mileage, Location, Seller_type]\n",
              "Index: []"
            ],
            "text/html": [
              "\n",
              "  <div id=\"df-e4d05180-36a4-49df-8553-a7d796e89e71\">\n",
              "    <div class=\"colab-df-container\">\n",
              "      <div>\n",
              "<style scoped>\n",
              "    .dataframe tbody tr th:only-of-type {\n",
              "        vertical-align: middle;\n",
              "    }\n",
              "\n",
              "    .dataframe tbody tr th {\n",
              "        vertical-align: top;\n",
              "    }\n",
              "\n",
              "    .dataframe thead th {\n",
              "        text-align: right;\n",
              "    }\n",
              "</style>\n",
              "<table border=\"1\" class=\"dataframe\">\n",
              "  <thead>\n",
              "    <tr style=\"text-align: right;\">\n",
              "      <th></th>\n",
              "      <th>Name</th>\n",
              "      <th>Brand</th>\n",
              "      <th>Model</th>\n",
              "      <th>Price (Rs)</th>\n",
              "      <th>Year</th>\n",
              "      <th>Condition</th>\n",
              "      <th>Transmission</th>\n",
              "      <th>Body</th>\n",
              "      <th>Fuel</th>\n",
              "      <th>Capacity</th>\n",
              "      <th>Mileage</th>\n",
              "      <th>Location</th>\n",
              "      <th>Seller_type</th>\n",
              "    </tr>\n",
              "  </thead>\n",
              "  <tbody>\n",
              "  </tbody>\n",
              "</table>\n",
              "</div>\n",
              "      <button class=\"colab-df-convert\" onclick=\"convertToInteractive('df-e4d05180-36a4-49df-8553-a7d796e89e71')\"\n",
              "              title=\"Convert this dataframe to an interactive table.\"\n",
              "              style=\"display:none;\">\n",
              "        \n",
              "  <svg xmlns=\"http://www.w3.org/2000/svg\" height=\"24px\"viewBox=\"0 0 24 24\"\n",
              "       width=\"24px\">\n",
              "    <path d=\"M0 0h24v24H0V0z\" fill=\"none\"/>\n",
              "    <path d=\"M18.56 5.44l.94 2.06.94-2.06 2.06-.94-2.06-.94-.94-2.06-.94 2.06-2.06.94zm-11 1L8.5 8.5l.94-2.06 2.06-.94-2.06-.94L8.5 2.5l-.94 2.06-2.06.94zm10 10l.94 2.06.94-2.06 2.06-.94-2.06-.94-.94-2.06-.94 2.06-2.06.94z\"/><path d=\"M17.41 7.96l-1.37-1.37c-.4-.4-.92-.59-1.43-.59-.52 0-1.04.2-1.43.59L10.3 9.45l-7.72 7.72c-.78.78-.78 2.05 0 2.83L4 21.41c.39.39.9.59 1.41.59.51 0 1.02-.2 1.41-.59l7.78-7.78 2.81-2.81c.8-.78.8-2.07 0-2.86zM5.41 20L4 18.59l7.72-7.72 1.47 1.35L5.41 20z\"/>\n",
              "  </svg>\n",
              "      </button>\n",
              "      \n",
              "  <style>\n",
              "    .colab-df-container {\n",
              "      display:flex;\n",
              "      flex-wrap:wrap;\n",
              "      gap: 12px;\n",
              "    }\n",
              "\n",
              "    .colab-df-convert {\n",
              "      background-color: #E8F0FE;\n",
              "      border: none;\n",
              "      border-radius: 50%;\n",
              "      cursor: pointer;\n",
              "      display: none;\n",
              "      fill: #1967D2;\n",
              "      height: 32px;\n",
              "      padding: 0 0 0 0;\n",
              "      width: 32px;\n",
              "    }\n",
              "\n",
              "    .colab-df-convert:hover {\n",
              "      background-color: #E2EBFA;\n",
              "      box-shadow: 0px 1px 2px rgba(60, 64, 67, 0.3), 0px 1px 3px 1px rgba(60, 64, 67, 0.15);\n",
              "      fill: #174EA6;\n",
              "    }\n",
              "\n",
              "    [theme=dark] .colab-df-convert {\n",
              "      background-color: #3B4455;\n",
              "      fill: #D2E3FC;\n",
              "    }\n",
              "\n",
              "    [theme=dark] .colab-df-convert:hover {\n",
              "      background-color: #434B5C;\n",
              "      box-shadow: 0px 1px 3px 1px rgba(0, 0, 0, 0.15);\n",
              "      filter: drop-shadow(0px 1px 2px rgba(0, 0, 0, 0.3));\n",
              "      fill: #FFFFFF;\n",
              "    }\n",
              "  </style>\n",
              "\n",
              "      <script>\n",
              "        const buttonEl =\n",
              "          document.querySelector('#df-e4d05180-36a4-49df-8553-a7d796e89e71 button.colab-df-convert');\n",
              "        buttonEl.style.display =\n",
              "          google.colab.kernel.accessAllowed ? 'block' : 'none';\n",
              "\n",
              "        async function convertToInteractive(key) {\n",
              "          const element = document.querySelector('#df-e4d05180-36a4-49df-8553-a7d796e89e71');\n",
              "          const dataTable =\n",
              "            await google.colab.kernel.invokeFunction('convertToInteractive',\n",
              "                                                     [key], {});\n",
              "          if (!dataTable) return;\n",
              "\n",
              "          const docLinkHtml = 'Like what you see? Visit the ' +\n",
              "            '<a target=\"_blank\" href=https://colab.research.google.com/notebooks/data_table.ipynb>data table notebook</a>'\n",
              "            + ' to learn more about interactive tables.';\n",
              "          element.innerHTML = '';\n",
              "          dataTable['output_type'] = 'display_data';\n",
              "          await google.colab.output.renderOutput(dataTable, element);\n",
              "          const docLink = document.createElement('div');\n",
              "          docLink.innerHTML = docLinkHtml;\n",
              "          element.appendChild(docLink);\n",
              "        }\n",
              "      </script>\n",
              "    </div>\n",
              "  </div>\n",
              "  "
            ]
          },
          "metadata": {},
          "execution_count": 272
        }
      ]
    },
    {
      "cell_type": "code",
      "source": [
        "df[df[\"Capacity\"] == \"Manual\"]"
      ],
      "metadata": {
        "colab": {
          "base_uri": "https://localhost:8080/",
          "height": 363
        },
        "id": "Wt-XO4euLGiG",
        "outputId": "c7d01435-bd7a-4bda-9f42-a773ccb9ef3f"
      },
      "execution_count": null,
      "outputs": [
        {
          "output_type": "execute_result",
          "data": {
            "text/plain": [
              "                           Name       Brand             Model  Price (Rs)  \\\n",
              "70741        Suzuki Gn125 Japan      Suzuki       Gn125 Japan    250000.0   \n",
              "81869             Bajaj Avenger       Bajaj           Avenger    485000.0   \n",
              "90444   Yamaha FZ-S Version 2.0      Yamaha  FZ-S Version 2.0    610000.0   \n",
              "96061              Bajaj Pulsar       Bajaj            Pulsar    250000.0   \n",
              "105978                 Yamaha -      Yamaha                 -     55000.0   \n",
              "110846                Honda pcx       Honda               pcx    710000.0   \n",
              "111908       Bajaj Discover 135       Bajaj      Discover 135    200000.0   \n",
              "115764    Hero-Honda CBZ Xtreme  Hero-Honda        CBZ Xtreme    185000.0   \n",
              "115813              Yamaha Mate      Yamaha              Mate     28500.0   \n",
              "123333          Honda Cb Hornet       Honda         Cb Hornet    575000.0   \n",
              "\n",
              "        Year Condition Transmission       Body    Fuel Capacity Mileage  \\\n",
              "70741   2000      Used    Automatic  Motorbike  Petrol   Manual   12345   \n",
              "81869   2017      Used    Automatic  Motorbike  Petrol   Manual   28000   \n",
              "90444   2019      Used    Automatic  Motorbike  Petrol   Manual   22000   \n",
              "96061   2011      Used    Automatic  Motorbike  Petrol   Manual   60000   \n",
              "105978  2004      Used    Automatic  Motorbike  Petrol   Manual   50000   \n",
              "110846  2015      Used    Automatic  Motorbike  Petrol   Manual   59000   \n",
              "111908  2009      Used    Automatic  Motorbike  Petrol   Manual   65000   \n",
              "115764  2011      Used    Automatic  Motorbike  Petrol   Manual       -   \n",
              "115813  1985      Used    Automatic  Motorbike  Petrol   Manual     455   \n",
              "123333  2019      Used    Automatic  Motorbike  Petrol   Manual   20000   \n",
              "\n",
              "            Location Seller_type  \n",
              "70741       Panadura      Member  \n",
              "81869     Hambantota      Member  \n",
              "90444       Matugama      Member  \n",
              "96061     Nittambuwa      Member  \n",
              "105978       Kegalle      Member  \n",
              "110846         Kandy      Member  \n",
              "111908   Polonnaruwa      Member  \n",
              "115764        Horana      Member  \n",
              "115813         Kandy      Member  \n",
              "123333        Chilaw      Member  "
            ],
            "text/html": [
              "\n",
              "  <div id=\"df-d0bc99e1-333d-46c9-82b9-3c43b7868787\">\n",
              "    <div class=\"colab-df-container\">\n",
              "      <div>\n",
              "<style scoped>\n",
              "    .dataframe tbody tr th:only-of-type {\n",
              "        vertical-align: middle;\n",
              "    }\n",
              "\n",
              "    .dataframe tbody tr th {\n",
              "        vertical-align: top;\n",
              "    }\n",
              "\n",
              "    .dataframe thead th {\n",
              "        text-align: right;\n",
              "    }\n",
              "</style>\n",
              "<table border=\"1\" class=\"dataframe\">\n",
              "  <thead>\n",
              "    <tr style=\"text-align: right;\">\n",
              "      <th></th>\n",
              "      <th>Name</th>\n",
              "      <th>Brand</th>\n",
              "      <th>Model</th>\n",
              "      <th>Price (Rs)</th>\n",
              "      <th>Year</th>\n",
              "      <th>Condition</th>\n",
              "      <th>Transmission</th>\n",
              "      <th>Body</th>\n",
              "      <th>Fuel</th>\n",
              "      <th>Capacity</th>\n",
              "      <th>Mileage</th>\n",
              "      <th>Location</th>\n",
              "      <th>Seller_type</th>\n",
              "    </tr>\n",
              "  </thead>\n",
              "  <tbody>\n",
              "    <tr>\n",
              "      <th>70741</th>\n",
              "      <td>Suzuki Gn125 Japan</td>\n",
              "      <td>Suzuki</td>\n",
              "      <td>Gn125 Japan</td>\n",
              "      <td>250000.0</td>\n",
              "      <td>2000</td>\n",
              "      <td>Used</td>\n",
              "      <td>Automatic</td>\n",
              "      <td>Motorbike</td>\n",
              "      <td>Petrol</td>\n",
              "      <td>Manual</td>\n",
              "      <td>12345</td>\n",
              "      <td>Panadura</td>\n",
              "      <td>Member</td>\n",
              "    </tr>\n",
              "    <tr>\n",
              "      <th>81869</th>\n",
              "      <td>Bajaj Avenger</td>\n",
              "      <td>Bajaj</td>\n",
              "      <td>Avenger</td>\n",
              "      <td>485000.0</td>\n",
              "      <td>2017</td>\n",
              "      <td>Used</td>\n",
              "      <td>Automatic</td>\n",
              "      <td>Motorbike</td>\n",
              "      <td>Petrol</td>\n",
              "      <td>Manual</td>\n",
              "      <td>28000</td>\n",
              "      <td>Hambantota</td>\n",
              "      <td>Member</td>\n",
              "    </tr>\n",
              "    <tr>\n",
              "      <th>90444</th>\n",
              "      <td>Yamaha FZ-S Version 2.0</td>\n",
              "      <td>Yamaha</td>\n",
              "      <td>FZ-S Version 2.0</td>\n",
              "      <td>610000.0</td>\n",
              "      <td>2019</td>\n",
              "      <td>Used</td>\n",
              "      <td>Automatic</td>\n",
              "      <td>Motorbike</td>\n",
              "      <td>Petrol</td>\n",
              "      <td>Manual</td>\n",
              "      <td>22000</td>\n",
              "      <td>Matugama</td>\n",
              "      <td>Member</td>\n",
              "    </tr>\n",
              "    <tr>\n",
              "      <th>96061</th>\n",
              "      <td>Bajaj Pulsar</td>\n",
              "      <td>Bajaj</td>\n",
              "      <td>Pulsar</td>\n",
              "      <td>250000.0</td>\n",
              "      <td>2011</td>\n",
              "      <td>Used</td>\n",
              "      <td>Automatic</td>\n",
              "      <td>Motorbike</td>\n",
              "      <td>Petrol</td>\n",
              "      <td>Manual</td>\n",
              "      <td>60000</td>\n",
              "      <td>Nittambuwa</td>\n",
              "      <td>Member</td>\n",
              "    </tr>\n",
              "    <tr>\n",
              "      <th>105978</th>\n",
              "      <td>Yamaha -</td>\n",
              "      <td>Yamaha</td>\n",
              "      <td>-</td>\n",
              "      <td>55000.0</td>\n",
              "      <td>2004</td>\n",
              "      <td>Used</td>\n",
              "      <td>Automatic</td>\n",
              "      <td>Motorbike</td>\n",
              "      <td>Petrol</td>\n",
              "      <td>Manual</td>\n",
              "      <td>50000</td>\n",
              "      <td>Kegalle</td>\n",
              "      <td>Member</td>\n",
              "    </tr>\n",
              "    <tr>\n",
              "      <th>110846</th>\n",
              "      <td>Honda pcx</td>\n",
              "      <td>Honda</td>\n",
              "      <td>pcx</td>\n",
              "      <td>710000.0</td>\n",
              "      <td>2015</td>\n",
              "      <td>Used</td>\n",
              "      <td>Automatic</td>\n",
              "      <td>Motorbike</td>\n",
              "      <td>Petrol</td>\n",
              "      <td>Manual</td>\n",
              "      <td>59000</td>\n",
              "      <td>Kandy</td>\n",
              "      <td>Member</td>\n",
              "    </tr>\n",
              "    <tr>\n",
              "      <th>111908</th>\n",
              "      <td>Bajaj Discover 135</td>\n",
              "      <td>Bajaj</td>\n",
              "      <td>Discover 135</td>\n",
              "      <td>200000.0</td>\n",
              "      <td>2009</td>\n",
              "      <td>Used</td>\n",
              "      <td>Automatic</td>\n",
              "      <td>Motorbike</td>\n",
              "      <td>Petrol</td>\n",
              "      <td>Manual</td>\n",
              "      <td>65000</td>\n",
              "      <td>Polonnaruwa</td>\n",
              "      <td>Member</td>\n",
              "    </tr>\n",
              "    <tr>\n",
              "      <th>115764</th>\n",
              "      <td>Hero-Honda CBZ Xtreme</td>\n",
              "      <td>Hero-Honda</td>\n",
              "      <td>CBZ Xtreme</td>\n",
              "      <td>185000.0</td>\n",
              "      <td>2011</td>\n",
              "      <td>Used</td>\n",
              "      <td>Automatic</td>\n",
              "      <td>Motorbike</td>\n",
              "      <td>Petrol</td>\n",
              "      <td>Manual</td>\n",
              "      <td>-</td>\n",
              "      <td>Horana</td>\n",
              "      <td>Member</td>\n",
              "    </tr>\n",
              "    <tr>\n",
              "      <th>115813</th>\n",
              "      <td>Yamaha Mate</td>\n",
              "      <td>Yamaha</td>\n",
              "      <td>Mate</td>\n",
              "      <td>28500.0</td>\n",
              "      <td>1985</td>\n",
              "      <td>Used</td>\n",
              "      <td>Automatic</td>\n",
              "      <td>Motorbike</td>\n",
              "      <td>Petrol</td>\n",
              "      <td>Manual</td>\n",
              "      <td>455</td>\n",
              "      <td>Kandy</td>\n",
              "      <td>Member</td>\n",
              "    </tr>\n",
              "    <tr>\n",
              "      <th>123333</th>\n",
              "      <td>Honda Cb Hornet</td>\n",
              "      <td>Honda</td>\n",
              "      <td>Cb Hornet</td>\n",
              "      <td>575000.0</td>\n",
              "      <td>2019</td>\n",
              "      <td>Used</td>\n",
              "      <td>Automatic</td>\n",
              "      <td>Motorbike</td>\n",
              "      <td>Petrol</td>\n",
              "      <td>Manual</td>\n",
              "      <td>20000</td>\n",
              "      <td>Chilaw</td>\n",
              "      <td>Member</td>\n",
              "    </tr>\n",
              "  </tbody>\n",
              "</table>\n",
              "</div>\n",
              "      <button class=\"colab-df-convert\" onclick=\"convertToInteractive('df-d0bc99e1-333d-46c9-82b9-3c43b7868787')\"\n",
              "              title=\"Convert this dataframe to an interactive table.\"\n",
              "              style=\"display:none;\">\n",
              "        \n",
              "  <svg xmlns=\"http://www.w3.org/2000/svg\" height=\"24px\"viewBox=\"0 0 24 24\"\n",
              "       width=\"24px\">\n",
              "    <path d=\"M0 0h24v24H0V0z\" fill=\"none\"/>\n",
              "    <path d=\"M18.56 5.44l.94 2.06.94-2.06 2.06-.94-2.06-.94-.94-2.06-.94 2.06-2.06.94zm-11 1L8.5 8.5l.94-2.06 2.06-.94-2.06-.94L8.5 2.5l-.94 2.06-2.06.94zm10 10l.94 2.06.94-2.06 2.06-.94-2.06-.94-.94-2.06-.94 2.06-2.06.94z\"/><path d=\"M17.41 7.96l-1.37-1.37c-.4-.4-.92-.59-1.43-.59-.52 0-1.04.2-1.43.59L10.3 9.45l-7.72 7.72c-.78.78-.78 2.05 0 2.83L4 21.41c.39.39.9.59 1.41.59.51 0 1.02-.2 1.41-.59l7.78-7.78 2.81-2.81c.8-.78.8-2.07 0-2.86zM5.41 20L4 18.59l7.72-7.72 1.47 1.35L5.41 20z\"/>\n",
              "  </svg>\n",
              "      </button>\n",
              "      \n",
              "  <style>\n",
              "    .colab-df-container {\n",
              "      display:flex;\n",
              "      flex-wrap:wrap;\n",
              "      gap: 12px;\n",
              "    }\n",
              "\n",
              "    .colab-df-convert {\n",
              "      background-color: #E8F0FE;\n",
              "      border: none;\n",
              "      border-radius: 50%;\n",
              "      cursor: pointer;\n",
              "      display: none;\n",
              "      fill: #1967D2;\n",
              "      height: 32px;\n",
              "      padding: 0 0 0 0;\n",
              "      width: 32px;\n",
              "    }\n",
              "\n",
              "    .colab-df-convert:hover {\n",
              "      background-color: #E2EBFA;\n",
              "      box-shadow: 0px 1px 2px rgba(60, 64, 67, 0.3), 0px 1px 3px 1px rgba(60, 64, 67, 0.15);\n",
              "      fill: #174EA6;\n",
              "    }\n",
              "\n",
              "    [theme=dark] .colab-df-convert {\n",
              "      background-color: #3B4455;\n",
              "      fill: #D2E3FC;\n",
              "    }\n",
              "\n",
              "    [theme=dark] .colab-df-convert:hover {\n",
              "      background-color: #434B5C;\n",
              "      box-shadow: 0px 1px 3px 1px rgba(0, 0, 0, 0.15);\n",
              "      filter: drop-shadow(0px 1px 2px rgba(0, 0, 0, 0.3));\n",
              "      fill: #FFFFFF;\n",
              "    }\n",
              "  </style>\n",
              "\n",
              "      <script>\n",
              "        const buttonEl =\n",
              "          document.querySelector('#df-d0bc99e1-333d-46c9-82b9-3c43b7868787 button.colab-df-convert');\n",
              "        buttonEl.style.display =\n",
              "          google.colab.kernel.accessAllowed ? 'block' : 'none';\n",
              "\n",
              "        async function convertToInteractive(key) {\n",
              "          const element = document.querySelector('#df-d0bc99e1-333d-46c9-82b9-3c43b7868787');\n",
              "          const dataTable =\n",
              "            await google.colab.kernel.invokeFunction('convertToInteractive',\n",
              "                                                     [key], {});\n",
              "          if (!dataTable) return;\n",
              "\n",
              "          const docLinkHtml = 'Like what you see? Visit the ' +\n",
              "            '<a target=\"_blank\" href=https://colab.research.google.com/notebooks/data_table.ipynb>data table notebook</a>'\n",
              "            + ' to learn more about interactive tables.';\n",
              "          element.innerHTML = '';\n",
              "          dataTable['output_type'] = 'display_data';\n",
              "          await google.colab.output.renderOutput(dataTable, element);\n",
              "          const docLink = document.createElement('div');\n",
              "          docLink.innerHTML = docLinkHtml;\n",
              "          element.appendChild(docLink);\n",
              "        }\n",
              "      </script>\n",
              "    </div>\n",
              "  </div>\n",
              "  "
            ]
          },
          "metadata": {},
          "execution_count": 273
        }
      ]
    },
    {
      "cell_type": "markdown",
      "source": [
        "Similarly, choosing appropriate Capacity based on known information by googling, the following Capacity were found:\n",
        "\n",
        "None of these vehicles, except Honda pcx, have automatic transmission. This is erroneous information. We will get to that when we clean Transmission column.\n",
        "\n",
        "Bajaj Avenger is 160 cc\n",
        "\n",
        "Honda Cb Hornet, honda CBZ extreme, and Bajaj Pulsar are 160 cc\n",
        "\n",
        "Yamaha FZ-S Version 2.0 is 150 cc capacity\n",
        "\n",
        "Honda pcx is a 160 cc scooter\n",
        "\n",
        "Conclusion: On an average, I have decided to replace \"Manual\" with 160 cc. Following that I am going to replace the actual capacity for Bajaj Discover (135 cc), Yamaha Mate with 50 cc."
      ],
      "metadata": {
        "id": "9okjflpxMe5S"
      }
    },
    {
      "cell_type": "code",
      "source": [
        "df[\"Capacity\"] = df[\"Capacity\"].replace(\"Manual\", 160, regex = True)"
      ],
      "metadata": {
        "id": "_51iS_2uLXzh"
      },
      "execution_count": null,
      "outputs": []
    },
    {
      "cell_type": "code",
      "source": [
        "df.loc[df[\"Capacity\"][df[\"Brand\"] == \"Bajaj\"][df[\"Model\"] == \"Discover 135\"].index,\"Capacity\"] = df[\"Capacity\"].replace(160,135,regex=True)"
      ],
      "metadata": {
        "id": "iHjuVKj_RHf5"
      },
      "execution_count": null,
      "outputs": []
    },
    {
      "cell_type": "code",
      "source": [
        "df[\"Capacity\"][df[\"Brand\"] == \"Bajaj\"][df[\"Model\"] == \"Discover 135\"].value_counts()"
      ],
      "metadata": {
        "colab": {
          "base_uri": "https://localhost:8080/"
        },
        "id": "cYBvCO1-Uuwo",
        "outputId": "e999dae3-bfd7-45ac-86cb-b779b076a4e9"
      },
      "execution_count": null,
      "outputs": [
        {
          "output_type": "execute_result",
          "data": {
            "text/plain": [
              "135    122\n",
              "0        5\n",
              "110      1\n",
              "125      1\n",
              "100      1\n",
              "200      1\n",
              "135      1\n",
              "134      1\n",
              "Name: Capacity, dtype: int64"
            ]
          },
          "metadata": {},
          "execution_count": 276
        }
      ]
    },
    {
      "cell_type": "markdown",
      "source": [
        "Cleaning these known errors - Changing all capacities to 135 cc"
      ],
      "metadata": {
        "id": "BIQ0ItgTVKCa"
      }
    },
    {
      "cell_type": "code",
      "source": [
        "df.loc[df[\"Capacity\"][df[\"Brand\"] == \"Bajaj\"][df[\"Model\"] == \"Discover 135\"].index,\"Capacity\"] = df[\"Capacity\"].replace([\"0\",\"110\",\"125\",\"100\",\"200\",\"134\"],135,regex=True)"
      ],
      "metadata": {
        "id": "Kk4WqRbKd5TX"
      },
      "execution_count": null,
      "outputs": []
    },
    {
      "cell_type": "code",
      "source": [
        "df[\"Capacity\"][df[\"Brand\"] == \"Bajaj\"][df[\"Model\"] == \"Discover 135\"].value_counts()"
      ],
      "metadata": {
        "colab": {
          "base_uri": "https://localhost:8080/"
        },
        "id": "cLa94V-aeDq4",
        "outputId": "66de92b9-ec18-4feb-9530-7e3b561e400b"
      },
      "execution_count": null,
      "outputs": [
        {
          "output_type": "execute_result",
          "data": {
            "text/plain": [
              "135    122\n",
              "135     11\n",
              "Name: Capacity, dtype: int64"
            ]
          },
          "metadata": {},
          "execution_count": 278
        }
      ]
    },
    {
      "cell_type": "code",
      "source": [
        "df[\"Capacity\"][df[\"Brand\"] == \"Yamaha\"][df[\"Model\"] == \"Mate\"].value_counts()"
      ],
      "metadata": {
        "colab": {
          "base_uri": "https://localhost:8080/"
        },
        "id": "9KR73Mchek0r",
        "outputId": "9dd04889-943b-4151-e46d-4baa78816b5a"
      },
      "execution_count": null,
      "outputs": [
        {
          "output_type": "execute_result",
          "data": {
            "text/plain": [
              "50     9\n",
              "90     2\n",
              "80     1\n",
              "160    1\n",
              "Name: Capacity, dtype: int64"
            ]
          },
          "metadata": {},
          "execution_count": 279
        }
      ]
    },
    {
      "cell_type": "code",
      "source": [
        "df.loc[df[\"Capacity\"][df[\"Brand\"] == \"Yamaha\"][df[\"Model\"] == \"Mate\"].index,\"Capacity\"] = df[\"Capacity\"].replace(160,50,regex=True)"
      ],
      "metadata": {
        "id": "DFY-19w-TVdU"
      },
      "execution_count": null,
      "outputs": []
    },
    {
      "cell_type": "code",
      "source": [
        "df[[\"Capacity\",\"Price (Rs)\"]][df[\"Brand\"] == \"Yamaha\"][df[\"Model\"] == \"Mate\"]"
      ],
      "metadata": {
        "colab": {
          "base_uri": "https://localhost:8080/",
          "height": 491
        },
        "id": "xjrhfVoYfAKB",
        "outputId": "a49f86a8-0eea-4c17-ca3e-cd2b544f0065"
      },
      "execution_count": null,
      "outputs": [
        {
          "output_type": "stream",
          "name": "stderr",
          "text": [
            "<ipython-input-281-a594114cbd5a>:1: UserWarning: Boolean Series key will be reindexed to match DataFrame index.\n",
            "  df[[\"Capacity\",\"Price (Rs)\"]][df[\"Brand\"] == \"Yamaha\"][df[\"Model\"] == \"Mate\"]\n"
          ]
        },
        {
          "output_type": "execute_result",
          "data": {
            "text/plain": [
              "       Capacity  Price (Rs)\n",
              "63708        50     34000.0\n",
              "71317        50     27000.0\n",
              "73585        50     27000.0\n",
              "75981        90     58000.0\n",
              "84257        50     28000.0\n",
              "87577        90     17000.0\n",
              "96440        80     70000.0\n",
              "104066       50     50000.0\n",
              "105009       50     42000.0\n",
              "112003       50     45000.0\n",
              "112635       50     75000.0\n",
              "115813       50     28500.0\n",
              "116664       50     42000.0"
            ],
            "text/html": [
              "\n",
              "  <div id=\"df-d5f8b888-6908-484f-8780-9600d7a543f1\">\n",
              "    <div class=\"colab-df-container\">\n",
              "      <div>\n",
              "<style scoped>\n",
              "    .dataframe tbody tr th:only-of-type {\n",
              "        vertical-align: middle;\n",
              "    }\n",
              "\n",
              "    .dataframe tbody tr th {\n",
              "        vertical-align: top;\n",
              "    }\n",
              "\n",
              "    .dataframe thead th {\n",
              "        text-align: right;\n",
              "    }\n",
              "</style>\n",
              "<table border=\"1\" class=\"dataframe\">\n",
              "  <thead>\n",
              "    <tr style=\"text-align: right;\">\n",
              "      <th></th>\n",
              "      <th>Capacity</th>\n",
              "      <th>Price (Rs)</th>\n",
              "    </tr>\n",
              "  </thead>\n",
              "  <tbody>\n",
              "    <tr>\n",
              "      <th>63708</th>\n",
              "      <td>50</td>\n",
              "      <td>34000.0</td>\n",
              "    </tr>\n",
              "    <tr>\n",
              "      <th>71317</th>\n",
              "      <td>50</td>\n",
              "      <td>27000.0</td>\n",
              "    </tr>\n",
              "    <tr>\n",
              "      <th>73585</th>\n",
              "      <td>50</td>\n",
              "      <td>27000.0</td>\n",
              "    </tr>\n",
              "    <tr>\n",
              "      <th>75981</th>\n",
              "      <td>90</td>\n",
              "      <td>58000.0</td>\n",
              "    </tr>\n",
              "    <tr>\n",
              "      <th>84257</th>\n",
              "      <td>50</td>\n",
              "      <td>28000.0</td>\n",
              "    </tr>\n",
              "    <tr>\n",
              "      <th>87577</th>\n",
              "      <td>90</td>\n",
              "      <td>17000.0</td>\n",
              "    </tr>\n",
              "    <tr>\n",
              "      <th>96440</th>\n",
              "      <td>80</td>\n",
              "      <td>70000.0</td>\n",
              "    </tr>\n",
              "    <tr>\n",
              "      <th>104066</th>\n",
              "      <td>50</td>\n",
              "      <td>50000.0</td>\n",
              "    </tr>\n",
              "    <tr>\n",
              "      <th>105009</th>\n",
              "      <td>50</td>\n",
              "      <td>42000.0</td>\n",
              "    </tr>\n",
              "    <tr>\n",
              "      <th>112003</th>\n",
              "      <td>50</td>\n",
              "      <td>45000.0</td>\n",
              "    </tr>\n",
              "    <tr>\n",
              "      <th>112635</th>\n",
              "      <td>50</td>\n",
              "      <td>75000.0</td>\n",
              "    </tr>\n",
              "    <tr>\n",
              "      <th>115813</th>\n",
              "      <td>50</td>\n",
              "      <td>28500.0</td>\n",
              "    </tr>\n",
              "    <tr>\n",
              "      <th>116664</th>\n",
              "      <td>50</td>\n",
              "      <td>42000.0</td>\n",
              "    </tr>\n",
              "  </tbody>\n",
              "</table>\n",
              "</div>\n",
              "      <button class=\"colab-df-convert\" onclick=\"convertToInteractive('df-d5f8b888-6908-484f-8780-9600d7a543f1')\"\n",
              "              title=\"Convert this dataframe to an interactive table.\"\n",
              "              style=\"display:none;\">\n",
              "        \n",
              "  <svg xmlns=\"http://www.w3.org/2000/svg\" height=\"24px\"viewBox=\"0 0 24 24\"\n",
              "       width=\"24px\">\n",
              "    <path d=\"M0 0h24v24H0V0z\" fill=\"none\"/>\n",
              "    <path d=\"M18.56 5.44l.94 2.06.94-2.06 2.06-.94-2.06-.94-.94-2.06-.94 2.06-2.06.94zm-11 1L8.5 8.5l.94-2.06 2.06-.94-2.06-.94L8.5 2.5l-.94 2.06-2.06.94zm10 10l.94 2.06.94-2.06 2.06-.94-2.06-.94-.94-2.06-.94 2.06-2.06.94z\"/><path d=\"M17.41 7.96l-1.37-1.37c-.4-.4-.92-.59-1.43-.59-.52 0-1.04.2-1.43.59L10.3 9.45l-7.72 7.72c-.78.78-.78 2.05 0 2.83L4 21.41c.39.39.9.59 1.41.59.51 0 1.02-.2 1.41-.59l7.78-7.78 2.81-2.81c.8-.78.8-2.07 0-2.86zM5.41 20L4 18.59l7.72-7.72 1.47 1.35L5.41 20z\"/>\n",
              "  </svg>\n",
              "      </button>\n",
              "      \n",
              "  <style>\n",
              "    .colab-df-container {\n",
              "      display:flex;\n",
              "      flex-wrap:wrap;\n",
              "      gap: 12px;\n",
              "    }\n",
              "\n",
              "    .colab-df-convert {\n",
              "      background-color: #E8F0FE;\n",
              "      border: none;\n",
              "      border-radius: 50%;\n",
              "      cursor: pointer;\n",
              "      display: none;\n",
              "      fill: #1967D2;\n",
              "      height: 32px;\n",
              "      padding: 0 0 0 0;\n",
              "      width: 32px;\n",
              "    }\n",
              "\n",
              "    .colab-df-convert:hover {\n",
              "      background-color: #E2EBFA;\n",
              "      box-shadow: 0px 1px 2px rgba(60, 64, 67, 0.3), 0px 1px 3px 1px rgba(60, 64, 67, 0.15);\n",
              "      fill: #174EA6;\n",
              "    }\n",
              "\n",
              "    [theme=dark] .colab-df-convert {\n",
              "      background-color: #3B4455;\n",
              "      fill: #D2E3FC;\n",
              "    }\n",
              "\n",
              "    [theme=dark] .colab-df-convert:hover {\n",
              "      background-color: #434B5C;\n",
              "      box-shadow: 0px 1px 3px 1px rgba(0, 0, 0, 0.15);\n",
              "      filter: drop-shadow(0px 1px 2px rgba(0, 0, 0, 0.3));\n",
              "      fill: #FFFFFF;\n",
              "    }\n",
              "  </style>\n",
              "\n",
              "      <script>\n",
              "        const buttonEl =\n",
              "          document.querySelector('#df-d5f8b888-6908-484f-8780-9600d7a543f1 button.colab-df-convert');\n",
              "        buttonEl.style.display =\n",
              "          google.colab.kernel.accessAllowed ? 'block' : 'none';\n",
              "\n",
              "        async function convertToInteractive(key) {\n",
              "          const element = document.querySelector('#df-d5f8b888-6908-484f-8780-9600d7a543f1');\n",
              "          const dataTable =\n",
              "            await google.colab.kernel.invokeFunction('convertToInteractive',\n",
              "                                                     [key], {});\n",
              "          if (!dataTable) return;\n",
              "\n",
              "          const docLinkHtml = 'Like what you see? Visit the ' +\n",
              "            '<a target=\"_blank\" href=https://colab.research.google.com/notebooks/data_table.ipynb>data table notebook</a>'\n",
              "            + ' to learn more about interactive tables.';\n",
              "          element.innerHTML = '';\n",
              "          dataTable['output_type'] = 'display_data';\n",
              "          await google.colab.output.renderOutput(dataTable, element);\n",
              "          const docLink = document.createElement('div');\n",
              "          docLink.innerHTML = docLinkHtml;\n",
              "          element.appendChild(docLink);\n",
              "        }\n",
              "      </script>\n",
              "    </div>\n",
              "  </div>\n",
              "  "
            ]
          },
          "metadata": {},
          "execution_count": 281
        }
      ]
    },
    {
      "cell_type": "code",
      "source": [
        "df[\"Capacity\"][df[\"Brand\"] == \"Yamaha\"][df[\"Model\"] == \"Mate\"].value_counts()"
      ],
      "metadata": {
        "colab": {
          "base_uri": "https://localhost:8080/"
        },
        "id": "5EXt38WafHeO",
        "outputId": "aaebe368-328a-4508-8291-b5ee37fd9d91"
      },
      "execution_count": null,
      "outputs": [
        {
          "output_type": "execute_result",
          "data": {
            "text/plain": [
              "50    9\n",
              "90    2\n",
              "80    1\n",
              "50    1\n",
              "Name: Capacity, dtype: int64"
            ]
          },
          "metadata": {},
          "execution_count": 282
        }
      ]
    },
    {
      "cell_type": "markdown",
      "source": [
        "Replacing \"-\" with NULL"
      ],
      "metadata": {
        "id": "UK6nmS7ygbZA"
      }
    },
    {
      "cell_type": "code",
      "source": [
        "df[\"Capacity\"] = df[\"Capacity\"].replace('-', np.nan, regex=True)"
      ],
      "metadata": {
        "id": "t-ZkQiBqgDON"
      },
      "execution_count": null,
      "outputs": []
    },
    {
      "cell_type": "markdown",
      "source": [
        "Replacing \" cc\" and \",\" with empty string and converting the column to float"
      ],
      "metadata": {
        "id": "SLDyeNVfgegY"
      }
    },
    {
      "cell_type": "code",
      "source": [
        "df[\"Capacity\"] = df[\"Capacity\"].str.replace(' cc', '').str.replace(',', '').astype(float)"
      ],
      "metadata": {
        "id": "yLPS6nhtfQ0h"
      },
      "execution_count": null,
      "outputs": []
    },
    {
      "cell_type": "code",
      "source": [
        "df[\"Capacity\"].info()"
      ],
      "metadata": {
        "colab": {
          "base_uri": "https://localhost:8080/"
        },
        "id": "clwLEID5f7V7",
        "outputId": "a57e0e79-ed00-4906-a9af-38247575145a"
      },
      "execution_count": null,
      "outputs": [
        {
          "output_type": "stream",
          "name": "stdout",
          "text": [
            "<class 'pandas.core.series.Series'>\n",
            "Int64Index: 118456 entries, 0 to 123970\n",
            "Series name: Capacity\n",
            "Non-Null Count   Dtype  \n",
            "--------------   -----  \n",
            "114247 non-null  float64\n",
            "dtypes: float64(1)\n",
            "memory usage: 5.8 MB\n"
          ]
        }
      ]
    },
    {
      "cell_type": "markdown",
      "source": [
        "Checking for outliers. Here, we can see that the data has significant outliers."
      ],
      "metadata": {
        "id": "TkNBg-43hT3d"
      }
    },
    {
      "cell_type": "code",
      "source": [
        "sns.boxplot(x='Capacity', data=df)\n",
        "plt.show()"
      ],
      "metadata": {
        "colab": {
          "base_uri": "https://localhost:8080/",
          "height": 449
        },
        "id": "3OdePSBXgXlC",
        "outputId": "3237cde5-915a-40f1-91d4-fbf607c810fa"
      },
      "execution_count": null,
      "outputs": [
        {
          "output_type": "display_data",
          "data": {
            "text/plain": [
              "<Figure size 640x480 with 1 Axes>"
            ],
            "image/png": "[encoded data removed]"
          },
          "metadata": {}
        }
      ]
    },
    {
      "cell_type": "markdown",
      "source": [
        "Removing capacity values less than 50 cc"
      ],
      "metadata": {
        "id": "NPaAaOjt3gPs"
      }
    },
    {
      "cell_type": "code",
      "source": [
        "df.loc[df[df[\"Capacity\"] < 50].index, \"Capacity\"] = np.nan"
      ],
      "metadata": {
        "id": "7v9AK_92hL8o"
      },
      "execution_count": null,
      "outputs": []
    },
    {
      "cell_type": "code",
      "source": [
        "df.Capacity.info()"
      ],
      "metadata": {
        "id": "q-oRNEtthnwQ",
        "colab": {
          "base_uri": "https://localhost:8080/"
        },
        "outputId": "76256453-67ad-40b7-b195-fb07296360b6"
      },
      "execution_count": null,
      "outputs": [
        {
          "output_type": "stream",
          "name": "stdout",
          "text": [
            "<class 'pandas.core.series.Series'>\n",
            "Int64Index: 118456 entries, 0 to 123970\n",
            "Series name: Capacity\n",
            "Non-Null Count   Dtype  \n",
            "--------------   -----  \n",
            "112907 non-null  float64\n",
            "dtypes: float64(1)\n",
            "memory usage: 5.8 MB\n"
          ]
        }
      ]
    },
    {
      "cell_type": "code",
      "source": [
        "df.loc[df[df[\"Capacity\"] > 9500].index, \"Capacity\"] = np.nan"
      ],
      "metadata": {
        "id": "xpYHGGka6kyK"
      },
      "execution_count": null,
      "outputs": []
    },
    {
      "cell_type": "code",
      "source": [
        "df.Capacity.info()"
      ],
      "metadata": {
        "colab": {
          "base_uri": "https://localhost:8080/"
        },
        "id": "OqZcuLdb9eQh",
        "outputId": "bcdbb0dc-2d6d-4a07-f20c-94cfdd116824"
      },
      "execution_count": null,
      "outputs": [
        {
          "output_type": "stream",
          "name": "stdout",
          "text": [
            "<class 'pandas.core.series.Series'>\n",
            "Int64Index: 118456 entries, 0 to 123970\n",
            "Series name: Capacity\n",
            "Non-Null Count   Dtype  \n",
            "--------------   -----  \n",
            "112485 non-null  float64\n",
            "dtypes: float64(1)\n",
            "memory usage: 5.8 MB\n"
          ]
        }
      ]
    },
    {
      "cell_type": "code",
      "source": [
        "sns.boxplot(x='Capacity', data=df)\n",
        "plt.show()"
      ],
      "metadata": {
        "colab": {
          "base_uri": "https://localhost:8080/",
          "height": 449
        },
        "id": "c6OxsexQ-YLb",
        "outputId": "4bcf87f7-1b9f-4b2e-d3b4-a4aaeee4df22"
      },
      "execution_count": null,
      "outputs": [
        {
          "output_type": "display_data",
          "data": {
            "text/plain": [
              "<Figure size 640x480 with 1 Axes>"
            ],
            "image/png": "[encoded data removed]"
          },
          "metadata": {}
        }
      ]
    },
    {
      "cell_type": "code",
      "source": [
        "df.Capacity.isna().sum()"
      ],
      "metadata": {
        "colab": {
          "base_uri": "https://localhost:8080/"
        },
        "id": "W2_Bgdf_-ckK",
        "outputId": "05c2a2fc-0a41-4367-b0ca-609efb65cc65"
      },
      "execution_count": null,
      "outputs": [
        {
          "output_type": "execute_result",
          "data": {
            "text/plain": [
              "5971"
            ]
          },
          "metadata": {},
          "execution_count": 292
        }
      ]
    },
    {
      "cell_type": "code",
      "source": [
        "df[\"Capacity\"] = df[\"Capacity\"].fillna(df[\"Capacity\"].median())"
      ],
      "metadata": {
        "id": "nFRrT4zCXjmq"
      },
      "execution_count": null,
      "outputs": []
    },
    {
      "cell_type": "markdown",
      "source": [
        "We generated a lot of null values during cleaning. Updated these values with median price. kNN imputation can be a better way to do this. However, the motivation to use such a computationally expensive algorithm is not there considering only 6k data points are NaN"
      ],
      "metadata": {
        "id": "5yx6ya1EYwIB"
      }
    },
    {
      "cell_type": "code",
      "source": [
        "sns.boxplot(x='Capacity', data=df)\n",
        "plt.show()"
      ],
      "metadata": {
        "colab": {
          "base_uri": "https://localhost:8080/",
          "height": 449
        },
        "id": "RIHTGTfXYuvQ",
        "outputId": "7077621a-6cfe-4af2-9333-80a49c286236"
      },
      "execution_count": null,
      "outputs": [
        {
          "output_type": "display_data",
          "data": {
            "text/plain": [
              "<Figure size 640x480 with 1 Axes>"
            ],
            "image/png": "[encoded data removed]"
          },
          "metadata": {}
        }
      ]
    },
    {
      "cell_type": "code",
      "source": [
        "df.Capacity.isna().sum()"
      ],
      "metadata": {
        "colab": {
          "base_uri": "https://localhost:8080/"
        },
        "id": "3b54j6ceZCy_",
        "outputId": "e033cd15-5c95-4061-97cc-823b3acf097f"
      },
      "execution_count": null,
      "outputs": [
        {
          "output_type": "execute_result",
          "data": {
            "text/plain": [
              "0"
            ]
          },
          "metadata": {},
          "execution_count": 295
        }
      ]
    },
    {
      "cell_type": "code",
      "source": [
        "df.Capacity.info()"
      ],
      "metadata": {
        "colab": {
          "base_uri": "https://localhost:8080/"
        },
        "id": "iz_3V7IwZamd",
        "outputId": "a4d5aae3-c844-4efe-af51-173132abf16d"
      },
      "execution_count": null,
      "outputs": [
        {
          "output_type": "stream",
          "name": "stdout",
          "text": [
            "<class 'pandas.core.series.Series'>\n",
            "Int64Index: 118456 entries, 0 to 123970\n",
            "Series name: Capacity\n",
            "Non-Null Count   Dtype  \n",
            "--------------   -----  \n",
            "118456 non-null  float64\n",
            "dtypes: float64(1)\n",
            "memory usage: 5.8 MB\n"
          ]
        }
      ]
    },
    {
      "cell_type": "markdown",
      "source": [
        "### Cleaning \"Seller_type\" column"
      ],
      "metadata": {
        "id": "MEIrPP0av6tU"
      }
    },
    {
      "cell_type": "code",
      "source": [
        "df[\"Seller_type\"].value_counts()"
      ],
      "metadata": {
        "colab": {
          "base_uri": "https://localhost:8080/"
        },
        "id": "hPNxGcxWZnnA",
        "outputId": "756a444d-b11d-4565-969a-a4a82cae4243"
      },
      "execution_count": null,
      "outputs": [
        {
          "output_type": "execute_result",
          "data": {
            "text/plain": [
              "Member            87182\n",
              "Premium-Member    31274\n",
              "Name: Seller_type, dtype: int64"
            ]
          },
          "metadata": {},
          "execution_count": 297
        }
      ]
    },
    {
      "cell_type": "markdown",
      "source": [
        "Let us conduct a 2 sample t test to determine if Seller Type has impact on the Price (Rs) (Chosen target variable)"
      ],
      "metadata": {
        "id": "ioss__Eyx8bb"
      }
    },
    {
      "cell_type": "code",
      "source": [
        "df_ttest_Member = df[[\"Price (Rs)\",\"Seller_type\"]][df[\"Seller_type\"] == \"Member\"]"
      ],
      "metadata": {
        "id": "f62_2_yDwgou"
      },
      "execution_count": null,
      "outputs": []
    },
    {
      "cell_type": "code",
      "source": [
        "df_ttest_Premium = df[[\"Price (Rs)\",\"Seller_type\"]][df[\"Seller_type\"] == \"Premium-Member\"]"
      ],
      "metadata": {
        "id": "1YwNkyEFygbK"
      },
      "execution_count": null,
      "outputs": []
    },
    {
      "cell_type": "code",
      "source": [
        "print(np.var(df_ttest_Premium[\"Price (Rs)\"])/np.var(df_ttest_Member[\"Price (Rs)\"]))"
      ],
      "metadata": {
        "colab": {
          "base_uri": "https://localhost:8080/"
        },
        "id": "4HPww7azyj9U",
        "outputId": "1d9f0594-c428-408c-af8e-c06573a9cef8"
      },
      "execution_count": null,
      "outputs": [
        {
          "output_type": "stream",
          "name": "stdout",
          "text": [
            "1.6151807533535247\n"
          ]
        }
      ]
    },
    {
      "cell_type": "code",
      "source": [
        "import scipy.stats as stats\n",
        "stats.ttest_ind(a=df_ttest_Member[\"Price (Rs)\"], b=df_ttest_Premium[\"Price (Rs)\"], equal_var=True)"
      ],
      "metadata": {
        "colab": {
          "base_uri": "https://localhost:8080/"
        },
        "id": "DjBsCTT8zw7n",
        "outputId": "6a249202-eed4-463a-d427-38734837025f"
      },
      "execution_count": null,
      "outputs": [
        {
          "output_type": "execute_result",
          "data": {
            "text/plain": [
              "Ttest_indResult(statistic=-72.66270382308475, pvalue=0.0)"
            ]
          },
          "metadata": {},
          "execution_count": 301
        }
      ]
    },
    {
      "cell_type": "code",
      "source": [
        "!pip install pingouin"
      ],
      "metadata": {
        "id": "x3XmoI-Y0MxG",
        "colab": {
          "base_uri": "https://localhost:8080/"
        },
        "outputId": "e3eda63f-1add-4db1-db57-ec6279e39b30"
      },
      "execution_count": null,
      "outputs": [
        {
          "output_type": "stream",
          "name": "stdout",
          "text": [
            "Looking in indexes: https://pypi.org/simple, https://us-python.pkg.dev/colab-wheels/public/simple/\n",
            "Requirement already satisfied: pingouin in /usr/local/lib/python3.10/dist-packages (0.5.3)\n",
            "Requirement already satisfied: numpy>=1.19 in /usr/local/lib/python3.10/dist-packages (from pingouin) (1.22.4)\n",
            "Requirement already satisfied: scipy>=1.7 in /usr/local/lib/python3.10/dist-packages (from pingouin) (1.10.1)\n",
            "Requirement already satisfied: pandas>=1.0 in /usr/local/lib/python3.10/dist-packages (from pingouin) (1.5.3)\n",
            "Requirement already satisfied: matplotlib>=3.0.2 in /usr/local/lib/python3.10/dist-packages (from pingouin) (3.7.1)\n",
            "Requirement already satisfied: seaborn>=0.11 in /usr/local/lib/python3.10/dist-packages (from pingouin) (0.12.2)\n",
            "Requirement already satisfied: statsmodels>=0.13 in /usr/local/lib/python3.10/dist-packages (from pingouin) (0.13.5)\n",
            "Requirement already satisfied: scikit-learn in /usr/local/lib/python3.10/dist-packages (from pingouin) (1.2.2)\n",
            "Requirement already satisfied: pandas-flavor>=0.2.0 in /usr/local/lib/python3.10/dist-packages (from pingouin) (0.5.0)\n",
            "Requirement already satisfied: outdated in /usr/local/lib/python3.10/dist-packages (from pingouin) (0.2.2)\n",
            "Requirement already satisfied: tabulate in /usr/local/lib/python3.10/dist-packages (from pingouin) (0.8.10)\n",
            "Requirement already satisfied: contourpy>=1.0.1 in /usr/local/lib/python3.10/dist-packages (from matplotlib>=3.0.2->pingouin) (1.0.7)\n",
            "Requirement already satisfied: cycler>=0.10 in /usr/local/lib/python3.10/dist-packages (from matplotlib>=3.0.2->pingouin) (0.11.0)\n",
            "Requirement already satisfied: fonttools>=4.22.0 in /usr/local/lib/python3.10/dist-packages (from matplotlib>=3.0.2->pingouin) (4.39.3)\n",
            "Requirement already satisfied: kiwisolver>=1.0.1 in /usr/local/lib/python3.10/dist-packages (from matplotlib>=3.0.2->pingouin) (1.4.4)\n",
            "Requirement already satisfied: packaging>=20.0 in /usr/local/lib/python3.10/dist-packages (from matplotlib>=3.0.2->pingouin) (23.1)\n",
            "Requirement already satisfied: pillow>=6.2.0 in /usr/local/lib/python3.10/dist-packages (from matplotlib>=3.0.2->pingouin) (8.4.0)\n",
            "Requirement already satisfied: pyparsing>=2.3.1 in /usr/local/lib/python3.10/dist-packages (from matplotlib>=3.0.2->pingouin) (3.0.9)\n",
            "Requirement already satisfied: python-dateutil>=2.7 in /usr/local/lib/python3.10/dist-packages (from matplotlib>=3.0.2->pingouin) (2.8.2)\n",
            "Requirement already satisfied: pytz>=2020.1 in /usr/local/lib/python3.10/dist-packages (from pandas>=1.0->pingouin) (2022.7.1)\n",
            "Requirement already satisfied: xarray in /usr/local/lib/python3.10/dist-packages (from pandas-flavor>=0.2.0->pingouin) (2022.12.0)\n",
            "Requirement already satisfied: lazy-loader>=0.1 in /usr/local/lib/python3.10/dist-packages (from pandas-flavor>=0.2.0->pingouin) (0.2)\n",
            "Requirement already satisfied: patsy>=0.5.2 in /usr/local/lib/python3.10/dist-packages (from statsmodels>=0.13->pingouin) (0.5.3)\n",
            "Requirement already satisfied: setuptools>=44 in /usr/local/lib/python3.10/dist-packages (from outdated->pingouin) (67.7.2)\n",
            "Requirement already satisfied: littleutils in /usr/local/lib/python3.10/dist-packages (from outdated->pingouin) (0.2.2)\n",
            "Requirement already satisfied: requests in /usr/local/lib/python3.10/dist-packages (from outdated->pingouin) (2.27.1)\n",
            "Requirement already satisfied: joblib>=1.1.1 in /usr/local/lib/python3.10/dist-packages (from scikit-learn->pingouin) (1.2.0)\n",
            "Requirement already satisfied: threadpoolctl>=2.0.0 in /usr/local/lib/python3.10/dist-packages (from scikit-learn->pingouin) (3.1.0)\n",
            "Requirement already satisfied: six in /usr/local/lib/python3.10/dist-packages (from patsy>=0.5.2->statsmodels>=0.13->pingouin) (1.16.0)\n",
            "Requirement already satisfied: urllib3<1.27,>=1.21.1 in /usr/local/lib/python3.10/dist-packages (from requests->outdated->pingouin) (1.26.15)\n",
            "Requirement already satisfied: certifi>=2017.4.17 in /usr/local/lib/python3.10/dist-packages (from requests->outdated->pingouin) (2022.12.7)\n",
            "Requirement already satisfied: charset-normalizer~=2.0.0 in /usr/local/lib/python3.10/dist-packages (from requests->outdated->pingouin) (2.0.12)\n",
            "Requirement already satisfied: idna<4,>=2.5 in /usr/local/lib/python3.10/dist-packages (from requests->outdated->pingouin) (3.4)\n"
          ]
        }
      ]
    },
    {
      "cell_type": "code",
      "source": [
        "from statsmodels.stats.weightstats import ttest_ind\n",
        "import pingouin as pg\n",
        "print(pg.ttest(df_ttest_Member[\"Price (Rs)\"], df_ttest_Premium[\"Price (Rs)\"], correction=True))"
      ],
      "metadata": {
        "colab": {
          "base_uri": "https://localhost:8080/"
        },
        "id": "wwVonPVj1uGT",
        "outputId": "f74805d4-2da9-4871-a1de-268a8dacb92a"
      },
      "execution_count": null,
      "outputs": [
        {
          "output_type": "stream",
          "name": "stdout",
          "text": [
            "                T           dof alternative  p-val  \\\n",
            "T-test -64.996843  45894.248623   two-sided    0.0   \n",
            "\n",
            "                             CI95%   cohen-d BF10  power  \n",
            "T-test  [-5037132.75, -4742230.65]  0.478944  inf    1.0  \n"
          ]
        },
        {
          "output_type": "stream",
          "name": "stderr",
          "text": [
            "/usr/local/lib/python3.10/dist-packages/pingouin/bayesian.py:152: RuntimeWarning: divide by zero encountered in double_scalars\n",
            "  bf10 = 1 / ((1 + t**2 / df) ** (-(df + 1) / 2) / integr)\n"
          ]
        }
      ]
    },
    {
      "cell_type": "markdown",
      "source": [
        "Since p value is less than 0.05, we reject the null hypothesis. Hence, there is statistically significant difference in means of Price (Rs) between Member and Premium-Member. This column is retained for modelling (refer codebook starting with P1.2....)."
      ],
      "metadata": {
        "id": "RCXr57sf3UVM"
      }
    },
    {
      "cell_type": "code",
      "source": [
        "df[\"Seller_type\"].isna().sum()"
      ],
      "metadata": {
        "colab": {
          "base_uri": "https://localhost:8080/"
        },
        "id": "Wpb4V2Tp2EBN",
        "outputId": "8e72d6d8-8a10-4504-80f6-114320dbed00"
      },
      "execution_count": null,
      "outputs": [
        {
          "output_type": "execute_result",
          "data": {
            "text/plain": [
              "0"
            ]
          },
          "metadata": {},
          "execution_count": 304
        }
      ]
    },
    {
      "cell_type": "code",
      "source": [
        "df[\"Seller_type\"] = df[\"Seller_type\"].replace(\"-Member\",\"\",regex=True)"
      ],
      "metadata": {
        "id": "N7Ptw0Jj4hw1"
      },
      "execution_count": null,
      "outputs": []
    },
    {
      "cell_type": "code",
      "source": [
        "df[\"Seller_type\"] = df[\"Seller_type\"].replace(\"Member\",\"Non-Premium\",regex=True)"
      ],
      "metadata": {
        "id": "kNGg2CBA4w2M"
      },
      "execution_count": null,
      "outputs": []
    },
    {
      "cell_type": "markdown",
      "source": [
        "### Cleaning \"Mileage\" column"
      ],
      "metadata": {
        "id": "E5DuW_0U53j-"
      }
    },
    {
      "cell_type": "code",
      "source": [
        "df[\"Mileage\"] = df[\"Mileage\"].replace(\" km\",\"\",regex=True).replace(\",\",\"\",regex=True).replace(\"-\",0,regex=True)"
      ],
      "metadata": {
        "id": "TKuy8HeF5-DO"
      },
      "execution_count": null,
      "outputs": []
    },
    {
      "cell_type": "code",
      "source": [
        "df[\"Mileage\"] = df[\"Mileage\"].astype(float)"
      ],
      "metadata": {
        "id": "UEDGu2xd6JYZ"
      },
      "execution_count": null,
      "outputs": []
    },
    {
      "cell_type": "markdown",
      "source": [
        "No further pre-processing done here. "
      ],
      "metadata": {
        "id": "G25ZcNMi_FJl"
      }
    },
    {
      "cell_type": "markdown",
      "source": [
        "### Cleaning \"Fuel\" column"
      ],
      "metadata": {
        "id": "VWwPAp5ZM89K"
      }
    },
    {
      "cell_type": "code",
      "source": [
        "df[\"Fuel\"].value_counts()"
      ],
      "metadata": {
        "colab": {
          "base_uri": "https://localhost:8080/"
        },
        "id": "ik92uYw38LzX",
        "outputId": "b70813b0-abbc-4786-a4bc-557c57dd10c0"
      },
      "execution_count": null,
      "outputs": [
        {
          "output_type": "execute_result",
          "data": {
            "text/plain": [
              "Petrol             82977\n",
              "Diesel             21401\n",
              "Hybrid             13440\n",
              "Electric             525\n",
              "Other fuel type       47\n",
              "CNG                   39\n",
              "Kick / Electric       11\n",
              "Kick                   9\n",
              "Gas                    7\n",
              "Name: Fuel, dtype: int64"
            ]
          },
          "metadata": {},
          "execution_count": 309
        }
      ]
    },
    {
      "cell_type": "code",
      "source": [
        "df[\"Fuel\"].isna().sum()"
      ],
      "metadata": {
        "colab": {
          "base_uri": "https://localhost:8080/"
        },
        "id": "Q_h5YHWeMhrW",
        "outputId": "e8e28a0b-6b25-4652-9cf0-a8ac2d7e9036"
      },
      "execution_count": null,
      "outputs": [
        {
          "output_type": "execute_result",
          "data": {
            "text/plain": [
              "0"
            ]
          },
          "metadata": {},
          "execution_count": 310
        }
      ]
    },
    {
      "cell_type": "code",
      "source": [
        "df[\"Fuel\"] = df[\"Fuel\"].replace([\"Kick / Electric\",\"Kick\"],[\"Petrol\",\"Petrol\"],regex=True)"
      ],
      "metadata": {
        "id": "atxZrNpFNFxk"
      },
      "execution_count": null,
      "outputs": []
    },
    {
      "cell_type": "code",
      "source": [
        "df[[\"Brand\",\"Model\"]][df[\"Fuel\"]==\"Gas\"]"
      ],
      "metadata": {
        "colab": {
          "base_uri": "https://localhost:8080/"
        },
        "id": "Hp-hN4OCN4Vq",
        "outputId": "56c58793-e8d0-4ff7-8862-a94eebeac481"
      },
      "execution_count": null,
      "outputs": [
        {
          "output_type": "execute_result",
          "data": {
            "text/plain": [
              "           Brand               Model\n",
              "65289   Mahindra             Maxximo\n",
              "73348      Honda            Grace Ex\n",
              "99531      Isuzu                 Elf\n",
              "103410    Suzuki               Every\n",
              "111452     Other   Sumitomo Forklift\n",
              "119242       Cal         Clark 2 Ton\n",
              "122482    Toyota  Allion 240 G Grade"
            ],
            "text/html": [
              "\n",
              "  <div id=\"df-756e382b-9607-492f-b6cc-e39fe354a703\">\n",
              "    <div class=\"colab-df-container\">\n",
              "      <div>\n",
              "<style scoped>\n",
              "    .dataframe tbody tr th:only-of-type {\n",
              "        vertical-align: middle;\n",
              "    }\n",
              "\n",
              "    .dataframe tbody tr th {\n",
              "        vertical-align: top;\n",
              "    }\n",
              "\n",
              "    .dataframe thead th {\n",
              "        text-align: right;\n",
              "    }\n",
              "</style>\n",
              "<table border=\"1\" class=\"dataframe\">\n",
              "  <thead>\n",
              "    <tr style=\"text-align: right;\">\n",
              "      <th></th>\n",
              "      <th>Brand</th>\n",
              "      <th>Model</th>\n",
              "    </tr>\n",
              "  </thead>\n",
              "  <tbody>\n",
              "    <tr>\n",
              "      <th>65289</th>\n",
              "      <td>Mahindra</td>\n",
              "      <td>Maxximo</td>\n",
              "    </tr>\n",
              "    <tr>\n",
              "      <th>73348</th>\n",
              "      <td>Honda</td>\n",
              "      <td>Grace Ex</td>\n",
              "    </tr>\n",
              "    <tr>\n",
              "      <th>99531</th>\n",
              "      <td>Isuzu</td>\n",
              "      <td>Elf</td>\n",
              "    </tr>\n",
              "    <tr>\n",
              "      <th>103410</th>\n",
              "      <td>Suzuki</td>\n",
              "      <td>Every</td>\n",
              "    </tr>\n",
              "    <tr>\n",
              "      <th>111452</th>\n",
              "      <td>Other</td>\n",
              "      <td>Sumitomo Forklift</td>\n",
              "    </tr>\n",
              "    <tr>\n",
              "      <th>119242</th>\n",
              "      <td>Cal</td>\n",
              "      <td>Clark 2 Ton</td>\n",
              "    </tr>\n",
              "    <tr>\n",
              "      <th>122482</th>\n",
              "      <td>Toyota</td>\n",
              "      <td>Allion 240 G Grade</td>\n",
              "    </tr>\n",
              "  </tbody>\n",
              "</table>\n",
              "</div>\n",
              "      <button class=\"colab-df-convert\" onclick=\"convertToInteractive('df-756e382b-9607-492f-b6cc-e39fe354a703')\"\n",
              "              title=\"Convert this dataframe to an interactive table.\"\n",
              "              style=\"display:none;\">\n",
              "        \n",
              "  <svg xmlns=\"http://www.w3.org/2000/svg\" height=\"24px\"viewBox=\"0 0 24 24\"\n",
              "       width=\"24px\">\n",
              "    <path d=\"M0 0h24v24H0V0z\" fill=\"none\"/>\n",
              "    <path d=\"M18.56 5.44l.94 2.06.94-2.06 2.06-.94-2.06-.94-.94-2.06-.94 2.06-2.06.94zm-11 1L8.5 8.5l.94-2.06 2.06-.94-2.06-.94L8.5 2.5l-.94 2.06-2.06.94zm10 10l.94 2.06.94-2.06 2.06-.94-2.06-.94-.94-2.06-.94 2.06-2.06.94z\"/><path d=\"M17.41 7.96l-1.37-1.37c-.4-.4-.92-.59-1.43-.59-.52 0-1.04.2-1.43.59L10.3 9.45l-7.72 7.72c-.78.78-.78 2.05 0 2.83L4 21.41c.39.39.9.59 1.41.59.51 0 1.02-.2 1.41-.59l7.78-7.78 2.81-2.81c.8-.78.8-2.07 0-2.86zM5.41 20L4 18.59l7.72-7.72 1.47 1.35L5.41 20z\"/>\n",
              "  </svg>\n",
              "      </button>\n",
              "      \n",
              "  <style>\n",
              "    .colab-df-container {\n",
              "      display:flex;\n",
              "      flex-wrap:wrap;\n",
              "      gap: 12px;\n",
              "    }\n",
              "\n",
              "    .colab-df-convert {\n",
              "      background-color: #E8F0FE;\n",
              "      border: none;\n",
              "      border-radius: 50%;\n",
              "      cursor: pointer;\n",
              "      display: none;\n",
              "      fill: #1967D2;\n",
              "      height: 32px;\n",
              "      padding: 0 0 0 0;\n",
              "      width: 32px;\n",
              "    }\n",
              "\n",
              "    .colab-df-convert:hover {\n",
              "      background-color: #E2EBFA;\n",
              "      box-shadow: 0px 1px 2px rgba(60, 64, 67, 0.3), 0px 1px 3px 1px rgba(60, 64, 67, 0.15);\n",
              "      fill: #174EA6;\n",
              "    }\n",
              "\n",
              "    [theme=dark] .colab-df-convert {\n",
              "      background-color: #3B4455;\n",
              "      fill: #D2E3FC;\n",
              "    }\n",
              "\n",
              "    [theme=dark] .colab-df-convert:hover {\n",
              "      background-color: #434B5C;\n",
              "      box-shadow: 0px 1px 3px 1px rgba(0, 0, 0, 0.15);\n",
              "      filter: drop-shadow(0px 1px 2px rgba(0, 0, 0, 0.3));\n",
              "      fill: #FFFFFF;\n",
              "    }\n",
              "  </style>\n",
              "\n",
              "      <script>\n",
              "        const buttonEl =\n",
              "          document.querySelector('#df-756e382b-9607-492f-b6cc-e39fe354a703 button.colab-df-convert');\n",
              "        buttonEl.style.display =\n",
              "          google.colab.kernel.accessAllowed ? 'block' : 'none';\n",
              "\n",
              "        async function convertToInteractive(key) {\n",
              "          const element = document.querySelector('#df-756e382b-9607-492f-b6cc-e39fe354a703');\n",
              "          const dataTable =\n",
              "            await google.colab.kernel.invokeFunction('convertToInteractive',\n",
              "                                                     [key], {});\n",
              "          if (!dataTable) return;\n",
              "\n",
              "          const docLinkHtml = 'Like what you see? Visit the ' +\n",
              "            '<a target=\"_blank\" href=https://colab.research.google.com/notebooks/data_table.ipynb>data table notebook</a>'\n",
              "            + ' to learn more about interactive tables.';\n",
              "          element.innerHTML = '';\n",
              "          dataTable['output_type'] = 'display_data';\n",
              "          await google.colab.output.renderOutput(dataTable, element);\n",
              "          const docLink = document.createElement('div');\n",
              "          docLink.innerHTML = docLinkHtml;\n",
              "          element.appendChild(docLink);\n",
              "        }\n",
              "      </script>\n",
              "    </div>\n",
              "  </div>\n",
              "  "
            ]
          },
          "metadata": {},
          "execution_count": 312
        }
      ]
    },
    {
      "cell_type": "markdown",
      "source": [
        "Changing \"Gas\" to \"Petrol\" as well. From above derived dataframe, these 7 vehicles seem to run on Petrol"
      ],
      "metadata": {
        "id": "zO55E2-bVNsc"
      }
    },
    {
      "cell_type": "code",
      "source": [
        "df[\"Fuel\"] = df[\"Fuel\"].replace(\"Gas\",\"Petrol\",regex=True)"
      ],
      "metadata": {
        "id": "a3fzqddjOrHK"
      },
      "execution_count": null,
      "outputs": []
    },
    {
      "cell_type": "code",
      "source": [
        "df[\"Fuel\"].value_counts()"
      ],
      "metadata": {
        "colab": {
          "base_uri": "https://localhost:8080/"
        },
        "id": "NdfSBpbjVkgm",
        "outputId": "5a49104c-6c4c-48f5-d31a-84e42e5de863"
      },
      "execution_count": null,
      "outputs": [
        {
          "output_type": "execute_result",
          "data": {
            "text/plain": [
              "Petrol             83004\n",
              "Diesel             21401\n",
              "Hybrid             13440\n",
              "Electric             525\n",
              "Other fuel type       47\n",
              "CNG                   39\n",
              "Name: Fuel, dtype: int64"
            ]
          },
          "metadata": {},
          "execution_count": 314
        }
      ]
    },
    {
      "cell_type": "markdown",
      "source": [
        "### Cleaning \"Body\" Column"
      ],
      "metadata": {
        "id": "mtUXKzEFWXy3"
      }
    },
    {
      "cell_type": "code",
      "source": [
        "df[\"Body\"].value_counts()"
      ],
      "metadata": {
        "colab": {
          "base_uri": "https://localhost:8080/"
        },
        "id": "A20Rpvg1cphS",
        "outputId": "6d550a46-bceb-4d44-a4dc-0f1d2c7102d7"
      },
      "execution_count": null,
      "outputs": [
        {
          "output_type": "execute_result",
          "data": {
            "text/plain": [
              "Hatchback        21031\n",
              "Car              20022\n",
              "Saloon           18810\n",
              "Motorbike        14567\n",
              "SUV / 4x4        12641\n",
              "Van               5027\n",
              "Three Wheel       4702\n",
              "Lorry             3900\n",
              "SUV               3238\n",
              "Station wagon     2683\n",
              "Pickup            1343\n",
              "Bus                925\n",
              "Unregistered       857\n",
              "Tractor            723\n",
              "MPV                614\n",
              "CoupÃ©/Sports      576\n",
              "Brand              527\n",
              "Wagon              470\n",
              "Heavy-Duty         328\n",
              "Convertible        230\n",
              "Cab                144\n",
              "Other                3\n",
              "Name: Body, dtype: int64"
            ]
          },
          "metadata": {},
          "execution_count": 315
        }
      ]
    },
    {
      "cell_type": "code",
      "source": [
        "df[\"Body\"] = df[\"Body\"].replace(\"CoupÃ©/Sports\",\"Coupe\",regex=True)"
      ],
      "metadata": {
        "id": "YOh1YzktcxZY"
      },
      "execution_count": null,
      "outputs": []
    },
    {
      "cell_type": "code",
      "source": [
        "df[\"Body\"].value_counts()"
      ],
      "metadata": {
        "id": "W64XSYmIdkhA",
        "colab": {
          "base_uri": "https://localhost:8080/"
        },
        "outputId": "a42daead-a9ac-418d-a25f-84bae6f4f5a0"
      },
      "execution_count": null,
      "outputs": [
        {
          "output_type": "execute_result",
          "data": {
            "text/plain": [
              "Hatchback        21031\n",
              "Car              20022\n",
              "Saloon           18810\n",
              "Motorbike        14567\n",
              "SUV / 4x4        12641\n",
              "Van               5027\n",
              "Three Wheel       4702\n",
              "Lorry             3900\n",
              "SUV               3238\n",
              "Station wagon     2683\n",
              "Pickup            1343\n",
              "Bus                925\n",
              "Unregistered       857\n",
              "Tractor            723\n",
              "MPV                614\n",
              "Coupe              576\n",
              "Brand              527\n",
              "Wagon              470\n",
              "Heavy-Duty         328\n",
              "Convertible        230\n",
              "Cab                144\n",
              "Other                3\n",
              "Name: Body, dtype: int64"
            ]
          },
          "metadata": {},
          "execution_count": 317
        }
      ]
    },
    {
      "cell_type": "markdown",
      "source": [
        "### Cleaning \"Transmission\" Column"
      ],
      "metadata": {
        "id": "3DFuppfglZ3z"
      }
    },
    {
      "cell_type": "code",
      "source": [
        "df[\"Transmission\"].value_counts()"
      ],
      "metadata": {
        "colab": {
          "base_uri": "https://localhost:8080/"
        },
        "id": "L0Pdrs3UleIt",
        "outputId": "871d01e5-370e-40d4-d367-98d8da779571"
      },
      "execution_count": null,
      "outputs": [
        {
          "output_type": "execute_result",
          "data": {
            "text/plain": [
              "Automatic             72458\n",
              "Manual                40608\n",
              "Tiptronic              5319\n",
              "Other transmission       45\n",
              "0                         4\n",
              "175                       4\n",
              "205                       4\n",
              "150                       3\n",
              "1500                      2\n",
              "1200                      1\n",
              "50                        1\n",
              "444444444                 1\n",
              "450                       1\n",
              "1490                      1\n",
              "11                        1\n",
              "2001                      1\n",
              "650                       1\n",
              "Name: Transmission, dtype: int64"
            ]
          },
          "metadata": {},
          "execution_count": 318
        }
      ]
    },
    {
      "cell_type": "code",
      "source": [
        "df[\"Transmission\"] = df[\"Transmission\"].replace([\"^0$\",\"175\",\"205\",\"^150$\",\"1500\",\"1200\",\"^50$\",\"444444444\",\"450\",\"1490\",\"11\",\"2001\",\"650\"],[\"Other\",\"Other\",\"Other\",\"Other\",\"Other\",\"Other\",\"Other\",\"Other\",\"Other\",\"Other\",\"Other\",\"Other\",\"Other\"],regex = True)\n",
        "df[\"Transmission\"] = df[\"Transmission\"].replace(\" transmission\",\"\",regex=True)"
      ],
      "metadata": {
        "id": "S9Xyzv9Blgj1"
      },
      "execution_count": null,
      "outputs": []
    },
    {
      "cell_type": "code",
      "source": [
        "df[\"Transmission\"].value_counts()"
      ],
      "metadata": {
        "colab": {
          "base_uri": "https://localhost:8080/"
        },
        "id": "f5yIrrgumdKX",
        "outputId": "29f1ba43-1416-47c2-db68-e375f3167ca3"
      },
      "execution_count": null,
      "outputs": [
        {
          "output_type": "execute_result",
          "data": {
            "text/plain": [
              "Automatic    72458\n",
              "Manual       40608\n",
              "Tiptronic     5319\n",
              "Other           70\n",
              "Name: Transmission, dtype: int64"
            ]
          },
          "metadata": {},
          "execution_count": 320
        }
      ]
    },
    {
      "cell_type": "code",
      "source": [
        "df[\"Transmission\"].isna().sum()"
      ],
      "metadata": {
        "colab": {
          "base_uri": "https://localhost:8080/"
        },
        "id": "yybY11i_PFbj",
        "outputId": "760f4bb2-e41b-4702-f0cd-4669d7a0e6f5"
      },
      "execution_count": null,
      "outputs": [
        {
          "output_type": "execute_result",
          "data": {
            "text/plain": [
              "1"
            ]
          },
          "metadata": {},
          "execution_count": 351
        }
      ]
    },
    {
      "cell_type": "code",
      "source": [
        "df[df[\"Transmission\"].isna()==True]"
      ],
      "metadata": {
        "id": "i83AF2uqmk7i",
        "colab": {
          "base_uri": "https://localhost:8080/",
          "height": 81
        },
        "outputId": "3b8a77f9-e404-4d44-a3e3-f29d49eab965"
      },
      "execution_count": null,
      "outputs": [
        {
          "output_type": "execute_result",
          "data": {
            "text/plain": [
              "           Name Brand Model  Price (Rs)    Year Condition Transmission  \\\n",
              "84114  TVS King   TVS  King    650000.0  2012.0      Used          NaN   \n",
              "\n",
              "              Body    Fuel  Capacity  Mileage  Location  Seller_type  \n",
              "84114  Three Wheel  Petrol    1300.0  64403.0   Negombo  Non-Premium  "
            ],
            "text/html": [
              "\n",
              "  <div id=\"df-47732ba9-ad90-4e16-837b-2bb278489e31\">\n",
              "    <div class=\"colab-df-container\">\n",
              "      <div>\n",
              "<style scoped>\n",
              "    .dataframe tbody tr th:only-of-type {\n",
              "        vertical-align: middle;\n",
              "    }\n",
              "\n",
              "    .dataframe tbody tr th {\n",
              "        vertical-align: top;\n",
              "    }\n",
              "\n",
              "    .dataframe thead th {\n",
              "        text-align: right;\n",
              "    }\n",
              "</style>\n",
              "<table border=\"1\" class=\"dataframe\">\n",
              "  <thead>\n",
              "    <tr style=\"text-align: right;\">\n",
              "      <th></th>\n",
              "      <th>Name</th>\n",
              "      <th>Brand</th>\n",
              "      <th>Model</th>\n",
              "      <th>Price (Rs)</th>\n",
              "      <th>Year</th>\n",
              "      <th>Condition</th>\n",
              "      <th>Transmission</th>\n",
              "      <th>Body</th>\n",
              "      <th>Fuel</th>\n",
              "      <th>Capacity</th>\n",
              "      <th>Mileage</th>\n",
              "      <th>Location</th>\n",
              "      <th>Seller_type</th>\n",
              "    </tr>\n",
              "  </thead>\n",
              "  <tbody>\n",
              "    <tr>\n",
              "      <th>84114</th>\n",
              "      <td>TVS King</td>\n",
              "      <td>TVS</td>\n",
              "      <td>King</td>\n",
              "      <td>650000.0</td>\n",
              "      <td>2012.0</td>\n",
              "      <td>Used</td>\n",
              "      <td>NaN</td>\n",
              "      <td>Three Wheel</td>\n",
              "      <td>Petrol</td>\n",
              "      <td>1300.0</td>\n",
              "      <td>64403.0</td>\n",
              "      <td>Negombo</td>\n",
              "      <td>Non-Premium</td>\n",
              "    </tr>\n",
              "  </tbody>\n",
              "</table>\n",
              "</div>\n",
              "      <button class=\"colab-df-convert\" onclick=\"convertToInteractive('df-47732ba9-ad90-4e16-837b-2bb278489e31')\"\n",
              "              title=\"Convert this dataframe to an interactive table.\"\n",
              "              style=\"display:none;\">\n",
              "        \n",
              "  <svg xmlns=\"http://www.w3.org/2000/svg\" height=\"24px\"viewBox=\"0 0 24 24\"\n",
              "       width=\"24px\">\n",
              "    <path d=\"M0 0h24v24H0V0z\" fill=\"none\"/>\n",
              "    <path d=\"M18.56 5.44l.94 2.06.94-2.06 2.06-.94-2.06-.94-.94-2.06-.94 2.06-2.06.94zm-11 1L8.5 8.5l.94-2.06 2.06-.94-2.06-.94L8.5 2.5l-.94 2.06-2.06.94zm10 10l.94 2.06.94-2.06 2.06-.94-2.06-.94-.94-2.06-.94 2.06-2.06.94z\"/><path d=\"M17.41 7.96l-1.37-1.37c-.4-.4-.92-.59-1.43-.59-.52 0-1.04.2-1.43.59L10.3 9.45l-7.72 7.72c-.78.78-.78 2.05 0 2.83L4 21.41c.39.39.9.59 1.41.59.51 0 1.02-.2 1.41-.59l7.78-7.78 2.81-2.81c.8-.78.8-2.07 0-2.86zM5.41 20L4 18.59l7.72-7.72 1.47 1.35L5.41 20z\"/>\n",
              "  </svg>\n",
              "      </button>\n",
              "      \n",
              "  <style>\n",
              "    .colab-df-container {\n",
              "      display:flex;\n",
              "      flex-wrap:wrap;\n",
              "      gap: 12px;\n",
              "    }\n",
              "\n",
              "    .colab-df-convert {\n",
              "      background-color: #E8F0FE;\n",
              "      border: none;\n",
              "      border-radius: 50%;\n",
              "      cursor: pointer;\n",
              "      display: none;\n",
              "      fill: #1967D2;\n",
              "      height: 32px;\n",
              "      padding: 0 0 0 0;\n",
              "      width: 32px;\n",
              "    }\n",
              "\n",
              "    .colab-df-convert:hover {\n",
              "      background-color: #E2EBFA;\n",
              "      box-shadow: 0px 1px 2px rgba(60, 64, 67, 0.3), 0px 1px 3px 1px rgba(60, 64, 67, 0.15);\n",
              "      fill: #174EA6;\n",
              "    }\n",
              "\n",
              "    [theme=dark] .colab-df-convert {\n",
              "      background-color: #3B4455;\n",
              "      fill: #D2E3FC;\n",
              "    }\n",
              "\n",
              "    [theme=dark] .colab-df-convert:hover {\n",
              "      background-color: #434B5C;\n",
              "      box-shadow: 0px 1px 3px 1px rgba(0, 0, 0, 0.15);\n",
              "      filter: drop-shadow(0px 1px 2px rgba(0, 0, 0, 0.3));\n",
              "      fill: #FFFFFF;\n",
              "    }\n",
              "  </style>\n",
              "\n",
              "      <script>\n",
              "        const buttonEl =\n",
              "          document.querySelector('#df-47732ba9-ad90-4e16-837b-2bb278489e31 button.colab-df-convert');\n",
              "        buttonEl.style.display =\n",
              "          google.colab.kernel.accessAllowed ? 'block' : 'none';\n",
              "\n",
              "        async function convertToInteractive(key) {\n",
              "          const element = document.querySelector('#df-47732ba9-ad90-4e16-837b-2bb278489e31');\n",
              "          const dataTable =\n",
              "            await google.colab.kernel.invokeFunction('convertToInteractive',\n",
              "                                                     [key], {});\n",
              "          if (!dataTable) return;\n",
              "\n",
              "          const docLinkHtml = 'Like what you see? Visit the ' +\n",
              "            '<a target=\"_blank\" href=https://colab.research.google.com/notebooks/data_table.ipynb>data table notebook</a>'\n",
              "            + ' to learn more about interactive tables.';\n",
              "          element.innerHTML = '';\n",
              "          dataTable['output_type'] = 'display_data';\n",
              "          await google.colab.output.renderOutput(dataTable, element);\n",
              "          const docLink = document.createElement('div');\n",
              "          docLink.innerHTML = docLinkHtml;\n",
              "          element.appendChild(docLink);\n",
              "        }\n",
              "      </script>\n",
              "    </div>\n",
              "  </div>\n",
              "  "
            ]
          },
          "metadata": {},
          "execution_count": 350
        }
      ]
    },
    {
      "cell_type": "markdown",
      "source": [
        "After Googling, I found that TVS King has manual transmission"
      ],
      "metadata": {
        "id": "UAdrg-4NPAy5"
      }
    },
    {
      "cell_type": "code",
      "source": [
        "df[\"Transmission\"].fillna(\"Manual\",inplace=True)"
      ],
      "metadata": {
        "id": "bDqpjmHNPb9T"
      },
      "execution_count": null,
      "outputs": []
    },
    {
      "cell_type": "code",
      "source": [
        "df[\"Transmission\"].value_counts()"
      ],
      "metadata": {
        "colab": {
          "base_uri": "https://localhost:8080/"
        },
        "id": "3zhF4ES_PzeW",
        "outputId": "bc8c00e5-091f-49ba-f772-b257d6e91636"
      },
      "execution_count": null,
      "outputs": [
        {
          "output_type": "execute_result",
          "data": {
            "text/plain": [
              "Automatic    72458\n",
              "Manual       40609\n",
              "Tiptronic     5319\n",
              "Other           70\n",
              "Name: Transmission, dtype: int64"
            ]
          },
          "metadata": {},
          "execution_count": 353
        }
      ]
    },
    {
      "cell_type": "markdown",
      "source": [
        "### Cleaning \"Year\" Column"
      ],
      "metadata": {
        "id": "omJqYGT3zbIw"
      }
    },
    {
      "cell_type": "code",
      "source": [
        "df.head()"
      ],
      "metadata": {
        "colab": {
          "base_uri": "https://localhost:8080/",
          "height": 206
        },
        "id": "g8uM8fVDze0J",
        "outputId": "afdfc56b-278c-489b-b87c-03c125044014"
      },
      "execution_count": null,
      "outputs": [
        {
          "output_type": "execute_result",
          "data": {
            "text/plain": [
              "                        Name   Brand               Model  Price (Rs)  Year  \\\n",
              "0                Honda Vezel   Honda               Vezel  12900000.0  2017   \n",
              "1                  Jaguar XF  Jaguar                  XF  16250000.0  2013   \n",
              "2                 Toyota CHR  Toyota                 CHR  17000000.0  2020   \n",
              "3                 Toyota CHR  Toyota                 CHR  13000000.0  2017   \n",
              "4  Toyota Land Cruiser Prado  Toyota  Land Cruiser Prado  33500000.0  2015   \n",
              "\n",
              "  Condition Transmission       Body    Fuel  Capacity  Mileage  \\\n",
              "0      Used    Automatic  SUV / 4x4  Hybrid    1500.0  37000.0   \n",
              "1      Used    Automatic     Saloon  Diesel    2200.0  42000.0   \n",
              "2      Used    Automatic  SUV / 4x4  Petrol    1200.0  15000.0   \n",
              "3      Used    Automatic  SUV / 4x4  Petrol    1200.0  21000.0   \n",
              "4      Used    Automatic  SUV / 4x4  Petrol    2700.0  57000.0   \n",
              "\n",
              "                        Location  Seller_type  \n",
              "0   Kurunegala City,  Kurunegala      Premium  \n",
              "1   Kurunegala City,  Kurunegala  Non-Premium  \n",
              "2            Colombo 7,  Colombo  Non-Premium  \n",
              "3            Colombo 7,  Colombo  Non-Premium  \n",
              "4             Kelaniya,  Gampaha  Non-Premium  "
            ],
            "text/html": [
              "\n",
              "  <div id=\"df-556a317a-c017-4d7c-8df9-7b407ae1f40f\">\n",
              "    <div class=\"colab-df-container\">\n",
              "      <div>\n",
              "<style scoped>\n",
              "    .dataframe tbody tr th:only-of-type {\n",
              "        vertical-align: middle;\n",
              "    }\n",
              "\n",
              "    .dataframe tbody tr th {\n",
              "        vertical-align: top;\n",
              "    }\n",
              "\n",
              "    .dataframe thead th {\n",
              "        text-align: right;\n",
              "    }\n",
              "</style>\n",
              "<table border=\"1\" class=\"dataframe\">\n",
              "  <thead>\n",
              "    <tr style=\"text-align: right;\">\n",
              "      <th></th>\n",
              "      <th>Name</th>\n",
              "      <th>Brand</th>\n",
              "      <th>Model</th>\n",
              "      <th>Price (Rs)</th>\n",
              "      <th>Year</th>\n",
              "      <th>Condition</th>\n",
              "      <th>Transmission</th>\n",
              "      <th>Body</th>\n",
              "      <th>Fuel</th>\n",
              "      <th>Capacity</th>\n",
              "      <th>Mileage</th>\n",
              "      <th>Location</th>\n",
              "      <th>Seller_type</th>\n",
              "    </tr>\n",
              "  </thead>\n",
              "  <tbody>\n",
              "    <tr>\n",
              "      <th>0</th>\n",
              "      <td>Honda Vezel</td>\n",
              "      <td>Honda</td>\n",
              "      <td>Vezel</td>\n",
              "      <td>12900000.0</td>\n",
              "      <td>2017</td>\n",
              "      <td>Used</td>\n",
              "      <td>Automatic</td>\n",
              "      <td>SUV / 4x4</td>\n",
              "      <td>Hybrid</td>\n",
              "      <td>1500.0</td>\n",
              "      <td>37000.0</td>\n",
              "      <td>Kurunegala City,  Kurunegala</td>\n",
              "      <td>Premium</td>\n",
              "    </tr>\n",
              "    <tr>\n",
              "      <th>1</th>\n",
              "      <td>Jaguar XF</td>\n",
              "      <td>Jaguar</td>\n",
              "      <td>XF</td>\n",
              "      <td>16250000.0</td>\n",
              "      <td>2013</td>\n",
              "      <td>Used</td>\n",
              "      <td>Automatic</td>\n",
              "      <td>Saloon</td>\n",
              "      <td>Diesel</td>\n",
              "      <td>2200.0</td>\n",
              "      <td>42000.0</td>\n",
              "      <td>Kurunegala City,  Kurunegala</td>\n",
              "      <td>Non-Premium</td>\n",
              "    </tr>\n",
              "    <tr>\n",
              "      <th>2</th>\n",
              "      <td>Toyota CHR</td>\n",
              "      <td>Toyota</td>\n",
              "      <td>CHR</td>\n",
              "      <td>17000000.0</td>\n",
              "      <td>2020</td>\n",
              "      <td>Used</td>\n",
              "      <td>Automatic</td>\n",
              "      <td>SUV / 4x4</td>\n",
              "      <td>Petrol</td>\n",
              "      <td>1200.0</td>\n",
              "      <td>15000.0</td>\n",
              "      <td>Colombo 7,  Colombo</td>\n",
              "      <td>Non-Premium</td>\n",
              "    </tr>\n",
              "    <tr>\n",
              "      <th>3</th>\n",
              "      <td>Toyota CHR</td>\n",
              "      <td>Toyota</td>\n",
              "      <td>CHR</td>\n",
              "      <td>13000000.0</td>\n",
              "      <td>2017</td>\n",
              "      <td>Used</td>\n",
              "      <td>Automatic</td>\n",
              "      <td>SUV / 4x4</td>\n",
              "      <td>Petrol</td>\n",
              "      <td>1200.0</td>\n",
              "      <td>21000.0</td>\n",
              "      <td>Colombo 7,  Colombo</td>\n",
              "      <td>Non-Premium</td>\n",
              "    </tr>\n",
              "    <tr>\n",
              "      <th>4</th>\n",
              "      <td>Toyota Land Cruiser Prado</td>\n",
              "      <td>Toyota</td>\n",
              "      <td>Land Cruiser Prado</td>\n",
              "      <td>33500000.0</td>\n",
              "      <td>2015</td>\n",
              "      <td>Used</td>\n",
              "      <td>Automatic</td>\n",
              "      <td>SUV / 4x4</td>\n",
              "      <td>Petrol</td>\n",
              "      <td>2700.0</td>\n",
              "      <td>57000.0</td>\n",
              "      <td>Kelaniya,  Gampaha</td>\n",
              "      <td>Non-Premium</td>\n",
              "    </tr>\n",
              "  </tbody>\n",
              "</table>\n",
              "</div>\n",
              "      <button class=\"colab-df-convert\" onclick=\"convertToInteractive('df-556a317a-c017-4d7c-8df9-7b407ae1f40f')\"\n",
              "              title=\"Convert this dataframe to an interactive table.\"\n",
              "              style=\"display:none;\">\n",
              "        \n",
              "  <svg xmlns=\"http://www.w3.org/2000/svg\" height=\"24px\"viewBox=\"0 0 24 24\"\n",
              "       width=\"24px\">\n",
              "    <path d=\"M0 0h24v24H0V0z\" fill=\"none\"/>\n",
              "    <path d=\"M18.56 5.44l.94 2.06.94-2.06 2.06-.94-2.06-.94-.94-2.06-.94 2.06-2.06.94zm-11 1L8.5 8.5l.94-2.06 2.06-.94-2.06-.94L8.5 2.5l-.94 2.06-2.06.94zm10 10l.94 2.06.94-2.06 2.06-.94-2.06-.94-.94-2.06-.94 2.06-2.06.94z\"/><path d=\"M17.41 7.96l-1.37-1.37c-.4-.4-.92-.59-1.43-.59-.52 0-1.04.2-1.43.59L10.3 9.45l-7.72 7.72c-.78.78-.78 2.05 0 2.83L4 21.41c.39.39.9.59 1.41.59.51 0 1.02-.2 1.41-.59l7.78-7.78 2.81-2.81c.8-.78.8-2.07 0-2.86zM5.41 20L4 18.59l7.72-7.72 1.47 1.35L5.41 20z\"/>\n",
              "  </svg>\n",
              "      </button>\n",
              "      \n",
              "  <style>\n",
              "    .colab-df-container {\n",
              "      display:flex;\n",
              "      flex-wrap:wrap;\n",
              "      gap: 12px;\n",
              "    }\n",
              "\n",
              "    .colab-df-convert {\n",
              "      background-color: #E8F0FE;\n",
              "      border: none;\n",
              "      border-radius: 50%;\n",
              "      cursor: pointer;\n",
              "      display: none;\n",
              "      fill: #1967D2;\n",
              "      height: 32px;\n",
              "      padding: 0 0 0 0;\n",
              "      width: 32px;\n",
              "    }\n",
              "\n",
              "    .colab-df-convert:hover {\n",
              "      background-color: #E2EBFA;\n",
              "      box-shadow: 0px 1px 2px rgba(60, 64, 67, 0.3), 0px 1px 3px 1px rgba(60, 64, 67, 0.15);\n",
              "      fill: #174EA6;\n",
              "    }\n",
              "\n",
              "    [theme=dark] .colab-df-convert {\n",
              "      background-color: #3B4455;\n",
              "      fill: #D2E3FC;\n",
              "    }\n",
              "\n",
              "    [theme=dark] .colab-df-convert:hover {\n",
              "      background-color: #434B5C;\n",
              "      box-shadow: 0px 1px 3px 1px rgba(0, 0, 0, 0.15);\n",
              "      filter: drop-shadow(0px 1px 2px rgba(0, 0, 0, 0.3));\n",
              "      fill: #FFFFFF;\n",
              "    }\n",
              "  </style>\n",
              "\n",
              "      <script>\n",
              "        const buttonEl =\n",
              "          document.querySelector('#df-556a317a-c017-4d7c-8df9-7b407ae1f40f button.colab-df-convert');\n",
              "        buttonEl.style.display =\n",
              "          google.colab.kernel.accessAllowed ? 'block' : 'none';\n",
              "\n",
              "        async function convertToInteractive(key) {\n",
              "          const element = document.querySelector('#df-556a317a-c017-4d7c-8df9-7b407ae1f40f');\n",
              "          const dataTable =\n",
              "            await google.colab.kernel.invokeFunction('convertToInteractive',\n",
              "                                                     [key], {});\n",
              "          if (!dataTable) return;\n",
              "\n",
              "          const docLinkHtml = 'Like what you see? Visit the ' +\n",
              "            '<a target=\"_blank\" href=https://colab.research.google.com/notebooks/data_table.ipynb>data table notebook</a>'\n",
              "            + ' to learn more about interactive tables.';\n",
              "          element.innerHTML = '';\n",
              "          dataTable['output_type'] = 'display_data';\n",
              "          await google.colab.output.renderOutput(dataTable, element);\n",
              "          const docLink = document.createElement('div');\n",
              "          docLink.innerHTML = docLinkHtml;\n",
              "          element.appendChild(docLink);\n",
              "        }\n",
              "      </script>\n",
              "    </div>\n",
              "  </div>\n",
              "  "
            ]
          },
          "metadata": {},
          "execution_count": 321
        }
      ]
    },
    {
      "cell_type": "code",
      "source": [
        "sns.boxplot(x=\"Year\",data=df)"
      ],
      "metadata": {
        "colab": {
          "base_uri": "https://localhost:8080/",
          "height": 466
        },
        "id": "5UDtz6ikzgXW",
        "outputId": "5fa026d4-ef14-4afa-9d2a-ef5445189c69"
      },
      "execution_count": null,
      "outputs": [
        {
          "output_type": "execute_result",
          "data": {
            "text/plain": [
              "<Axes: xlabel='Year'>"
            ]
          },
          "metadata": {},
          "execution_count": 322
        },
        {
          "output_type": "display_data",
          "data": {
            "text/plain": [
              "<Figure size 640x480 with 1 Axes>"
            ],
            "image/png": "[encoded data removed]"
          },
          "metadata": {}
        }
      ]
    },
    {
      "cell_type": "code",
      "source": [
        "df[\"Year\"].isna().sum()"
      ],
      "metadata": {
        "colab": {
          "base_uri": "https://localhost:8080/"
        },
        "id": "z-YMHDlOzyVL",
        "outputId": "40151f64-0707-4058-d785-76d60974a6f7"
      },
      "execution_count": null,
      "outputs": [
        {
          "output_type": "execute_result",
          "data": {
            "text/plain": [
              "0"
            ]
          },
          "metadata": {},
          "execution_count": 323
        }
      ]
    },
    {
      "cell_type": "code",
      "source": [
        "df[\"Year\"].loc[df[df[\"Year\"]>2023].index] = np.nan"
      ],
      "metadata": {
        "colab": {
          "base_uri": "https://localhost:8080/"
        },
        "id": "pyfevB-Dz2z5",
        "outputId": "dd99c12e-f615-4d7c-b739-6b8079436e43"
      },
      "execution_count": null,
      "outputs": [
        {
          "output_type": "stream",
          "name": "stderr",
          "text": [
            "<ipython-input-324-47803e2dadb6>:1: SettingWithCopyWarning: \n",
            "A value is trying to be set on a copy of a slice from a DataFrame\n",
            "\n",
            "See the caveats in the documentation: https://pandas.pydata.org/pandas-docs/stable/user_guide/indexing.html#returning-a-view-versus-a-copy\n",
            "  df[\"Year\"].loc[df[df[\"Year\"]>2023].index] = np.nan\n"
          ]
        }
      ]
    },
    {
      "cell_type": "code",
      "source": [
        "df[\"Year\"].loc[df[df[\"Year\"]<1700].index] = np.nan"
      ],
      "metadata": {
        "colab": {
          "base_uri": "https://localhost:8080/"
        },
        "id": "UWMYN0LG0Oew",
        "outputId": "970bbb94-dcb8-49f0-d4b1-c44806f544a8"
      },
      "execution_count": null,
      "outputs": [
        {
          "output_type": "stream",
          "name": "stderr",
          "text": [
            "<ipython-input-325-e9898180fd43>:1: SettingWithCopyWarning: \n",
            "A value is trying to be set on a copy of a slice from a DataFrame\n",
            "\n",
            "See the caveats in the documentation: https://pandas.pydata.org/pandas-docs/stable/user_guide/indexing.html#returning-a-view-versus-a-copy\n",
            "  df[\"Year\"].loc[df[df[\"Year\"]<1700].index] = np.nan\n"
          ]
        }
      ]
    },
    {
      "cell_type": "code",
      "source": [
        "df[\"Year\"].isna().sum()"
      ],
      "metadata": {
        "colab": {
          "base_uri": "https://localhost:8080/"
        },
        "id": "_p109ECU3PaP",
        "outputId": "a615eb51-84d9-4c20-c21f-017dc078ddb4"
      },
      "execution_count": null,
      "outputs": [
        {
          "output_type": "execute_result",
          "data": {
            "text/plain": [
              "18"
            ]
          },
          "metadata": {},
          "execution_count": 327
        }
      ]
    },
    {
      "cell_type": "code",
      "source": [
        "df[\"Year\"].fillna(df[\"Year\"].median(), inplace=True)"
      ],
      "metadata": {
        "id": "M9iwSxmz18uL"
      },
      "execution_count": null,
      "outputs": []
    },
    {
      "cell_type": "code",
      "source": [
        "df[\"Year\"].isna().sum()"
      ],
      "metadata": {
        "colab": {
          "base_uri": "https://localhost:8080/"
        },
        "id": "cQKRdo5R4Hho",
        "outputId": "2777c107-3555-46ba-f288-311da0b6c5ba"
      },
      "execution_count": null,
      "outputs": [
        {
          "output_type": "execute_result",
          "data": {
            "text/plain": [
              "0"
            ]
          },
          "metadata": {},
          "execution_count": 331
        }
      ]
    },
    {
      "cell_type": "code",
      "source": [
        "sns.boxplot(x=\"Year\",data=df)"
      ],
      "metadata": {
        "colab": {
          "base_uri": "https://localhost:8080/",
          "height": 466
        },
        "id": "kWFYLihB2R64",
        "outputId": "c81dc6ad-7426-45a8-ba5b-0fb74cb77ba5"
      },
      "execution_count": null,
      "outputs": [
        {
          "output_type": "execute_result",
          "data": {
            "text/plain": [
              "<Axes: xlabel='Year'>"
            ]
          },
          "metadata": {},
          "execution_count": 332
        },
        {
          "output_type": "display_data",
          "data": {
            "text/plain": [
              "<Figure size 640x480 with 1 Axes>"
            ],
            "image/png": "[encoded data removed]"
          },
          "metadata": {}
        }
      ]
    },
    {
      "cell_type": "markdown",
      "source": [
        "No further preprocessing needed. Outliers cannot be removed considering how the vehicle models can have these Year values. Vintage automobiles, for example."
      ],
      "metadata": {
        "id": "dUl7YYLU4PQk"
      }
    },
    {
      "cell_type": "markdown",
      "source": [
        "### Cleaning \"Location\" column"
      ],
      "metadata": {
        "id": "tt8RoSFl4_OX"
      }
    },
    {
      "cell_type": "code",
      "source": [
        "df[\"Location\"].value_counts()"
      ],
      "metadata": {
        "colab": {
          "base_uri": "https://localhost:8080/"
        },
        "id": "ReQctIFX6JX6",
        "outputId": "48adb3f2-6353-48d4-c32c-be8f8e347690"
      },
      "execution_count": null,
      "outputs": [
        {
          "output_type": "execute_result",
          "data": {
            "text/plain": [
              " Colombo                    5040\n",
              " Kohuwala,  Colombo         4362\n",
              " Kurunegala                 4239\n",
              " Gampaha                    4001\n",
              " Kandy                      3748\n",
              "                            ... \n",
              " Kitulgala,  Kegalle           2\n",
              " Madawala Bazaar,  Kandy       2\n",
              " Madulla,  Nuwara Eliya        1\n",
              " Mullativu,  Mullativu         1\n",
              " Sigiriya,  Matale             1\n",
              "Name: Location, Length: 328, dtype: int64"
            ]
          },
          "metadata": {},
          "execution_count": 333
        }
      ]
    },
    {
      "cell_type": "code",
      "source": [
        "df[\"Location\"].nunique()"
      ],
      "metadata": {
        "colab": {
          "base_uri": "https://localhost:8080/"
        },
        "id": "t9Got9yA85vB",
        "outputId": "8a5cb594-c528-4b1f-c609-51b7c3024026"
      },
      "execution_count": null,
      "outputs": [
        {
          "output_type": "execute_result",
          "data": {
            "text/plain": [
              "328"
            ]
          },
          "metadata": {},
          "execution_count": 335
        }
      ]
    },
    {
      "cell_type": "code",
      "source": [
        "df[\"Location\"] = df[\"Location\"].replace()"
      ],
      "metadata": {
        "id": "sTaaE66t894T"
      },
      "execution_count": null,
      "outputs": []
    },
    {
      "cell_type": "markdown",
      "source": [
        "### Cleaning \"Condition\" column"
      ],
      "metadata": {
        "id": "o-ejXaVULXm7"
      }
    },
    {
      "cell_type": "code",
      "source": [
        "df[\"Condition\"].value_counts()"
      ],
      "metadata": {
        "colab": {
          "base_uri": "https://localhost:8080/"
        },
        "id": "3XcCqo8rLbiS",
        "outputId": "92bba059-e0e2-4bdb-9168-6bb0145753a2"
      },
      "execution_count": null,
      "outputs": [
        {
          "output_type": "execute_result",
          "data": {
            "text/plain": [
              "Used             115001\n",
              "Reconditioned      1465\n",
              "Recondition         857\n",
              "New                 606\n",
              "e                   527\n",
              "Name: Condition, dtype: int64"
            ]
          },
          "metadata": {},
          "execution_count": 338
        }
      ]
    },
    {
      "cell_type": "code",
      "source": [
        "df[\"Condition\"].isna().sum()"
      ],
      "metadata": {
        "colab": {
          "base_uri": "https://localhost:8080/"
        },
        "id": "51deZlTNLbfv",
        "outputId": "5874a806-ba63-4bf7-dc01-016f3ffaa60e"
      },
      "execution_count": null,
      "outputs": [
        {
          "output_type": "execute_result",
          "data": {
            "text/plain": [
              "0"
            ]
          },
          "metadata": {},
          "execution_count": 339
        }
      ]
    },
    {
      "cell_type": "code",
      "source": [
        "df[\"Condition\"] = df[\"Condition\"].replace(\"^Recondition$\",\"Reconditioned\",regex=True)"
      ],
      "metadata": {
        "id": "ag4dpeaALbY-"
      },
      "execution_count": null,
      "outputs": []
    },
    {
      "cell_type": "markdown",
      "source": [
        "Replacing 'e' with 'New' if Mileage is 0 km\n",
        "Replacing 'e' with 'Used' if Mileage is >0 km"
      ],
      "metadata": {
        "id": "bee-kUd4MG06"
      }
    },
    {
      "cell_type": "code",
      "source": [
        "df.loc[df[\"Condition\"][df[\"Mileage\"] == 0].index,\"Condition\"] = df[\"Condition\"].replace(\"^e$\",\"New\",regex=True)"
      ],
      "metadata": {
        "id": "dxc2TH3fLbRS"
      },
      "execution_count": null,
      "outputs": []
    },
    {
      "cell_type": "code",
      "source": [
        "df.loc[df[\"Condition\"][df[\"Mileage\"] > 0].index,\"Condition\"] = df[\"Condition\"].replace(\"^e$\",\"Used\",regex=True)"
      ],
      "metadata": {
        "id": "SHYmuHmiN5aJ"
      },
      "execution_count": null,
      "outputs": []
    },
    {
      "cell_type": "code",
      "source": [
        "df[\"Condition\"].value_counts()"
      ],
      "metadata": {
        "colab": {
          "base_uri": "https://localhost:8080/"
        },
        "id": "drHRPPbBN5Su",
        "outputId": "7b3889d2-9e51-4ebd-9674-ad3d844b2f03"
      },
      "execution_count": null,
      "outputs": [
        {
          "output_type": "execute_result",
          "data": {
            "text/plain": [
              "Used             115181\n",
              "Reconditioned      2322\n",
              "New                 953\n",
              "Name: Condition, dtype: int64"
            ]
          },
          "metadata": {},
          "execution_count": 344
        }
      ]
    },
    {
      "cell_type": "code",
      "source": [],
      "metadata": {
        "id": "na7uiM3dN5HB"
      },
      "execution_count": null,
      "outputs": []
    },
    {
      "cell_type": "markdown",
      "source": [
        "# **5. Exporting clean file to the same folder to be used for modelling**\n",
        "--- "
      ],
      "metadata": {
        "id": "AvXF0zs2Kjh-"
      }
    },
    {
      "cell_type": "code",
      "source": [
        "path = '/content/drive/My Drive/Datasets and Codebooks/Srilankan VPP/vehicle_data_cleaned.csv'\n",
        "with open(path, 'w', encoding = 'utf-8-sig') as f:\n",
        "  df.to_csv(f)"
      ],
      "metadata": {
        "id": "lH50HCoEKDgZ"
      },
      "execution_count": null,
      "outputs": []
    }
  ]
}